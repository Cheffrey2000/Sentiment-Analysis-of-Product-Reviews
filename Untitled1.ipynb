{
 "cells": [
  {
   "cell_type": "code",
   "execution_count": 1,
   "metadata": {
    "ExecuteTime": {
     "end_time": "2020-03-31T18:33:28.471245Z",
     "start_time": "2020-03-31T18:33:27.845203Z"
    }
   },
   "outputs": [],
   "source": [
    "import pandas as pd\n"
   ]
  },
  {
   "cell_type": "code",
   "execution_count": 3,
   "metadata": {
    "ExecuteTime": {
     "end_time": "2020-03-31T18:35:19.326431Z",
     "start_time": "2020-03-31T18:35:12.357349Z"
    }
   },
   "outputs": [
    {
     "data": {
      "text/html": [
       "<div>\n",
       "<style scoped>\n",
       "    .dataframe tbody tr th:only-of-type {\n",
       "        vertical-align: middle;\n",
       "    }\n",
       "\n",
       "    .dataframe tbody tr th {\n",
       "        vertical-align: top;\n",
       "    }\n",
       "\n",
       "    .dataframe thead th {\n",
       "        text-align: right;\n",
       "    }\n",
       "</style>\n",
       "<table border=\"1\" class=\"dataframe\">\n",
       "  <thead>\n",
       "    <tr style=\"text-align: right;\">\n",
       "      <th></th>\n",
       "      <th>marketplace</th>\n",
       "      <th>customer_id</th>\n",
       "      <th>review_id</th>\n",
       "      <th>product_id</th>\n",
       "      <th>product_parent</th>\n",
       "      <th>product_title</th>\n",
       "      <th>product_category</th>\n",
       "      <th>star_rating</th>\n",
       "      <th>helpful_votes</th>\n",
       "      <th>total_votes</th>\n",
       "      <th>vine</th>\n",
       "      <th>verified_purchase</th>\n",
       "      <th>review_headline</th>\n",
       "      <th>review_body</th>\n",
       "      <th>review_date</th>\n",
       "    </tr>\n",
       "  </thead>\n",
       "  <tbody>\n",
       "    <tr>\n",
       "      <th>0</th>\n",
       "      <td>US</td>\n",
       "      <td>25416447</td>\n",
       "      <td>R1ZY2MOSFLC3IU</td>\n",
       "      <td>B00P170G5Q</td>\n",
       "      <td>201428350</td>\n",
       "      <td>New Waterproof Shockproof Dirtproof Snowproof ...</td>\n",
       "      <td>Wireless</td>\n",
       "      <td>2.0</td>\n",
       "      <td>2.0</td>\n",
       "      <td>2.0</td>\n",
       "      <td>N</td>\n",
       "      <td>Y</td>\n",
       "      <td>I cannot close one side of the case completely...</td>\n",
       "      <td>I cannot close one side of the case completely...</td>\n",
       "      <td>2015-01-05</td>\n",
       "    </tr>\n",
       "    <tr>\n",
       "      <th>1</th>\n",
       "      <td>US</td>\n",
       "      <td>21391188</td>\n",
       "      <td>RHQU7KVHWQ4H2</td>\n",
       "      <td>B00HRLEKG0</td>\n",
       "      <td>440276376</td>\n",
       "      <td>Koomus Bike Go Bike Mount - Black</td>\n",
       "      <td>Wireless</td>\n",
       "      <td>3.0</td>\n",
       "      <td>0.0</td>\n",
       "      <td>0.0</td>\n",
       "      <td>N</td>\n",
       "      <td>Y</td>\n",
       "      <td>Frowning...</td>\n",
       "      <td>Looks nice, however it seems like chinsy const...</td>\n",
       "      <td>2015-08-26</td>\n",
       "    </tr>\n",
       "    <tr>\n",
       "      <th>2</th>\n",
       "      <td>US</td>\n",
       "      <td>24545878</td>\n",
       "      <td>R1IPE13DS5KNA3</td>\n",
       "      <td>B007PRVA96</td>\n",
       "      <td>437290944</td>\n",
       "      <td>MYBAT Heart Galaxy Diamante Phone Protector Co...</td>\n",
       "      <td>Wireless</td>\n",
       "      <td>5.0</td>\n",
       "      <td>0.0</td>\n",
       "      <td>0.0</td>\n",
       "      <td>N</td>\n",
       "      <td>Y</td>\n",
       "      <td>Great case!</td>\n",
       "      <td>This case is so pretty and sparkly and I get c...</td>\n",
       "      <td>2012-12-26</td>\n",
       "    </tr>\n",
       "    <tr>\n",
       "      <th>3</th>\n",
       "      <td>US</td>\n",
       "      <td>12801326</td>\n",
       "      <td>RZJPGXYSHQZ2H</td>\n",
       "      <td>B000UU7ZPS</td>\n",
       "      <td>134650851</td>\n",
       "      <td>Garmin nüvi 260 3.5-Inch Portable GPS Navigator</td>\n",
       "      <td>Wireless</td>\n",
       "      <td>5.0</td>\n",
       "      <td>1.0</td>\n",
       "      <td>1.0</td>\n",
       "      <td>N</td>\n",
       "      <td>Y</td>\n",
       "      <td>Excellent GPS</td>\n",
       "      <td>I previously owned the Garmin C330. This was a...</td>\n",
       "      <td>2008-01-14</td>\n",
       "    </tr>\n",
       "    <tr>\n",
       "      <th>4</th>\n",
       "      <td>US</td>\n",
       "      <td>51044660</td>\n",
       "      <td>R1TXRMU7BZGGP8</td>\n",
       "      <td>B00SHZDSRW</td>\n",
       "      <td>249550984</td>\n",
       "      <td>iPod Touch 5 / iPod Touch 6, Touch 5 / Touch 6...</td>\n",
       "      <td>Wireless</td>\n",
       "      <td>5.0</td>\n",
       "      <td>0.0</td>\n",
       "      <td>0.0</td>\n",
       "      <td>N</td>\n",
       "      <td>Y</td>\n",
       "      <td>Great Buy and Value</td>\n",
       "      <td>Bought this for my granddaughter and she absol...</td>\n",
       "      <td>2015-07-16</td>\n",
       "    </tr>\n",
       "  </tbody>\n",
       "</table>\n",
       "</div>"
      ],
      "text/plain": [
       "  marketplace  customer_id       review_id  product_id  product_parent  \\\n",
       "0          US     25416447  R1ZY2MOSFLC3IU  B00P170G5Q       201428350   \n",
       "1          US     21391188   RHQU7KVHWQ4H2  B00HRLEKG0       440276376   \n",
       "2          US     24545878  R1IPE13DS5KNA3  B007PRVA96       437290944   \n",
       "3          US     12801326   RZJPGXYSHQZ2H  B000UU7ZPS       134650851   \n",
       "4          US     51044660  R1TXRMU7BZGGP8  B00SHZDSRW       249550984   \n",
       "\n",
       "                                       product_title product_category  \\\n",
       "0  New Waterproof Shockproof Dirtproof Snowproof ...         Wireless   \n",
       "1                  Koomus Bike Go Bike Mount - Black         Wireless   \n",
       "2  MYBAT Heart Galaxy Diamante Phone Protector Co...         Wireless   \n",
       "3    Garmin nüvi 260 3.5-Inch Portable GPS Navigator         Wireless   \n",
       "4  iPod Touch 5 / iPod Touch 6, Touch 5 / Touch 6...         Wireless   \n",
       "\n",
       "   star_rating  helpful_votes  total_votes vine verified_purchase  \\\n",
       "0          2.0            2.0          2.0    N                 Y   \n",
       "1          3.0            0.0          0.0    N                 Y   \n",
       "2          5.0            0.0          0.0    N                 Y   \n",
       "3          5.0            1.0          1.0    N                 Y   \n",
       "4          5.0            0.0          0.0    N                 Y   \n",
       "\n",
       "                                     review_headline  \\\n",
       "0  I cannot close one side of the case completely...   \n",
       "1                                        Frowning...   \n",
       "2                                        Great case!   \n",
       "3                                      Excellent GPS   \n",
       "4                                Great Buy and Value   \n",
       "\n",
       "                                         review_body review_date  \n",
       "0  I cannot close one side of the case completely...  2015-01-05  \n",
       "1  Looks nice, however it seems like chinsy const...  2015-08-26  \n",
       "2  This case is so pretty and sparkly and I get c...  2012-12-26  \n",
       "3  I previously owned the Garmin C330. This was a...  2008-01-14  \n",
       "4  Bought this for my granddaughter and she absol...  2015-07-16  "
      ]
     },
     "execution_count": 3,
     "metadata": {},
     "output_type": "execute_result"
    }
   ],
   "source": [
    "df = pd.read_csv('working_file_sampled.csv.zip')\n",
    "df.head()"
   ]
  },
  {
   "cell_type": "code",
   "execution_count": null,
   "metadata": {},
   "outputs": [],
   "source": []
  }
 ],
 "metadata": {
  "kernelspec": {
   "display_name": "Python [conda env:learn-env] *",
   "language": "python",
   "name": "conda-env-learn-env-py"
  },
  "language_info": {
   "codemirror_mode": {
    "name": "ipython",
    "version": 3
   },
   "file_extension": ".py",
   "mimetype": "text/x-python",
   "name": "python",
   "nbconvert_exporter": "python",
   "pygments_lexer": "ipython3",
   "version": "3.6.6"
  },
  "toc": {
   "base_numbering": 1,
   "nav_menu": {},
   "number_sections": false,
   "sideBar": true,
   "skip_h1_title": false,
   "title_cell": "Table of Contents",
   "title_sidebar": "Contents",
   "toc_cell": false,
   "toc_position": {},
   "toc_section_display": true,
   "toc_window_display": false
  },
  "varInspector": {
   "cols": {
    "lenName": 16,
    "lenType": 16,
    "lenVar": 40
   },
   "kernels_config": {
    "python": {
     "delete_cmd_postfix": "",
     "delete_cmd_prefix": "del ",
     "library": "var_list.py",
     "varRefreshCmd": "print(var_dic_list())"
    },
    "r": {
     "delete_cmd_postfix": ") ",
     "delete_cmd_prefix": "rm(",
     "library": "var_list.r",
     "varRefreshCmd": "cat(var_dic_list()) "
    }
   },
   "types_to_exclude": [
    "module",
    "function",
    "builtin_function_or_method",
    "instance",
    "_Feature"
   ],
   "window_display": false
  }
 },
 "nbformat": 4,
 "nbformat_minor": 2
}
