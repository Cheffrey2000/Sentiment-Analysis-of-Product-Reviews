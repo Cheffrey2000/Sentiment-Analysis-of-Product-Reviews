<<<<<<< HEAD
version https://git-lfs.github.com/spec/v1
oid sha256:533004f3a39cad9790852cacecd0af9913abb6d04bba74524e0ff9903db6eacf
size 15981
=======
{
 "cells": [
  {
   "cell_type": "markdown",
   "metadata": {
    "ExecuteTime": {
     "end_time": "2020-03-18T15:08:48.187956Z",
     "start_time": "2020-03-18T15:08:48.159956Z"
    }
   },
   "source": [
    "# Sentiment Analysis:  \n",
    "Extracting Sentiment from Amazon Reviews"
   ]
  },
  {
   "cell_type": "markdown",
   "metadata": {},
   "source": [
    "***"
   ]
  },
  {
   "cell_type": "markdown",
   "metadata": {},
   "source": [
    "<img align=\"left\" src='amazon_gif.jpg' width=\"400\"  alt=\"Amazon Review graphic\" title='Amazon Pic' />"
   ]
  },
  {
   "cell_type": "markdown",
   "metadata": {
    "ExecuteTime": {
     "end_time": "2020-03-19T20:14:39.123528Z",
     "start_time": "2020-03-19T20:14:39.052524Z"
    }
   },
   "source": [
    "***"
   ]
  },
  {
   "cell_type": "markdown",
   "metadata": {},
   "source": [
    "## Introduction"
   ]
  },
  {
   "cell_type": "markdown",
   "metadata": {},
   "source": [
    "Customer reviews are extremely important these days.  A review on a product can not only drive the sale of the item, but positive and negative reviews can position your product higher or lower in the a customer's search.  This makes determining the sentiment of a review important as well as knowing which words drive that sentiment.  The goal here is to identify these words and help sellers to suggest keywords to influencers to use in reviews to maximize review effectiveness."
   ]
  },
  {
   "cell_type": "markdown",
   "metadata": {},
   "source": [
    "## The Problem"
   ]
  },
  {
   "cell_type": "markdown",
   "metadata": {},
   "source": [
    "E-commerce sellers are constantly fighting for the top position in a search as well as the good reviews that give customers the confidence to purchase a product. Some sellers will even ask influencers to provide reviews in exchange for product discounts or even total purchase price reimbursement. This makes learning the key words that drive positive reviews very important. We aim to build a dashboard which will scrape Amazon in real time and provide those words within your chosen criteria."
   ]
  },
  {
   "cell_type": "markdown",
   "metadata": {},
   "source": [
    "<img align=\"right\" src='seller_rank.png' width=\"400\"  alt=\"Seller rank graphic\" title='Seller Rank Pic' />"
   ]
  },
  {
   "cell_type": "markdown",
   "metadata": {},
   "source": [
    "## The Data "
   ]
  },
  {
   "cell_type": "markdown",
   "metadata": {},
   "source": [
    "#### The data for this project is from a data set curated by Amazon and can be found here:\n",
    "https://s3.amazonaws.com/amazon-reviews-pds/readme.html"
   ]
  },
  {
   "cell_type": "markdown",
   "metadata": {},
   "source": [
    "The dataset contains the customer review text with accompanying metadata :  \n",
    "- A collection of reviews written in the Amazon.com marketplace and associated metadata from 1995 until 2015. This is intended to facilitate study into the properties (and the evolution) of customer reviews potentially including how people evaluate and express their experiences with respect to products at scale.\n"
   ]
  },
  {
   "cell_type": "markdown",
   "metadata": {},
   "source": [
    "<img align='left' src='Dataframe.JPG' width='800' alt='Dataframe Image' title='Dataframe Image' />"
   ]
  },
  {
   "cell_type": "markdown",
   "metadata": {},
   "source": [
    "#### The data is offered as almost 50 zip files separated by category and contained a total of over 140 Million reviews.    \n",
    "To get a more manageable size file to work with it was necessary to do the following:  \n",
    "- Load each file and take a random sample of 100k reviews\n",
    "- Concatenate the files together to form one working DataFrame\n",
    "- Remove all 3 star reviews make for better training data\n",
    "- Categorize the reviews as either:  \n",
    "    - 4 star and 5 star as positive  \n",
    "    - 1 star and 2 star as negative"
   ]
  },
  {
   "cell_type": "markdown",
   "metadata": {},
   "source": [
    "# Preparing the data set  \n",
    "The data obtained for this project was very clean and didn't require much in order to get it to a manageable state.  Following are a few of the actions that were taken to optimize the data for this problem.  \n",
    "\n",
    "The process can be seen here: [Preparing the Data](./ETL%20-%20Building%20the%20Working%20Dataset.ipynb#Preparing_the_Data)"
   ]
  },
  {
   "cell_type": "markdown",
   "metadata": {},
   "source": [
    "\n",
    "#### Classifying the reviews  \n",
    "- First the reviews were visualized to understand their distribution\n",
    "- Next all of the 3 star reviews were discarded for their ambiguity\n",
    "- Finally the reviews were categorized as \"Positive (1) and Negative (0) for classification purposes.  \n",
    "    - 4's and 5's were converted to 1's\n",
    "    - 1's and 2's were converted to 0's  \n",
    "[Link to the Graph](./ETL%20-%20Building%20the%20Working%20Dataset.ipynb#star_ranking_graph)"
   ]
  },
  {
   "cell_type": "markdown",
   "metadata": {},
   "source": [
    "<img align='center' src='star_counts.JPG' width='600' alt='Star Counts' title='Star Counts' />"
   ]
  },
  {
   "cell_type": "markdown",
   "metadata": {},
   "source": [
    "#### Removing unnecessary data   \n",
    "A few columns were not important to this study, so they were removed.  \n",
    "-  _Marketplace_ - Identifies the country the purchase was made in.  All reviews in this set were from USA.\n",
    "- _Review_id_ - A unique identifier\n",
    "- _star_rating_ - The star rating given to the product. After classifying the reviews into positive and negative, this became redundant.\n",
    "- _review_date_ - The date the review was made. This has no bearing on the sentiment of the review.\n",
    "- _product_title_ - This is just the name of the product and serves no purpose in this analysis.  \n",
    "  \n",
    "There were also a few entries with Null values, and due to their small number, they were simply removed from the analysis.  \n",
    "This process can be seen here: [Dropping the Null Values](./ETL%20-%20Building%20the%20Working%20Dataset.ipynb#dropping_nulls)"
   ]
  },
  {
   "cell_type": "markdown",
   "metadata": {},
   "source": [
    "<img align='left' src='null_values.JPG' width='800' alt='Null Value Counts' title='Value Counts' />"
   ]
  },
  {
   "cell_type": "markdown",
   "metadata": {},
   "source": [
    "# Processing the Text  \n",
    "The next step in the process was to tokenize the text using the tools available  in the NLTK Package. With these tools, new features were engineered for the analysis, the features are as follows:\n",
    "- Tokenizing first by sentence then by words to create:\n",
    "    - _tokenized_review_body_\n",
    "    - _tokenized_review_headline_\n",
    "    as seen here: [Tokenizing Process](./Pipeline.ipynb#tokenizing)\n",
    "- Removing Stopwords which was amended to include extraneous values like \"...\" and random numbers to create the features:\n",
    "    - _stopped_review_headline_  \n",
    "    - _stopped_review_body_\n",
    "    - The process can be seen here: [Removing Stopwords](./Pipeline.ipynb#stopwords)\n",
    "- Next the data was processed to break it down into the words and their parts of speech, which yielded:\n",
    "    - _body_pos_tagged_\n",
    "    - _headline_pos_tagged_\n",
    "    The proces can be seen here: [POS Tagging](./Pipeline.ipynb#pos_tags)"
   ]
  },
  {
   "cell_type": "markdown",
   "metadata": {},
   "source": [
    "# Preparing for Analysis  \n",
    "Now that the text was how we wanted it, we were ready to begin the analysis.  For this project we decided to use a process called TF-IDF or _Term Frequency Inverse Document Frequency_. This process reflects how important a word is in the document. This is done by multiplying two metrics: how many times a word appears in a document, and the inverse document frequency of the word across a set of documents.  \n",
    "To prepare for this a few collections were made:  \n",
    "- A set of [all words](./Pipeline.ipynb#all_words) (A sort of private dictionary or vocabulary for the documents)  \n",
    "- A [Frequency distribution](./Pipeline.ipynb#freq_dist) (the number of times a word appears in the documents)  \n",
    "- A [concatenation](./Pipeline.ipynb#cancatenation) of all reviews"
   ]
  },
  {
   "cell_type": "markdown",
   "metadata": {},
   "source": [
    "# Visualizations\n",
    "In order to get a better idea of the data, and to see if any further processing was necessary, the data was visualized in a few ways."
   ]
  },
  {
   "cell_type": "markdown",
   "metadata": {},
   "source": [
    "#### First a graph of the frequency of the most popular words was made from the Frequency Distribution.  \n",
    "The graph can be found here: [Frequency Distribution Graph](./Pipeline.ipynb#freq_dist_graph)"
   ]
  },
  {
   "cell_type": "markdown",
   "metadata": {},
   "source": [
    "<img align='left' src='all_words_bar.png' width='800' alt='All Words Frequency Distribution' title='All Negative Words' />"
   ]
  },
  {
   "cell_type": "markdown",
   "metadata": {},
   "source": [
    "#### Next a graph of the frequency of the most popular words from the negative reviews.  \n",
    "The graph  can be found here: [Negative words Frequency Distribution Graph](./Pipeline.ipynb#neg_freq_dist) "
   ]
  },
  {
   "cell_type": "markdown",
   "metadata": {
    "ExecuteTime": {
     "end_time": "2020-03-22T18:29:11.788691Z",
     "start_time": "2020-03-22T18:29:11.651695Z"
    }
   },
   "source": [
    "<img align='left' src='neg_words_bar.png' width='800' alt='Negative Words Frequency Distribution' title='Negative Words' />"
   ]
  },
  {
   "cell_type": "markdown",
   "metadata": {},
   "source": [
    "#### Next a graph of the frequency of the most popular words from the positive reviews.  \n",
    "The graph  can be found here: [Positive words Frequency Distribution Graph](./Pipeline.ipynb#pos_freq_dist)"
   ]
  },
  {
   "cell_type": "markdown",
   "metadata": {},
   "source": [
    "<img align='left' src='pos_words_bar.png' width='800' alt='Positive Words Frequency Distribution' title='All Positive Words' />"
   ]
  },
  {
   "cell_type": "markdown",
   "metadata": {},
   "source": [
    "#### In order to get a better visualization of the words in each category, a WordCloud was created from each frequency distribution.  "
   ]
  },
  {
   "cell_type": "markdown",
   "metadata": {},
   "source": [
    "All Words WordCloud\n",
    "[Link to All Words WordCloud](./Pipeline.ipynb#all_words_cloud)\n",
    "<img align='center' src='all_words_cloud.png' width='800' alt='All Words Cloud' title='All Words Cloud' />"
   ]
  },
  {
   "cell_type": "markdown",
   "metadata": {},
   "source": [
    "Negative Words WordCloud\n",
    "[Link to Negative Words WordCloud](./Pipeline.ipynb#neg_words_cloud)\n",
    "<img align='center' src='neg_words_cloud.png' width='800' alt='Negative Words Cloud' title='Negative Words Cloud' />"
   ]
  },
  {
   "cell_type": "markdown",
   "metadata": {},
   "source": [
    "Positive Words WordCloud\n",
    "[Link to Positive Words WordCloud](./Pipeline.ipynb#pos_words_cloud)\n",
    "<img align='center' src='pos_words_cloud.png' width='800' alt='Positive Words Cloud' title='Positive Words Cloud' />"
   ]
  },
  {
   "cell_type": "markdown",
   "metadata": {},
   "source": [
    "# Modeling  \n",
    "Next, we began setting up the files for modeling by creating:  \n",
    "- Train Test Split  \n",
    "    - Splitting the data into 80% Training and 20% Testing\n",
    "- Vectorizing the words using TF-IDF (Term Frequency Inverse Document Frequency)  \n",
    "- A DataFrame for comparison of the model results"
   ]
  },
  {
   "cell_type": "markdown",
   "metadata": {},
   "source": [
    "#### seven model combinations were attempted on this data and they are as follows:  \n",
    "- MultiNomial Naive Bayes\n",
    "    - Target - Review Body  \n",
    "- RandomForest\n",
    "    - Target - Review Body  \n",
    "- LogisticRegression\n",
    "    - Target - Review Body\n",
    "    - Target - Review Headline\n",
    "    - Target - Tokenized Headlines\n",
    "- LinearSVC\n",
    "    - Target - Tokenized Headlines\n"
   ]
  },
  {
   "cell_type": "markdown",
   "metadata": {},
   "source": [
    "#### Below is a table of the accuracy scores for each model\n",
    "<img align='left' src='model_comparison.png' width='500' alt='Model Comparison' title='Model comparison' />"
   ]
  },
  {
   "cell_type": "markdown",
   "metadata": {},
   "source": [
    "# Conclusion\n",
    "- Much of the sentiment seems to be captured by the headlines\n",
    "- NaiveBayes and Random Forest were not very effective on this dataset\n",
    "- LinearRegresion with the review body was just slightly better than on the headline\n",
    "- Linear SVC seems to have better captured the sentiment of the review body  \n",
    "\n",
    "Being able to understand the sentiment of the reviews and the words associated with both positive and negative reviews is important to Amazon sellers and can be useful in many ways.\n",
    "- Using positive words in post sale communication to encourage certain words to be included in reviews may help move a product up in the search results.\n",
    "- Identifying negative words to discover if a false positive review was made"
   ]
  },
  {
   "cell_type": "markdown",
   "metadata": {},
   "source": [
    "# Continuing Work\n",
    "#### Non_compliant dataset:  \n",
    "    - There is a complementary data set which contains reviews which were tagged by Amazon as non-compliant. \n",
    "    - This dataset could help to improve the model by training on the characteristics of the non-compliant reviews.  \n",
    "#### Train on a larger set of the data:\n",
    "    - This dataset is huge and spans over almost 2 decades. A larger sample of a more focused time period may yield better results  \n",
    "#### Separate by Category:\n",
    "    - Each category may have it's own characteristics that drive the sentiment  \n",
    "#### Assign more weight to reviews contributed by Vine members:\n",
    "    - Vine members are super reviewers who have been identified by Amazon as reliable and un-biased"
   ]
  },
  {
   "cell_type": "code",
   "execution_count": null,
   "metadata": {},
   "outputs": [],
   "source": []
  }
 ],
 "metadata": {
  "kernelspec": {
   "display_name": "Python [conda env:learn-env] *",
   "language": "python",
   "name": "conda-env-learn-env-py"
  },
  "language_info": {
   "codemirror_mode": {
    "name": "ipython",
    "version": 3
   },
   "file_extension": ".py",
   "mimetype": "text/x-python",
   "name": "python",
   "nbconvert_exporter": "python",
   "pygments_lexer": "ipython3",
   "version": "3.6.6"
  },
  "toc": {
   "base_numbering": 1,
   "nav_menu": {},
   "number_sections": false,
   "sideBar": true,
   "skip_h1_title": false,
   "title_cell": "Table of Contents",
   "title_sidebar": "Contents",
   "toc_cell": false,
   "toc_position": {},
   "toc_section_display": true,
   "toc_window_display": false
  },
  "varInspector": {
   "cols": {
    "lenName": 16,
    "lenType": 16,
    "lenVar": 40
   },
   "kernels_config": {
    "python": {
     "delete_cmd_postfix": "",
     "delete_cmd_prefix": "del ",
     "library": "var_list.py",
     "varRefreshCmd": "print(var_dic_list())"
    },
    "r": {
     "delete_cmd_postfix": ") ",
     "delete_cmd_prefix": "rm(",
     "library": "var_list.r",
     "varRefreshCmd": "cat(var_dic_list()) "
    }
   },
   "position": {
    "height": "144px",
    "left": "1550px",
    "right": "20px",
    "top": "119px",
    "width": "350px"
   },
   "types_to_exclude": [
    "module",
    "function",
    "builtin_function_or_method",
    "instance",
    "_Feature"
   ],
   "window_display": false
  }
 },
 "nbformat": 4,
 "nbformat_minor": 2
}
>>>>>>> 131e70b56277d1999191d084d0a0024ae3e71f2e
