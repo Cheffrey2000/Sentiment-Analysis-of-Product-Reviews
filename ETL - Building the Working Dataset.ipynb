<<<<<<< HEAD
version https://git-lfs.github.com/spec/v1
oid sha256:6354042f8792f05d218f90207e8ab4a05b54b4dab9ebf49e158f8ab8767e71d1
size 155364
=======
{
 "cells": [
  {
   "cell_type": "code",
   "execution_count": 1,
   "metadata": {
    "ExecuteTime": {
     "end_time": "2020-03-23T16:39:09.295302Z",
     "start_time": "2020-03-23T16:39:06.789819Z"
    }
   },
   "outputs": [],
   "source": [
    "import pandas as pd\n",
    "import zipfile\n",
    "import seaborn as sns\n",
    "import matplotlib.pyplot as plt\n",
    "import glob\n",
    "%matplotlib inline"
   ]
  },
  {
   "cell_type": "code",
   "execution_count": null,
   "metadata": {
    "ExecuteTime": {
     "end_time": "2020-03-10T01:59:14.686408Z",
     "start_time": "2020-03-10T01:59:14.677401Z"
    }
   },
   "outputs": [],
   "source": [
    "data_types = {'marketplace': object,\n",
    "       'customer_id': int,\n",
    "       'review_id': object,\n",
    "       'product_id': object,\n",
    "       'product_parent': object,\n",
    "       'product_title': object,\n",
    "       'product_category': object,\n",
    "       'star_rating': object,\n",
    "       'helpful_votes': object,\n",
    "       'total_votes': object,\n",
    "       'vine': object,\n",
    "       'verified_purchase': object,\n",
    "       'review_headline': object,\n",
    "       'review_body': object,\n",
    "       'review_date': object\n",
    "      }"
   ]
  },
  {
   "cell_type": "code",
   "execution_count": 2,
   "metadata": {
    "ExecuteTime": {
     "end_time": "2020-03-23T16:40:32.675032Z",
     "start_time": "2020-03-23T16:40:32.670030Z"
    }
   },
   "outputs": [],
   "source": [
    "# creating a list of the data files to import\n",
    "files = glob.glob('*.tsv.gz')"
   ]
  },
  {
   "cell_type": "markdown",
   "metadata": {},
   "source": [
    "<a id='Preparing_the_Data'></a>\n",
    "## The Data set is very large and separated into zipped files according to category.\n",
    "#### For each data file we will do the following:\n",
    "- Load the zip file\n",
    "- Take a sample of 10,000 entries from the file\n",
    "- Save the samples into a cumulative DataFrame  \n",
    "This will create a working file that has an even distribution of all categories for our analysis."
   ]
  },
  {
   "cell_type": "code",
   "execution_count": null,
   "metadata": {
    "ExecuteTime": {
     "end_time": "2020-03-10T08:38:13.023190Z",
     "start_time": "2020-03-10T01:59:30.116270Z"
    }
   },
   "outputs": [],
   "source": [
    "df_in = pd.DataFrame()\n",
    "df_out = pd.DataFrame()\n",
    "df = pd.DataFrame()\n",
    "for file in files:\n",
    "    # each loop we will print the file processing so we can monitor the progress \n",
    "    print(file)\n",
    "    df_in = pd.read_csv(file, sep='\\t', dtype=data_types, error_bad_lines=False, engine='c')\n",
    "    if df_in.shape[0] >10000:\n",
    "        df_out = df_in.sample(n=10000, random_state=56)\n",
    "        df = df.append(df_out, ignore_index=True)\n",
    "        df_in = df_in.iloc[0:0]\n",
    "        df_out = df_out.iloc[0:0]\n",
    "        continue\n",
    "    else:\n",
    "        df = df.append(df_in, ignore_index=True)\n",
    "        df_in = df_in.iloc[0:0]\n",
    "        df_out = df_out.iloc[0:0]\n",
    "        continue"
   ]
  },
  {
   "cell_type": "code",
   "execution_count": 3,
   "metadata": {
    "ExecuteTime": {
     "end_time": "2020-03-13T15:45:41.712749Z",
     "start_time": "2020-03-13T15:45:14.953695Z"
    }
   },
   "outputs": [],
   "source": [
    "df.to_csv('working_file_sampled.csv.zip', index=False, compression='zip')"
   ]
  },
  {
   "cell_type": "code",
   "execution_count": 3,
   "metadata": {
    "ExecuteTime": {
     "end_time": "2020-03-20T17:59:40.957694Z",
     "start_time": "2020-03-20T17:59:34.390704Z"
    }
   },
   "outputs": [],
   "source": [
    "df = pd.read_csv('working_file_sampled.csv.zip')"
   ]
  },
  {
   "cell_type": "code",
   "execution_count": 4,
   "metadata": {
    "ExecuteTime": {
     "end_time": "2020-03-20T17:59:41.786705Z",
     "start_time": "2020-03-20T17:59:41.743701Z"
    }
   },
   "outputs": [
    {
     "data": {
      "text/html": [
       "<div>\n",
       "<style scoped>\n",
       "    .dataframe tbody tr th:only-of-type {\n",
       "        vertical-align: middle;\n",
       "    }\n",
       "\n",
       "    .dataframe tbody tr th {\n",
       "        vertical-align: top;\n",
       "    }\n",
       "\n",
       "    .dataframe thead th {\n",
       "        text-align: right;\n",
       "    }\n",
       "</style>\n",
       "<table border=\"1\" class=\"dataframe\">\n",
       "  <thead>\n",
       "    <tr style=\"text-align: right;\">\n",
       "      <th></th>\n",
       "      <th>marketplace</th>\n",
       "      <th>customer_id</th>\n",
       "      <th>review_id</th>\n",
       "      <th>product_id</th>\n",
       "      <th>product_parent</th>\n",
       "      <th>product_title</th>\n",
       "      <th>product_category</th>\n",
       "      <th>star_rating</th>\n",
       "      <th>helpful_votes</th>\n",
       "      <th>total_votes</th>\n",
       "      <th>vine</th>\n",
       "      <th>verified_purchase</th>\n",
       "      <th>review_headline</th>\n",
       "      <th>review_body</th>\n",
       "      <th>review_date</th>\n",
       "    </tr>\n",
       "  </thead>\n",
       "  <tbody>\n",
       "    <tr>\n",
       "      <th>0</th>\n",
       "      <td>US</td>\n",
       "      <td>25416447</td>\n",
       "      <td>R1ZY2MOSFLC3IU</td>\n",
       "      <td>B00P170G5Q</td>\n",
       "      <td>201428350</td>\n",
       "      <td>New Waterproof Shockproof Dirtproof Snowproof ...</td>\n",
       "      <td>Wireless</td>\n",
       "      <td>2.0</td>\n",
       "      <td>2.0</td>\n",
       "      <td>2.0</td>\n",
       "      <td>N</td>\n",
       "      <td>Y</td>\n",
       "      <td>I cannot close one side of the case completely...</td>\n",
       "      <td>I cannot close one side of the case completely...</td>\n",
       "      <td>2015-01-05</td>\n",
       "    </tr>\n",
       "    <tr>\n",
       "      <th>1</th>\n",
       "      <td>US</td>\n",
       "      <td>21391188</td>\n",
       "      <td>RHQU7KVHWQ4H2</td>\n",
       "      <td>B00HRLEKG0</td>\n",
       "      <td>440276376</td>\n",
       "      <td>Koomus Bike Go Bike Mount - Black</td>\n",
       "      <td>Wireless</td>\n",
       "      <td>3.0</td>\n",
       "      <td>0.0</td>\n",
       "      <td>0.0</td>\n",
       "      <td>N</td>\n",
       "      <td>Y</td>\n",
       "      <td>Frowning...</td>\n",
       "      <td>Looks nice, however it seems like chinsy const...</td>\n",
       "      <td>2015-08-26</td>\n",
       "    </tr>\n",
       "    <tr>\n",
       "      <th>2</th>\n",
       "      <td>US</td>\n",
       "      <td>24545878</td>\n",
       "      <td>R1IPE13DS5KNA3</td>\n",
       "      <td>B007PRVA96</td>\n",
       "      <td>437290944</td>\n",
       "      <td>MYBAT Heart Galaxy Diamante Phone Protector Co...</td>\n",
       "      <td>Wireless</td>\n",
       "      <td>5.0</td>\n",
       "      <td>0.0</td>\n",
       "      <td>0.0</td>\n",
       "      <td>N</td>\n",
       "      <td>Y</td>\n",
       "      <td>Great case!</td>\n",
       "      <td>This case is so pretty and sparkly and I get c...</td>\n",
       "      <td>2012-12-26</td>\n",
       "    </tr>\n",
       "    <tr>\n",
       "      <th>3</th>\n",
       "      <td>US</td>\n",
       "      <td>12801326</td>\n",
       "      <td>RZJPGXYSHQZ2H</td>\n",
       "      <td>B000UU7ZPS</td>\n",
       "      <td>134650851</td>\n",
       "      <td>Garmin nüvi 260 3.5-Inch Portable GPS Navigator</td>\n",
       "      <td>Wireless</td>\n",
       "      <td>5.0</td>\n",
       "      <td>1.0</td>\n",
       "      <td>1.0</td>\n",
       "      <td>N</td>\n",
       "      <td>Y</td>\n",
       "      <td>Excellent GPS</td>\n",
       "      <td>I previously owned the Garmin C330. This was a...</td>\n",
       "      <td>2008-01-14</td>\n",
       "    </tr>\n",
       "    <tr>\n",
       "      <th>4</th>\n",
       "      <td>US</td>\n",
       "      <td>51044660</td>\n",
       "      <td>R1TXRMU7BZGGP8</td>\n",
       "      <td>B00SHZDSRW</td>\n",
       "      <td>249550984</td>\n",
       "      <td>iPod Touch 5 / iPod Touch 6, Touch 5 / Touch 6...</td>\n",
       "      <td>Wireless</td>\n",
       "      <td>5.0</td>\n",
       "      <td>0.0</td>\n",
       "      <td>0.0</td>\n",
       "      <td>N</td>\n",
       "      <td>Y</td>\n",
       "      <td>Great Buy and Value</td>\n",
       "      <td>Bought this for my granddaughter and she absol...</td>\n",
       "      <td>2015-07-16</td>\n",
       "    </tr>\n",
       "  </tbody>\n",
       "</table>\n",
       "</div>"
      ],
      "text/plain": [
       "  marketplace  customer_id       review_id  product_id  product_parent  \\\n",
       "0          US     25416447  R1ZY2MOSFLC3IU  B00P170G5Q       201428350   \n",
       "1          US     21391188   RHQU7KVHWQ4H2  B00HRLEKG0       440276376   \n",
       "2          US     24545878  R1IPE13DS5KNA3  B007PRVA96       437290944   \n",
       "3          US     12801326   RZJPGXYSHQZ2H  B000UU7ZPS       134650851   \n",
       "4          US     51044660  R1TXRMU7BZGGP8  B00SHZDSRW       249550984   \n",
       "\n",
       "                                       product_title product_category  \\\n",
       "0  New Waterproof Shockproof Dirtproof Snowproof ...         Wireless   \n",
       "1                  Koomus Bike Go Bike Mount - Black         Wireless   \n",
       "2  MYBAT Heart Galaxy Diamante Phone Protector Co...         Wireless   \n",
       "3    Garmin nüvi 260 3.5-Inch Portable GPS Navigator         Wireless   \n",
       "4  iPod Touch 5 / iPod Touch 6, Touch 5 / Touch 6...         Wireless   \n",
       "\n",
       "   star_rating  helpful_votes  total_votes vine verified_purchase  \\\n",
       "0          2.0            2.0          2.0    N                 Y   \n",
       "1          3.0            0.0          0.0    N                 Y   \n",
       "2          5.0            0.0          0.0    N                 Y   \n",
       "3          5.0            1.0          1.0    N                 Y   \n",
       "4          5.0            0.0          0.0    N                 Y   \n",
       "\n",
       "                                     review_headline  \\\n",
       "0  I cannot close one side of the case completely...   \n",
       "1                                        Frowning...   \n",
       "2                                        Great case!   \n",
       "3                                      Excellent GPS   \n",
       "4                                Great Buy and Value   \n",
       "\n",
       "                                         review_body review_date  \n",
       "0  I cannot close one side of the case completely...  2015-01-05  \n",
       "1  Looks nice, however it seems like chinsy const...  2015-08-26  \n",
       "2  This case is so pretty and sparkly and I get c...  2012-12-26  \n",
       "3  I previously owned the Garmin C330. This was a...  2008-01-14  \n",
       "4  Bought this for my granddaughter and she absol...  2015-07-16  "
      ]
     },
     "execution_count": 4,
     "metadata": {},
     "output_type": "execute_result"
    }
   ],
   "source": [
    "df.head()"
   ]
  },
  {
   "cell_type": "code",
   "execution_count": 5,
   "metadata": {
    "ExecuteTime": {
     "end_time": "2020-03-20T17:59:53.228947Z",
     "start_time": "2020-03-20T17:59:53.189948Z"
    }
   },
   "outputs": [
    {
     "data": {
      "text/plain": [
       "array(['Wireless', 'Watches', 'Video Games', 'Video DVD', 'Video', 'Toys',\n",
       "       'Tools', 'Sports', 'Software', 'Shoes', 'Pet Products',\n",
       "       'Personal_Care_Appliances', 'PC', 'Outdoors', 'Office Products',\n",
       "       'Musical Instruments', 'Music', 'Mobile_Electronics', '2013-01-06',\n",
       "       'Mobile_Apps', 'Major Appliances', 'Luggage', 'Lawn and Garden',\n",
       "       'Kitchen', 'Jewelry', 'Home Improvement', 'Home Entertainment',\n",
       "       'Home', 'Health & Personal Care', 'Grocery', 'Gift Card',\n",
       "       'Furniture', 'Electronics', 'Digital_Video_Games',\n",
       "       'Digital_Video_Download', 'Digital_Software',\n",
       "       'Digital_Music_Purchase', 'Books', 'Digital_Ebook_Purchase',\n",
       "       'Camera', 'Beauty', 'Baby', 'Automotive', 'Apparel'], dtype=object)"
      ]
     },
     "execution_count": 5,
     "metadata": {},
     "output_type": "execute_result"
    }
   ],
   "source": [
    "df.product_category.unique()"
   ]
  },
  {
   "cell_type": "code",
   "execution_count": 6,
   "metadata": {
    "ExecuteTime": {
     "end_time": "2020-03-20T17:59:53.858948Z",
     "start_time": "2020-03-20T17:59:53.320955Z"
    }
   },
   "outputs": [
    {
     "name": "stdout",
     "output_type": "stream",
     "text": [
      "<class 'pandas.core.frame.DataFrame'>\n",
      "RangeIndex: 460000 entries, 0 to 459999\n",
      "Data columns (total 15 columns):\n",
      "marketplace          460000 non-null object\n",
      "customer_id          460000 non-null int64\n",
      "review_id            460000 non-null object\n",
      "product_id           460000 non-null object\n",
      "product_parent       460000 non-null int64\n",
      "product_title        459999 non-null object\n",
      "product_category     460000 non-null object\n",
      "star_rating          459999 non-null float64\n",
      "helpful_votes        459999 non-null float64\n",
      "total_votes          459999 non-null float64\n",
      "vine                 459999 non-null object\n",
      "verified_purchase    459999 non-null object\n",
      "review_headline      459994 non-null object\n",
      "review_body          459975 non-null object\n",
      "review_date          459989 non-null object\n",
      "dtypes: float64(3), int64(2), object(10)\n",
      "memory usage: 52.6+ MB\n"
     ]
    }
   ],
   "source": [
    "df.info()"
   ]
  },
  {
   "cell_type": "code",
   "execution_count": 7,
   "metadata": {
    "ExecuteTime": {
     "end_time": "2020-03-20T17:59:54.076949Z",
     "start_time": "2020-03-20T17:59:53.917953Z"
    }
   },
   "outputs": [
    {
     "data": {
      "text/plain": [
       "334085"
      ]
     },
     "execution_count": 7,
     "metadata": {},
     "output_type": "execute_result"
    }
   ],
   "source": [
    "df.product_id.nunique()"
   ]
  },
  {
   "cell_type": "code",
   "execution_count": 8,
   "metadata": {
    "ExecuteTime": {
     "end_time": "2020-03-20T17:59:54.218950Z",
     "start_time": "2020-03-20T17:59:54.134950Z"
    }
   },
   "outputs": [
    {
     "data": {
      "text/plain": [
       "434511"
      ]
     },
     "execution_count": 8,
     "metadata": {},
     "output_type": "execute_result"
    }
   ],
   "source": [
    "df.customer_id.nunique()"
   ]
  },
  {
   "cell_type": "markdown",
   "metadata": {},
   "source": [
    "#### Visualizing the Star ranking on a graph\n",
    "<a id='star_ranking_graph'></a>"
   ]
  },
  {
   "cell_type": "code",
   "execution_count": 17,
   "metadata": {
    "ExecuteTime": {
     "end_time": "2020-03-20T18:39:19.438287Z",
     "start_time": "2020-03-20T18:39:18.822269Z"
    }
   },
   "outputs": [
    {
     "data": {
      "image/png": "iVBORw0KGgoAAAANSUhEUgAABEMAAAHFCAYAAAAZjTeAAAAABHNCSVQICAgIfAhkiAAAAAlwSFlzAAALEgAACxIB0t1+/AAAADl0RVh0U29mdHdhcmUAbWF0cGxvdGxpYiB2ZXJzaW9uIDMuMC4yLCBodHRwOi8vbWF0cGxvdGxpYi5vcmcvOIA7rQAAIABJREFUeJzs3XeYVNX9x/HPd1k6SpEqCIuUIAKiFEVREKQIKipqLBAwqCGJ0cSOLWrArvGnYkGCEBsooSmIoiBIZ5EiJUhbugLSQRB2z++PuTuZuzu7O1sHuO/X88wzc8+cc++ZWWZ1PnuKOecEAAAAAAAQFAnx7gAAAAAAAEBRIgwBAAAAAACBQhgCAAAAAAAChTAEAAAAAAAECmEIAAAAAAAIFMIQAAAAAAAQKIQhAAAAAAAgUAhDAAAAAABAoBCGAAAAAACAQEmMdwdwfKlcubJLSkqKdzcAAAAAAMi1hQsX7nTOVcmpHmEIfJKSkpScnBzvbgAAAAAAkGtmtiGWekyTAQAAAAAAgUIYAgAAAAAAAoUwBAAAAAAABAphCAAAAAAACBTCEAAAAAAAECiEIQAAAAAAIFAIQwAAAAAAQKAQhgAAAAAAgEBJjHcHAAAIkqFDh+r2228PH3/77bdq27ZtHHt08ti2bZsWLFigrVu3as+ePXLOqWzZsqpataqSkpLUqFEjVahQId7dRADVqlVLW7ZskSR17NhRX331VYGdu1evXvrggw8kScWKFdOxY8cK7NwAcDIjDAEA5EtKSorq1q2bY72yZcuqfPnyqlOnjlq0aKGuXbuqa9euKlasWBH0EiergwcPaujQoXr77be1cuXKbOuamRo0aKC2bdvq8ssvV5cuXXTKKacUUU9PDmvWrFGDBg1yrFeuXLmon/eEBAYlAwCOD/wXCQBQJA4ePKitW7dqzpw5ev3113XFFVfozDPP1GeffRbvruEENWvWLDVr1kx//etfcwxCJMk5px9++EHDhg3T9ddfr8GDB2dbv23btjIzmZnq169fUN0OhAMHDmjLli2aPXu2XnvtNXXv3l316tXTpEmT4t01AAAkEYYAAOJo48aNuvLKK/Xcc8/Fuys4wXzzzTfq1KmT1q1b5ysvU6aMzj//fF177bW65ZZb1L17dzVv3lyJiQyGjbeUlBR1795dL774Yry7AgAA02QAAAWrZs2amjlzZqbyAwcOKCUlRV988YXeffddHTx4MPzcgAED1KxZM11++eVF2VWcoHbt2qWePXvql19+CZclJSVp0KBBuvbaa1WqVKlMbQ4fPqzZs2dr9OjRGj16tHbs2FGUXT5p1alTR998802m8gMHDmj9+vWaPHmyRowY4fu8P/DAAzrnnHPUqVOnIuwpAAB+5pyLdx9wHGnZsqVLTk6OdzcAnEAyrhlSp04dpaSkZNtm7dq16ty5s++v+s2aNdPixYtlZoXVVZwk7rvvPr300kvh4+bNm2vq1KmqWLFiTO0PHz6s9957T+XLl9cNN9yQZb22bdtq1qxZkqR69eppzZo1+ev4SSDjmiGxvC+rV69W586dfb8Xzj33XH333XeF1c3jTmEuoAoA8DOzhc65ljnVY5oMAKDI1atXTyNHjvSVLV26VMuWLYtTj3AiGTVqlO942LBhMQchklSqVCndfvvt2QYhKDgNGjTQhx9+6CtbtGhRTOu8AABQWAhDAABx0apVK7Vq1cpXNn369Dj1BieKDRs2aPPmzeHjevXq6dxzz41jjxCLNm3aZPo58XkHAMQTa4bgpJL00MR4dyGwUp7tHu8u4ATUqlUrLViwIHy8adOmPJ9r69atmjt3rn766Sft3r1bFSpU0Omnn66LL75Yp512WkF097iRvv7Fxo0btX37diUmJqpq1ao655xz1LRp03h3r1D9+OOPvuOaNWvGqSe5c+zYMa1YsUL//e9/tW3bNh04cEBlypTRaaedpiZNmuicc84p8G2mN2/erOTkZG3btk27du1S5cqVddNNN+nUU08t0OvEqlWrVlq0aFH4OC+f982bN2v58uVat26d9u7dKzNTpUqVVLt2bbVp06bAX9uvv/6qb7/9VikpKdq+fbsqVKigBg0a6OKLL1bJkiUL9FrHg61bt2revHnatGmTDh8+rKpVq6p169Zq3Lhxvs576NAhTZs2TRs2bNC+fftUo0YNnXnmmbrooovYbhlA3BCGAADipkKFCr7j3bt356p9Wlqa3nvvPf3zn//UkiVLotZJSEhQu3btNGjQILVp0ybLc73zzju64447wseDBw/Wn/70p1z1Z/Lkyb5FYB966CE988wzvjpDhw7V7bffHj7+9ttv1bZt25jO//333+uJJ57Q559/7ls8NFLt2rV177336o9//KOKFy+e5bn+8pe/6PXXX5cklShRQrt371aZMmWyrD9p0iR17+4PPefMmaMLLrggyzbbt29X9erVlb4+2WOPPaannnoqy/qxOHr0qO94165d+TpfRhl/PunWrl2b7Xo20X6Oe/bs0ZgxYzRmzBjNmDFD+/fvz7J9+fLl1a9fP91///2qXr16TH3t1auXPvjgA0lSsWLFdOzYsXBf/v73v2v69OlKS0vztbnooovUpEmTmM5f0PLyeU9LS9P06dM1atQoffnll1q/fn2WdRMSEtSxY0c98sgjateuXUx9+uqrr3wLub733nvq1auXjhw5oqeeekpDhgzRzp07M7UrV66c7rnnHg0YMCDqgr0FYeHCherevbt++umncNlTTz2lxx57zFcvq38H0WRVd+XKlXrwwQc1adIkpaamZmrXuHFjvfTSS+ratWuuXsPu3bs1YMAAvffeezp06FCm52vVqqU777xT999/vxISEnL1WgAgv4hiAQBxk/HLYW6+VGzYsEEtWrRQ3759swxCpNCXqWnTpunCCy/Ugw8+qKwWDv/tb3+r0qVLh49HjBgRc1/S/fvf//Yd9+nTJ9fniCYtLU333HOPmjdvrjFjxmQZhEih7YrvvvtutW7dWtu2bcuyXseOHcOP0//6nZ2pU6dmKvv6669zbBP5fkdeM6+qVq3qO16xYkW2X5DjqVu3burXr58mTpyYbRAiSXv37tXLL7+spk2bRt2dJVbPPvusLr30Uk2bNi1TEBJvefm8Dx06VB06dNDbb7+d4885LS1NU6ZMUfv27fXAAw/k+fVv3LhRbdq00dNPPx01CJFCu+U89dRT6tq1qw4cOJCn62Tn888/V7t27cJBSGJiot59991MQUhBGDVqlFq1aqVPP/00ahAihT5n3bp106uvvhrzeZcuXaqzzjpLb7/9dtQgRAqN9HnooYfUtWtX7du3L0/9B4C8YmQIACBuFi9e7DtOSkqKqd3333+vzp07Z5oyccYZZ6hp06aqUKGC9uzZo+TkZG3fvj38/PPPP6+DBw+GR0REOvXUU3X11Vfro48+kiTNnz9fK1eu1FlnnRVTn/bt26dx48aFj1u3bq1GjRrF1DY7x44d03XXXafx48f7ysuWLasWLVqoevXqSk1N1Zo1a7R06dJw+LB48WJdeOGFWrBggSpXrpzpvO3bt1dCQkL4C+PXX3+tLl26ZNmPaMHH119/rUceeSSmNqVLl852ZE6s6tevr4oVK4ZHFaSlpalXr14aP3581NcZTxm/jFerVk2NGzdWpUqVVKpUKe3Zs0fLly/37bKyc+dOXX755Zo/f36upzx98MEHGjBgQPi4fv36Ouuss1SmTBlt2bJF8+fPz9frya+8fN4zvoelS5fW2WefrRo1aujUU0/VL7/8og0bNuj777/Xr7/+Gq73wgsvqESJEho4cGCu+njgwAF17949vJhz+fLl1bp1a1WpUkV79+7VnDlzfKORpk+frvvuu09vvfVWrq6TnX/961/q379/eFREuXLlNHr06Gw/n3n19ddfq1evXuFrNWjQIPxvZuPGjZo/f374Oeec/va3v6lly5a68MILsz3v6tWr1bFjx0xhUp06ddS0aVOVLVtWmzZtCp9/ypQpuuOOO5SYyFcTAEWH3zgAgLhYtWpVeNvSdJdcckmO7fbv369rr73WF4R07txZgwYNUsuW/l3UnHMaM2aM7rzzznD9wYMH69JLL1XPnj0znbtv377hMEQKjfTIOM0lK5988olvxEbfvn1japeTRx55xBeEVK9eXc8++6xuuukmlShRwld39erVuvvuu/X5559LCm17fOutt+rTTz/NdN4KFSrovPPOU/p26tmN8vj555+jjr6ZPXu2fvnlF9+ImkiRo0natm2bqb95kZCQoBtuuEFvv/22rx8NGzbUbbfdpuuvv14tWrTI8zoEN954oy677DJJ0vXXXx9+f+rUqZPtiI0aNWpkKjMztW3bVrfccouuuOIK1apVK2rb77//Xo888kj453T48GH17t07U3iQnbS0NP3hD3+QJF1wwQV67bXXMn0edu7cWWhTOnKyYsUKzZ0711cWy+ddCv2bv/XWW9WjRw+1atUq6s929+7deuutt/SPf/wj/Dl85plndM0116hFixYx9/PRRx/Vzz//rMqVK+uFF15Qr169fF/Qjx49queff16PPfZYOHgcMmSI7rnnHjVs2DDm62TliSee0JNPPhk+rlatmiZOnJir1xCrtLQ03XDDDTp27JjatWunV155Rc2bN/fV2bhxo3r37q0ZM2aE29x///2ZfndHcs7p97//vS8IqVu3rt566y117tzZV3fnzp16+OGH9c4772jUqFEn3fpOAI5vTJMBABS5Xbt26eabb/b91bd58+aZvrxFc99992nNmjXh43vuuUeTJ0+O2tbM1LNnT82dO1fVqlXztYk2HPyyyy7zLcj53nvvxTzUPnJaTcmSJXXjjTfG1C47s2fP1gsvvBA+btSokRYvXqw+ffpEDRYaNGigzz77TDfffHO47LPPPtOUKVOinr9Dhw7hx4sXL85y/Y1p06aFv/g1atRItWvXliQdOXIkyy9FKSkpWrduXdRr5dcjjzySaSvd3bt364UXXlDr1q1VoUIFderUSY8++qgmTpyovXv3xnzucuXKKSkpSUlJSb4FMhMTE8Pl0W7RFtMcOXKkvv32W/Xv3z/LIESSmjZtqgkTJvjWqFmyZEmWP7donHM6ePCgOnbsqGnTpkX9PFSuXFnlypWL+ZwFZefOnbrlllt8U6ZatmyZ6Yt3NFdffbU2bNigp59+Wueff36WIVfFihU1YMAAffnll+G1ctLS0vTyyy/nqq/pQcjs2bPVt2/fTCMVihcvrkceeUT33XdfuMw5p+HDh+fqOhkdO3ZM/fr18wUhDRs21Jw5cwolCJFC/d61a5d69uypr776KurPo3bt2po0aZJvFM/s2bP1ww8/ZHnekSNHaubMmeHjOnXqaObMmZmCECn0b3LIkCF69NFHJYXefwAoKoQhAIAicfDgQS1fvlwvvfSSmjVrpu+++y78XPHixaNOXclo27Ztvi8d7du314svvpjtwpZS6H/G33zzzfDxxo0bNWbMmEz1EhIS1Lt37/Dxli1bclwXQ5LWr1/v+5//q666KtOX9bx45plnwl8gixcvrvHjx/tCnWgSEhL0zjvv+BbhfOWVV6LWjVzDI31tlWgi34OOHTv62mX1/mQsL4j1QtKdccYZ+s9//qPy5ctHfX7//v366quvNGjQIF1xxRWqVKmSWrVqpZdfflk7duwosH7kpE6dOrmq/+KLL/p+vqNGjcpV+3LlymnEiBFxG/0R6eDBg1q2bJlefPFFNWvWzDfKpUSJEjF93qXQqJDcjChq27at/vjHP4aPx4wZk2nR3Zy8+eabatCgQbZ1BgwY4OtXfrYJPnDggK688koNGzYsXNamTRvNnj1bdevWzfN5Y1GjRg0NGzYs2+kpZcuW1f333+8ry+71Rv6ulUIjZ04//fRs+/Hkk08WWugDAFkhDAEAFKgNGzbIzDLdypUrpyZNmui+++7Tli1bwvXLlCmjkSNH6qKLLsrx3EOHDvWtC/DUU0/lGISku/rqq8MjGiRp4sToW3FnXPQ0loVU//3vf/v+6l0QC6du3LjR18fevXvHPAy/TJkyvh1RvvrqKx05ciRTvYxTV7IKNiKnu8QahkS2KV++vM4777yY+h6rSy+9VMnJyZl2uIkmLS1NycnJuvfee1W3bl0NGjQo11+Qi0Lp0qV9fz2fN29ertrfdNNNRb7VcPouO9E+702bNtX999/vW8i3bNmy+vjjj3X++ecXWp969OgRfnz48GEtXbo05rb16tWLOoUuo4oVK/rWwMluEefs/PTTT2rfvr0mT54cLrvqqqv09ddfF8mUkf79+8e0HXG3bt18x1m93h9//NG3GHPz5s2jjgjJKCEhwTfaBgCKAmEIACAuypYtq9tvv10rVqzQtddeG1ObyC/Y1apVi3lLWik0Zebiiy8OH2c1vaNRo0a+L2pjx47NcSeQyF1kqlevnuvtJ6OJnJoiKaYvaJEi12P49ddfw2tfRCpTpoxva9xoO8Zs2bIlPCQ+ISFB7du39015+e6777Rnz55M7SLP1b59exUrVixX/Y9F/fr19dlnn2nhwoX6y1/+ojPOOCPHNgcPHtSjjz4a190rjh49ql27dmnjxo1KSUnx3cqWLRuu99///jdX573yyisLuqsFply5crrjjju0YsUKX1iRV8457d+/X1u2bMn0HmbcMSo372Pnzp1jDlgjF0g+ePBgtrs8RbNq1Sq1adNGCxcuDJf1799fY8aMyXIdnoIW6++qOnXq+EYcZTXCKmOAl5vfWz169GABVQBFit84AIC4OHz4sJxzmbZKzUpqaqrvf7TPPPNMbdiwIVfXLFOmTPjx+vXr5ZyL+sWnT58+4WsdOnRIo0eP1q233hr1nN9++61vbYxbbrmlQL74ZwxrKlSo4Nt1JCcZ1zpZt25d1NE3HTp0CC+OuGrVKm3evNm3vkXkyI8WLVqEp/+cddZZWrlypVJTUzV9+nTfF9wVK1b4FrgtyPVCojnvvPN03nnn6dVXX9XatWs1e/ZsLViwQAsWLNDChQujjgKZOnWqfve73/l2ACosO3fu1Mcff6xJkyZpyZIl2rx5c0ztjh07pgMHDsS8zkcsa3DES3pQEOvnPaPU1FRNmTJFn3zyiZKTk/Xf//7XN0osO+k7D8Ui1t2jJGWaprVv376YQ4zZs2frqquu8q2RMXDgwGx3ZyoMsb5eM9Opp56qw4cPS1KWQWLGUTi5GRFWunRpNWrUKLyTDwAUNsIQAECBqlmzpm/9DCn0V9MNGzZo1qxZeuONN7Rnzx6lpqZq6NCh+uGHH/TFF1/kuM7Bzz//7PvL65w5c/I1nz41NVX79u2Luu7EjTfeqL/97W/hqSUjRozIMgyJHBUiFdwuMhm/MMcyjSg7WS2O2rFjRz3xxBPh4/SQIF3G9UIiH69cuTJcJzIMKcz1QnJSr1491atXL7z2y8GDB/XZZ5/ptddeyxQwjR8/XhMmTNBVV11VKH1JS0vT888/r4EDB+rgwYN5Ose+fftiDkOqVKmSp2vkR7Rddg4cOOD7vO/du1epqakaMmSIVq9erc8//zzqgrNZmTVrlvr375/nL8m5GQGU1To00aQv1Jou1qlXy5cvV8eOHcPBQvHixTV06FDf564oJCQk6JRTTom5fuTrzeq1ZlwANZbRWhnrE4YAKCpMkwEAFKhou26cffbZ6tatmwYNGqSUlBTfFI4ZM2bor3/9a47nzerLfH4cOHAgannFihV9X5BnzJih9evXZ6r3yy+/6JNPPgkfn3feeWrSpEmB9K2gX29Wr/X888/3Tc3IGGRkXC8k2uOMbSKPq1WrprPPPjtvnS4AZcuW1W9/+1vNnDlTb775ZqaRQK+++mqhXNc5p759+2rAgAF5DkKkzCN8slKsWLG4LJwa7fPepEkTde/eXU8//bRSUlJ809mmTZume++9N+bzT5w4UR06dMjXF+RY30NJed6SOTd+/PHHcBAiSRdffLFuueWWQr9uRrFOB8qNjDs35SZskRTT+iUAUFAIQwAARap8+fIaO3asbzHTt99+O8ddWwpjwcuMawtEilwE1Tmn9957L1OdcePG+f7nv6BGhUgF/3qzeq3Fixf3raUS+XP44YcfwiNUSpYs6RudErkOyIoVK8KLZKalpfl2mijsKTK50b9/f91zzz2+spkzZ/q+mBaUYcOG+f7NmJm6dOmiwYMHa86cOdq8ebP279+vY8eOyTkXvhX1NInCVqFCBY0bN863sOsbb7wR0+4rO3fuVO/evX3TYerWravHH39ckydP1qpVq7Rnz57wlLv02+rVqwvltRSUxo0b+3Yamjp1qm688cbjclHf3Mq4809uX1O0hZ4BoLAQhgAAilylSpUy/UX+7rvvzvYvuJUqVfId9+vXz/cFKC+3yLUxMuratatve9qM02EylhUvXlw33XRTjq89VpGvt0SJEkpNTc3Xa3300UezvFbkKI8tW7Zo1apVkvzByIUXXuhbD6FChQq+9QDSR5AsXLjQt6BqUU6RicVf/vIX3/GRI0e0adOmAr/OwIEDw48TExM1fvx4TZ48WX/60590wQUXqGbNmipXrlym9WVyWqz3RHTaaafp//7v/8LHzjndddddOY7YeP31133rffTq1UurVq3Sk08+qS5duqhhw4YqX758pik3x/t7WKNGDc2YMUP169cPl40ePVo9e/Y84cOAjFuK52a9lrzUB4D8IAwBAMRFjx49fFtTLl++XB9++GGW9atUqeIbwl7Yf/0tVqyYb+j62rVrfWuhbNu2TVOmTAkfd+/eXZUrVy6w61erVi38+Ndff831YrG5kXH0RnoIEhmGXHbZZdm2i9Ym2rnjrU6dOpnWhSjoL2DLly/3LXZ72223xbzTS+TCsyeTnj17qlWrVuHjpUuX6uOPP862TeTW0hUrVtSQIUMyrdMRzYnwHtauXVvTp0/37Ujz6aefqkePHrneleZ4EjniTwp9FnJjxYoVBdkdAMgWYQgAIG4ef/xx3/HAgQOz/GtxiRIldO6554aP582bl6+1GGKRcdrLiBEjwo/ff/99paamZlk3vyK3vJUyhwwFqXnz5r6RKFOnTpVzzrcwZrQRHpFl6SNDItcYqVu3br4WuS0sGdeFyGqdgryuqbBmzRrfcZcuXWJuO3fu3Dxd80SQ8fP+j3/8I9upapHv4yWXXBLzTi0nynt4+umna/r06WrWrFm47IsvvlD37t0L/XdbYWndurXvOJbpUOlWrlyZ5Za9AFAYCEMAAHHTtWtXX8CxatWqbP9aHDk64ciRI/roo48KtX9NmjTxTQX55JNPwutLRE6RqVKlirp161ag1844EmP48OEFev5ICQkJat++ffh42rRp+u6778I7Q5x66qlq2bJlpnZt27YNT1HYsGGDVqxY4Rs9c7yNCpGk7du3ZxoJUqNGjah1I6dfxLqNq5R5EclYF4WcOXOmNm7cGPN1TjTdu3f3ffFfsWKF/vOf/2RZP3IXmFjfQ+dcof9eKEhVq1bVtGnTfL9npk2bpi5duuRqF5zjxTnnnOMLVseMGZPp85CVd999t7C6BQBREYYAAOJqwIABvuNBgwZl+dfi2267zbfGwpNPPplpK8eCFjniY+/evRo3bpy+++473+4WN998c0zD93OjUaNGateuXfh41qxZGjVqVIFeI1LkKI9du3bppZdeCh9HLpYaqXTp0r6pTgMHDvQN8S+M9UL27dvnm4KSWxm/cDVv3jzL7VQjy7dv3x7zriQVKlTwHf/www85tklLS8t2XZeTgZnpoYce8pVFrq2SUeT7H8t7KIV+vsf7AqoZVapUSVOnTvWNBps1a5Y6derkW3/nRFC8eHHfFsH79++PaVHg1atX67XXXivMrgFAJoQhAIC46tmzpxo2bBg+XrZsmcaNGxe1bv369dW7d+/w8ebNm9WjR49cByLffPNNpqkMWbn55pt9OySMGDHCN11G8u88U5CefPJJ3/Hvf/973zSUWGzdulWff/55jvUyjuIYOXJk+HF2oUZku8g20c5ZELZv366GDRvqT3/6U67XUZkxY4aeeuopX9lvf/vbLOv/5je/CT8+cuSI5syZE9N1Ikc/SNLgwYNzXBjzwQcfzNWUghPVDTfcoHr16oWPlyxZok8//TRq3aZNm4Yfz58/X7Nmzcr23HPmzIlpm+7jUfny5fXll1/6dnaaP3++OnToUOiBb0G7++67VaZMmfDx4MGD9cILL2RZf926dbr88ssLZVcnAMgOYQgAIK4SEhL04IMP+sqy+2vxK6+84gtPZs2apXPOOUdDhgzJdp79qlWr9Pzzz+vcc8/VpZdeGvPogtNOO03du3cPH0+ZMsW3ZWqzZs18U30KUrt27fTAAw+Ejw8dOqROnTrpzjvvzDbM2b17t0aNGqUbbrhBSUlJ+uCDD3K8VqNGjXzbn0aOzom2eGq6yKAkss3ZZ5/tWwS2IB09elRvvvmmzjzzTHXu3Fnvv/++tmzZkmX9lJQU3X///brssst06NChcHnt2rV19913Z9nukksu8R336tVLw4YN05IlS7R+/XqlpKSEb5FhR1JSkm/aw7Jly3TVVVdFnQKzdu1aXXvttXrxxRclqUAX4T0eFStWzPdvWgqtHRLNddddF37snNM111yjzz77LFO9X375RS+99JI6deqk/fv3n7Dv4SmnnKLJkyf7Pm+LFi1S+/bt9dNPP8WxZ7mTlJSU6Wf6wAMP6OKLL9bw4cO1aNEirVq1Sl999ZXuueceNW3aVGvXrlXlypV16aWXxqnXAIIoMd4dAACgd+/eeuKJJ8JbnH733XeaOHGiL4RIV758eU2YMEGdOnUK19+yZYv+8Ic/6M4779Q555yjWrVqqVy5ctq/f7927Nih5cuXxzxvPZo+ffpo7NixkqTU1FTfmhOFNSok3TPPPKNNmzaF10FIS0vT4MGDNXjwYCUlJemss85SxYoVdfToUe3Zs0erV6/O8zSSSy+9VO+//76vrHr16mrcuHGWbVq3bq1TTjkl03amRbFeSFpamqZMmRLe1ad27do688wzVblyZZUoUUJ79uzRqlWrtG7dukxTrypUqKCxY8ftKCqkAAAgAElEQVRmuyhn586d9Zvf/Ca81XBKSor69esXte63336rtm3bho+ffvppXX755eHrfvnllzrzzDPVqlUr1a1bV0eOHNGaNWu0dOnScJu2bdvqoosu0nPPPZe3N+QE0bdvXz355JPaunWrJGnBggX64osvMi00e/vtt+uVV17RunXrJEk7duzQlVdeqaSkJJ177rkqVaqUfvzxR82dOzc8PatMmTJ64403dMMNNxTtiyogZcqU0aeffqqePXtq0qRJkkJhWrt27TR16lSdfvrpce5hbP72t79p1apVGjJkSLhs5syZvjWFIhUrVkzDhw/3rfeS1wWMASBWjAwBAMRd8eLFde+99/rKsvprsRSavrBw4cJMIxaOHj2q5ORkjRs3Tu+//77Gjx+v2bNnZwpCEhMTVa5cuZj7161bN1WpUiVTeWJiom/73cKQkJCgDz/8UM8++6xvuo4U+nL++eef68MPP9Qnn3yiKVOmRA1CKlasGNO1ctoxJprExMRMIyhiaZdXZcuW9Y1gibRx40Z98803Gj16tD788ENNmjRJa9euzRSEtGzZUjNmzPCN3ogmISFBH3/8sWrVqpXrfnbp0kXPP/+87wtdamqq5s6dq48++khjxozxBSEXXnihxo8fr8TEk//vVCVKlNA999zjK4v2eS9VqpQ+/fTTTCOMUlJSNHbsWH300UeaNm1aOAg59dRTNW7cuEIbqVVUSpUqpbFjx+rqq68Ol61atUqXXHLJCbPArpnprbfe0qBBg1SqVKls61atWlVfffWVunfv7ltzKDe/owEgLwhDAADHhdtvv90XOMybNy/8F/9oqlSpEh4V0KVLF9/OH9GULFlSHTp00Msvv6zNmzdn2ro2O8WLF9fNN9+cqbxr166FNhUkowcffFBr167VXXfdFdM1GzVqpLvuuktz586NeWHCvIQh0eokJCT4Fn8tSDVq1NCmTZs0Z84cDRgwQBdddFGmkCiaxMREdenSRR999JHmzZvnW48iO82aNdPy5cv1+uuv64orrlBSUpLKlSsX01+t77vvPk2cODHTGiKRGjRooBdffFHffPONbxeOk13//v19r3fWrFmaNm1apnqNGzfWokWLdPPNN0ddxFcKfWnu06ePlixZok6dOhVan4tSiRIl9Mknn+jGG28Ml61du1aXXHJJeKTM8c7M9PDDD2vFihV6/PHH1aJFC1WuXFklS5ZUnTp11KFDB7311ltavXp1eDeryAVjs1rYGAAKimW3vzuCp2XLli45OTne3cizpIcmxrsLgZXybObpDEBR+uWXXzR37lxt2LBBP//8sw4fPqxTTjlFVapUUaNGjXTWWWfl+BfKE8ny5cv1/fffa+fOndq7d69KlSql8uXLq379+mrcuLGqVq0a7y4WmSNHjmj16tX64YcftG3bNu3fv19paWk65ZRTVLFiRTVq1EhNmzbNMTArTMuWLdP8+fO1fft2lShRQqeffroaNmyY4+gU/M/OnTs1Y8YMbdiwQYcPH1a1atVUq1YttW3b1rdgJ05cNWvWDE+fat26tebNmxfnHgE4EZnZQudcy5zqnfxjMQEAgVC6dOlALb539tln6+yzz453N44LJUuWVJMmTdSkSZN4dyVLx3v/TgSVK1fWtddeG+9uoJCsX78+HIRIOuGnOwE4/jFNBgAAAEBcvfPOO77j1q1bx6knAIKCMAQAAABA3KxcuVL//Oc/w8elSpXSNddcE8ceAQgCwhAAAAAABerqq69WLOvQzZ8/X5dddpkOHz4cLrvlllti3gULAPKKNUMAAAAAFKjJkydr/PjxOvfcc3XNNdeoVatWqlmzpkqVKqXdu3dr2bJlmjBhgiZMmODb/rp69ep67rnn4thzAEFBGAIAAACgUCxatEiLFi2Kqe5pp52mMWPG6LTTTivkXgEA02QAAAAAFLDcBhqdOnXSnDlz1KZNm0LqEQD4MTIEAAAAQIHasGGDpk+frqlTpyo5OVlr167Vjh07dOjQIZUoUUKVKlVSUlKS2rVrp6uuuordYwAUOcIQAAAAAAUqMTFRHTt2VMeOHePdFQCIimkyAAAAAAAgUAhDAAAAAABAoBCGAAAAAACAQCEMKWRmdoaZTTOzlWa23Mzu9sqfMLMtZrbYu3WLaDPAzNaY2Soz6xJR3tUrW2NmD0WU1zWzeWa22sxGmVkJr7ykd7zGez6p6F45AAAAAADHJ8KQwndM0r3OubMkXSDpz2bW2Hvun8655t5tkiR5z90o6WxJXSW9YWbFzKyYpMGSLpfUWNJNEed5zjtXA0m7JfXzyvtJ2u2cqy/pn149AAAAAAACjTCkkDnntjnnvvMe75e0UlLNbJr0kDTSOXfEObde0hpJrb3bGufcOufcr5JGSuphZiapg6TRXvsRkq6OONcI7/FoSR29+gAAAAAABBZhSBHypqmcK2meV3SnmS01s2FmVtErqylpU0SzzV5ZVuWnSdrjnDuWodx3Lu/5vV79jP26w8ySzSx5x44d+XqNAAAAAAAc7whDioiZlZP0H0l/dc7tk/SmpHqSmkvaJuml9KpRmrs8lGd3Ln+Bc0Occy2dcy2rVKmS7esAAAAAAOBERxhSBMysuEJByAfOuTGS5Jz7yTmX6pxLk/SOQtNgpNDIjjMimteStDWb8p2SKphZYoZy37m858tL2lWwrw4AAAAAgBMLYUgh89bo+Jeklc65lyPKa0RUu0bSMu/xBEk3ejvB1JXUQNJ8SQskNfB2jimh0CKrE5xzTtI0Sdd57ftIGh9xrj7e4+skTfXqAwAAAAAQWIk5V0E+XSSpt6TvzWyxV/awQrvBNFdo2kqKpD9IknNuuZl9LGmFQjvR/Nk5lypJZnanpC8kFZM0zDm33Dvfg5JGmtlASYsUCl/k3b9nZmsUGhFyY2G+UAAAAAAATgSEIYXMOTdT0dfumJRNm0GSBkUpnxStnXNunf43zSay/LCk63PTXwAAAAAATnZMkwEAAAAAAIFCGAIAAAAAAAKFMAQAAAAAAAQKYQgAAAAAAAgUwhAAAAAAABAohCEAAAAAACBQCEMAAAAAAECgEIYAAAAAAIBAIQwBAAAAAACBQhgCAAAAAAAChTAEAAAAAAAECmEIAAAAAAAIFMIQAAAAAAAQKIQhAAAAAAAgUAhDAAAAAABAoBCGAAAAAACAQCEMAQAAAAAAgUIYAgAAAAAAAoUwBAAAAAAABAphCAAAAAAACBTCEAAAAAAAECiEIQAAAAAAIFAIQwAAAAAAQKAQhgAAAAAAgEAhDAEAAAAAAIFCGAIAAAAAAAKFMAQAAAAAAAQKYQgAAAAAAAgUwhAAAAAAABAohCEAAAAAACBQCEMAAAAAAECgEIYAAAAAAIBAIQwBAAAAAACBQhgCAAAAAAAChTAEAAAAAAAECmEIAAAAAAAIFMIQAAAAAAAQKIQhAAAAAAAgUAhDAAAAAABAoBCGAAAAAACAQCEMAQAAAAAAgUIYAgAAAAAAAoUwBAAAAAAABAphCAAAAAAACBTCEAAAAAAAECiEIQAAAAAAIFAIQwAAAAAAQKAQhgAAAAAAgEAhDAEAAAAAAIFCGAIAAAAAAAKFMAQAAAAAAAQKYQgAAAAAAAgUwhAAAAAAABAohCEAAAAAACBQCEMAAAAAAECgEIYAAAAAAIBAIQwpZGZ2hplNM7OVZrbczO72yiuZ2RQzW+3dV/TKzcxeNbM1ZrbUzM6LOFcfr/5qM+sTUd7CzL732rxqZpbdNQAAAAAACDLCkMJ3TNK9zrmzJF0g6c9m1ljSQ5K+ds41kPS1dyxJl0tq4N3ukPSmFAo2JP1d0vmSWkv6e0S48aZXN71dV688q2sAAAAAABBYhCGFzDm3zTn3nfd4v6SVkmpK6iFphFdthKSrvcc9JP3bhcyVVMHMakjqImmKc26Xc263pCmSunrPneqcm+Occ5L+neFc0a4BAAAAAEBgEYYUITNLknSupHmSqjnntkmhwERSVa9aTUmbIppt9sqyK98cpVzZXCNjv+4ws2QzS96xY0deXx4AAAAAACcEwpAiYmblJP1H0l+dc/uyqxqlzOWhPGbOuSHOuZbOuZZVqlTJTVMAAAAAAE44hCFFwMyKKxSEfOCcG+MV/+RNcZF3v90r3yzpjIjmtSRtzaG8VpTy7K4BAAAAAEBgEYYUMm9nl39JWumcezniqQmS0neE6SNpfET577xdZS6QtNeb4vKFpM5mVtFbOLWzpC+85/ab2QXetX6X4VzRrgEAAAAAQGAlxrsDAXCRpN6SvjezxV7Zw5KelfSxmfWTtFHS9d5zkyR1k7RG0iFJt0qSc26Xmf1D0gKv3lPOuV3e4z9KGi6ptKTPvZuyuQYAAAAAAIFFGFLInHMzFX1dD0nqGKW+k/TnLM41TNKwKOXJkppEKf852jUAAAAAAAgypskAAAAAAIBAIQwBAAAAAACBQhgCAAAAAAAChTAEAAAAAAAECmEIAAAAAAAIFMIQAAAAAAAQKIQhAAAAAAAgUAhDAAAAAABAoBCGAAAAAACAQCEMAQAAAAAAgUIYAgAAAAAAAoUwBAAAAAAABAphCAAAAAAACBTCEAAAAAAAECiEIQAAAAAAIFAIQwAAAAAAQKAQhgAAAAAAgEAhDAEAAAAAAIFCGAIAAAAAAAKFMAQAAAAAAAQKYQgAAAAAAAgUwhAAAAAAABAohCEAAAAAACBQ4hqGmFkxM7vdzKab2S4zO2pm281sqZkNNbOrMtTva2bOzPrGqcsAAAAAAOAElxivC5tZMUmfSeoqaY+kiZI2S6okqZ6kmyU1kjQhXn0EAAAAAAAnn7iFIZJuUigIWSKpnXNub+STZlZG0vnx6BgAAAAAADh5xXOazIXe/fCMQYgkOecOOeempR+b2TeS3vUO3/Wmy6Tfkrw6p5vZ42Y2y8x+NLNfzWyrmX1oZmdlvIaZJXnth5tZQzMb5U3TSTOz9gX8egEAAAAAwHEgniNDfvbuG8ZYf7hC02l6SBovaXHEc3u8+0skPSRpmqT/SDogqYGk6yRdZWYXOeeWRDl3PUnzJP0g6QNJpSXti/WFAAAAAACAE0c8w5Axkh6U1N/MTpE0VtJC59yGaJWdc8PNTAqFIeOcc8OjVJsqqZpzbn9koZmdI2mWpGclXR6lXVtJzzjnHs7jawEAAAAAACeIuE2Tcc4tktRL0k/e/X8kpZjZz2Y21syuzMM5t2cMQrzyJQoFJZeaWfEoTX+S9GRurwcAAAAAAE48cd1a1zn3saTakrpI+odCu8skSLpa0gQzG2HecJBYmVl3M/vUzLZ5W/U6M3OSrpRUUlLlKM2WOOeO5OvFAAAAAACAE0I8p8lIkpxzRyV96d3St9ztKWmYpN8pNH1mXCznMrO7JP2fpN2SpkjaKOmQJKdQwHKOQoFIRj/m60UAAAAAAIATRtzDkIycc6mSPjazppIeldRBMYQhZpao0FSXHyWd55zbluH5NtldNu89BgAAAAAAJ5K4TpPJQfraH5HTZFK9+2JR6leWVEHS7ChBSDlJ5xV4DwEAAAAAwAknbmGImd1kZp3MLFMfzKy6pNu9wxkRT6Vvx1s7yim3KzQlpoUXfqSfq7hCU2eirRUCAAAAAAACJp7TZM6XdLekH81spqT1XnldSd0llZY0XtLoiDZzFAo8/mpmlRTaBUaSXnPO7TWzVyU9JOl7MxsvqYSkSyVVkjTNewwAAAAAAAIsnmHIS5JWS7pMUjOFdpQppdDoj28kfSjpQ+dceD0P59xuM+sp6e+SbpVU1nvqfUl7JT0maYek2yT9wSubotDaI2ydCwAAAAAA4heGOOc2SRrs3XLTbrKkyVk8d0zSy94to77eLbJ+ivxrkgAAAAAAgJPc8byAKgAAAAAAQIEjDAEAAAAAAIFCGAIAAAAAAAKFMAQAAAAAAAQKYQgAAAAAAAgUwhAAAAAAABAohCEAAAAAACBQCiwMMbNGZvaamS0zs71m9quZbTWziWbWz8xKFdS1CoOZ9TUzZ2Z9490XAAAAAABQeBIL4iRm9rikvysUrsyVNELSAUnVJLWXNFTSHyW1LIjrAQAAAAAA5FW+wxAze1jSk5I2SbreOTcvSp0rJN2b32sBAAAAAADkV76myZhZkqQnJB2V1C1aECJJzrnPJHXN0PYGM5vhTan5xcy+N7MBZlYyynWcmX2TRR+Ge88nRfbLKxvuPR5pZjvN7LCZJXvhTOQ5vpH0rnf4rtfWRZ7XzE4xs8e8aUD7zGy/ma01s1Fm1iLHNwsAAAAAABwX8jsy5FZJxSWNdM4ty66ic+5I+mMze1rSAEk7JX2o0JSayyU9LamLmXVyzh3NZ98kqY6k+ZLWSXpPUiVJv5U03swuc85N8+oNl7RHUg9J4yUtjjjHHjMzSZMlXShpjkLTfo5JOkOhaUDfSlpYAP0FAAAAAACFLL9hSFvv/utYG5hZG4WCkE2SWjvnfvTKB0gaK+kKSfcrFIzkV3tJTzjnnoy4/ocKBRv3S5omSc654aG8Qz0kjXPODc/Q56YKBSHjnHPXZHguQVL5AugrAAAAAAAoAvndTaaGd785F21+790PTA9CJMk5d0yhdUXSJN2Wz36l2yBpYGSBc+4LSRsltc7D+X7JWOCcS3PO7c5b9wAAAAAAQFHLbxhi3r3LRZvzvPupGZ9wzv2gULBS18wq5LNvkrTYOZcapXyTpIq5OM8KhabO3GRms8zsATO70MxKFEAfAQAAAABAEcpvGLLVu6+VizbpU0q2ZfH8tgz18mNPFuXHlIvX7gUqHSS9Iqm2pOckzZK008xeM7Ny+e0oAAAAAAAoGvkNQ2Z69x1z0Wavd189i+drZKgnhUaeZLW+SUGMIMmRc263c+5vzrkzJDVQaCrPfyXdKenNougDAAAAAADIv/yGIe8qtK1uTzNrnF3FiC1zF3n37aPUqa/QKJP1zrnIUR27Fdq5JWP9YpKa577bUaVPpymWU0Xn3Brn3L8ktVNoJ5we2dU3s2Fmtt3MlkWUPWFmW8xssXfrFvHcADNbY2arzKxLRHlXr2yNmT0UUV7XzOaZ2Wpvq98SXnlJ73iN93xSbG8FAAAAAAAnr3yFIc65FElPSCohaaKZtYxWz8y6SvrcOxzm3T9qZlUi6hST9KLXp39lOMV8SbXNrHOG8kcV2j63IPzs3dfO+IQXNpwdpU1FSSUVZWHVDIZL6hql/J/OuebebZJ3rcaSbpR0ttfmDTMr5r0/gxXagrixQuuXpAdQz3nnaqBQcNTPK+8nabdzrr6kf3r1AAAAAAAItPxurSvn3NNmlijp75IWmNlsSckKjZioJukShaaVJHv1Z5vZ85IekLTMzEZLOqjQl/wmCk29eSHDZV6U1EXSeDMbJWmXQlvd1pX0jaKMMsmDOZIOSfqrmVWS9JNX/pqkcySNNbOFkpYptFZKFYVGhBRXDiGDc25GLkZl9JA00jl3RNJ6M1uj/+18s8Y5t06SzGykpB5mtlKh9Uxu9uqMUCigetM71xNe+WhJr5uZOedys+AtAAAAAAAnlfxOk5EkOeeeUijIeF2hhU9vlXS/pO6S1iq0vkbbiPoPSrpJ0mpJv5N0l9eXRyV1cs79muH8X0u6WtJyhUZN9JGUolBIsKGAXsNuST0V2jnmVkn/8G4VFQpynpF0RKHRGvcqFN4slNTNOfdyHi97p5kt9abRpO9uU1Oh3W7SbfbKsio/TdIeb2viyHLfubzn93r1fczsDjNLNrPkHTt25PGlAAAAAABwYsj3yJB0zrmVkv6Si/ojJY3MRf0JkiZEeaqvd4usm6L/bfsb7VztsyifLGlyFs0ezrmXufKmQmGL8+5fkvR7Re+3U/TgymVTXzk8978C54ZIGiJJLVu2ZNQIAAAAAOCkViAjQ5B7zrmfnHOpzrk0Se/of1NhNsu/WGwthablZFW+U1IFb6pSZLnvXN7z5RWaYgQAAAAAQGARhsSJmdWIOLxGobVIpNDolxu9nWDqKrTeynxJCyQ18BZzLaHQdKEJ3vof0yRd57XvI2l8xLn6eI+vkzSV9UIAAAAAAEFXYNNkkDUz+0ihRV4rm9lmhRabbW9mzRWatpIi6Q+S5JxbbmYfK7R2yTFJf3bOpXrnuVPSFwpt/zvMObfcu8SDkkaa2UCFti5O343nX5Le8xZh3aVQgAIAAAAAQKARhhQB59xNUYozbh8cWX+QpEFRyidJmhSlfJ3+N80msvywpOtz1VkAAAAAAE5yTJMBAAAAAACBQhgCAAAAAAAChTAEAAAAAAAECmEIAAAAAAAIFMIQAAAAAAAQKIQhAAAAAAAgUAhDAAAAAABAoBCGAAAAAACAQCEMAQAAAAAAgUIYAgAAAAAAAoUwBAAAAAAABAphCAAAAAAACBTCEAAAAAAAECiEIQAAAAAAIFAIQwAAAAAAQKAQhgAAAAAAgEAhDAEAAAAAAIFCGAIAAAAAAAKFMAQAAAAAAAQKYQgAAAAAAAgUwhAAAAAAABAohCEAAAAAACBQCEMAAAAAAECgEIYAAAAAAIBAIQwBAAAAAACBQhgCAAAAAAAChTAEAAAAAAAECmEIAAAAAAAIFMIQAAAAAAAQKIQhAAAAAAAgUAhDAAAAAABAoBCGAAAAAACAQCEMAQAAAAAAgUIYAgAAAAAAAoUwBAAAAAAABAphCAAAAAAACBTCEAAAAAAAECiEIQAAAAAAIFAIQwAAAAAAQKAQhgAAAAAAgEAhDAEAAAAAAIFCGAIAAAAAAAKFMAQAAAAAAAQKYQgAAAAAAAgUwhAAAAAAABAohCEAAAAAACBQCEMAAAAAAECgEIYAAAAAAIBAIQwBAAAAAACBQhgCAAAAAAAChTAEAAAAAAAECmEIAAAAAAAIFMIQAAAAAAAQKIQhAAAAAAAgUAhDAAAAAABAoBCGAAAAAACAQCEMKQJmNszMtpvZsoiySmY2xcxWe/cVvXIzs1fNbI2ZLTWz8yLa9PHqrzazPhHlLczse6/Nq2Zm2V0DAAAAAIAgIwwpGsMldc1Q9pCkr51zDSR97R1L0uWSGni3OyS9KYWCDUl/l3S+pNaS/h4Rbrzp1U1v1zWHawAAAAAAEFiEIUXAOTdD0q4MxT0kjfAej5B0dUT5v13IXEkVzKyGpC6SpjjndjnndkuaIqmr99ypzrk5zjkn6d8ZzhXtGgAAAAAABBZhSPxUc85tkyTvvqpXXlPSpoh6m72y7Mo3RynP7ho+ZnaHmSWbWfKOHTvy9aIAAAAAADjeEYYcfyxKmctDecycc0Occy2dcy2rVKmSm6YAAAAAAJxwCEPi5ydviou8++1e+WZJZ0TUqyVpaw7ltaKUZ3cNAAAAAAACizAkfiZISt8Rpo+k8RHlv/N2lblA0l5vissXkjqbWUVv4dTOkr7wnttvZhd4u8j8LsO5ol0DAAAAAIDASox3B4LAzD6S1F5SZTPbrNCuMM9K+tjM+knaKOl6r/okSd0krZF0SNKtkuSc22Vm/5C0wKv3lHMufVHWPyq0Y01pSZ97N2VzDQAAAAAAAoswpAg4527K4qmOUeo6SX/O4jzDJA2LUp4sqUmU8p+jXQMAAAAAgCBjmgwAAAAAAAgUwhAAAAAAABAohCEAAAAAACBQCEMAAAAAAECgEIYAAAAAAIBAIQwBAAAAAACBQhgCAAAAAAAChTAEAAAAAAAECmEIAAAAAAAIFMIQAAAAAAAQKIQhAAAAAAAgUAhDAAAAAABAoBCGAAAAAACAQCEMAQAAAAAAgUIYAgAAAAAAAoUwBAAAAAAABAphCAAAAAAACBTCEAAAAAAAECiEIQAAAAAAIFAIQwAAAAAAQKAQhgAAAAAAgEAhDAEAAAAAAIFCGAIAAAAAAAKFMAQAAAAAAARKYrw7AADIhyfKx7sHwfXE3nj3AAAAAHnEyBAAAAAAABAohCEAAAAAACBQCEMAAAAAAECgEIYAAAAAAIBAIQwBAAAAAACBQhgCAAAAAAAChTAEAAAAAAAECmEIAAAAAAAIFMIQAAAAAAAQKIQhAAAAAAAgUAhDAAAAAABAoBCGAAAAAACAQCEMAQAAAAAAgUIYAgAAAAAAAoUwBAAAAAAABAphCAAAAAAACBTCEAAAAAAAECiEIQAAAAAAIFAIQwAA/9/enYfLUpX3Hv/+OCBwwQg4gjiggqJBRLggwQFwAEccoohEQY1oCDHxxhhMNOCURA3XKRpEAweNGAyKEIcAAUEFjEyiIgiogMg8iAPz4c0fq9rTNL3P2Rv2Ps3p+n6ep5/evaq6anX36tpVb6/1LkmSJKlXDIZIkiRJkqReMRgiSZIkSZJ6xWCIJEmSJEnqFYMhkiRJkiSpVwyGSJIkSZKkXjEYIkmSJEmSesVgiCRJkiRJ6hWDIZIkSZIkqVcMhkiSJEmSpF4xGCJJkiRJknrFYIgkSZIkSeoVgyGSJEmSJKlXDIZMWJKLkvwgyfeSnN6VrZfkuCQXdPfrduVJ8tEkFyb5fpInD21nj279C5LsMVS+Zbf9C7vnZsW/SkmSJEmS7j0Mhtw77FBVT6qqrbrH+wLHV9XGwPHdY4DnAht3t72Af4EWPAH2A7YBtgb2GwRQunX2Gnrezgv/ciRJkiRJuvcyGHLvtAtwaPf3ocCLh8o/U813gHWSrA/sBBxXVddV1fXAccDO3bLfq6pTq6qAzwxtS5IkSZKkXjIYMnkFHJvkjCR7dWUPrqrLAbr7B3XlDwV+PvTcS7uyZZVfOqb8TpLsleT0JKdfffXV8/CSJEmSJEm691p10hUQ21XVZUkeBByX5LxlrDsu30fdjfI7F1QdBBwEsNVWW91luSRJkiRJ08SeIRNWVZd191cBR9JyflzZDXGhu7+qW/1S4GFDT98QuGw55RuOKZckSZIkqbcMhkxQkrWS3HfwN/Ac4IfA0cBgRpg9gKO6v48GXtPNKvMU4IZuGM0xwMf/QfcAABqqSURBVHOSrNslTn0OcEy37NdJntLNIvOaoW1JkiRJktRLDpOZrAcDR3az3a4KHFZV/5XkNOALSV4PXAK8vFv/a8DzgAuBG4HXAlTVdUneA5zWrffuqrqu+/tPgMXAmsDXu5skSZIkSb1lMGSCquqnwOZjyq8FnjmmvIA/nWFbBwMHjyk/Hfj9e1xZSZIkSZKmhMNkJEmSJElSr9gzRJIkrVQ2O3SzSVeht36wxw8mXQVJkuaFPUMkSZIkSVKvGAyRJEmSJEm9YjBEkiRJkiT1isEQSZIkSZLUKwZDJEmSJElSrxgMkSRJkiRJvWIwRJIkSZIk9YrBEEmSJEmS1CsGQyRJkiRJUq8YDJEkSZIkSb2y6qQrIEmSJGnZzn3cppOuQm9tet65k66CpAVgzxBJkiRJktQrBkMkSZIkSVKvGAyRJEmSJEm9YjBEkiRJkiT1isEQSZIkSZLUKwZDJEmSJElSrxgMkSRJkiRJvWIwRJIkSZIk9YrBEEmSJEmS1CsGQyRJkiRJUq8YDJEkSZIkSb1iMESSJEmSJPWKwRBJkiRJktQrBkMkSZIkSVKvGAyRJEmSJEm9suqkKyBJkiRJ0qiPv+mESVehl/70wB0nXYUVwp4hkiRJkiSpVwyGSJIkSZKkXjEYIkmSJEmSesVgiCRJkiRJ6hWDIZIkSZIkqVcMhkiSJEmSpF4xGCJJkiRJknrFYIgkSZIkSeoVgyGSJEmSJKlXDIZIkiRJkqReMRgiSZIkSZJ6xWCIJEmSJEnqFYMhkiRJkiSpVwyGSJIkSZKkXjEYIkmSJEmSesVgiCRJkiRJ6hWDIZIkSZIkqVcMhkiSJEmSpF4xGCJJkiRJknrFYIgkSZIkSeoVgyGSJEmSJKlXDIZIkiRJkqReMRgiSZIkSZJ6xWCIJEmSJEnqFYMhkiRJkiSpVwyGSJIkSZKkXjEY0gNJdk7y4yQXJtl30vWRJEmSJGmSDIZMuSSLgI8DzwUeD+yW5PGTrZUkSZIkSZNjMGT6bQ1cWFU/rapbgX8HdplwnSRJkiRJmphU1aTroAWU5A+Bnavqj7vHrwa2qap9htbZC9ire/hY4McrvKICeABwzaQrIa1gtnv1ke1efWObVx/Z7ifnEVX1wOWttOqKqIkmKmPK7hQBq6qDgINWTHU0kySnV9VWk66HtCLZ7tVHtnv1jW1efWS7v/dzmMz0uxR42NDjDYHLJlQXSZIkSZImzmDI9DsN2DjJRknuA7wSOHrCdZIkSZIkaWIcJjPlqur2JPsAxwCLgIOr6pwJV0vjOVRJfWS7Vx/Z7tU3tnn1ke3+Xs4EqpIkSZIkqVccJiNJkiRJknrFYIgkSZIkSeoVgyGSJEmSJKlXDIZIkiRJkqReMRgiSZIkSZJ6xWCItICSZNJ1kCYpif9n1Ase79VHtnv1mec4K79VJ10BaRolWQO4BVgduHnC1ZFWiCSPAV4BrAn8vKoOqqo7JlwtaUF5vFcf2e7VN57jTKdU1aTrIE2VJE8A3g08DLgUOLqqFk+0UtIC69r9t4GTaW1/beC3wG5Vdc4k6yYtFI/36iPbvfrGc5zpZdceaR4l2Rj4FnA5cBxwDfCpJB9Psu5EKyctkCSrAwcAX6qqFwDbAi8Cfgl8Pck23Xp2p9bU8HivPrLdq288x5luDpOR5teuwFlVtQ9AklWBrwKHAWsmeVNV3ZokZbcsTY8C1gH+E6CqbgTOSbIzcDRwWJKnVNXVtn1NkVkd7ydZQWkBeJ6jvvEcZ4rZM0SaXxsCi4Ye31FVRwEvAV4FvAPAA6WmSXfBdwfwrEFZkkXdCcMrgV8Dn+7Wte1rWszqeC9NGc9z1Cue40w3gyHS/DoR2DLJdgBVdUcXJT4W+HNg7yRbTrKC0nwayqR+ILBJkr0BqmpJd7JwDfAR4DFJHjqpekoL4EQ83qt/TsR2r57wHGf6GQyR5tfptLG0b0nyxJFl3wBupf2qIk2FoUzqxwJnA69Ksme3bEm37OfAWjg0U9PF4736yHav3vAcZ/oZDJHmUVVdCHwW2Aj4qyRbDnWZuxi4ErjPpOonzZfhRGHdr4JXAO8ErgPekORd3bJ1gB278l9Noq7SQvB4rz6y3atvPMeZbk6tK90NXde4JcOJkkb+fi3wemA1Wve5i2jjafcAtqqqSyZTc+nuS7IBsF5V/XDMslW67tKPBPahjaNdG/gp7VfCnarqrBVYXWnBeLxXH9nu1QfjkqB6jjO9DIZIc5TkycCHgedW1W9Hlq0y6FKX5DnAy4DXARd0q+zuwVIroyQbAt8DTgHeW1XfHbPO4GRhLWBd4AW06Re/X1U/W6EVluZBklWr6vYZlnm811RKsh7wEGAJcFFV3TK0zHavqZNkbVpgL1V13QzreI4zhQyGSHOQZHPgZOCTVfWXQ+XDv5bc6eQ5ycNoJxQ3z3SAle7tkuwIHEMbK3458KGqOr1btgqwqKpum2AVpXmVZBNgd+DfquqCGdbxeK+pkuT3gc/QLgwfC/w98L7h47vtXtMkyeOBjwIPAB4K/B1wSFXdPLTO74KAmi7mDJFmqUsUdjLwiZFAyBojQ2VGf0X8RVVd5gmCVnJnA18DDgM2Bd6aZLNu2SqDE+Uk/y/JYyZUR2ledG34ZNoY8X26rtGj63i811RJ8gTabDHHA7sCb6ddGG4wtI7tXlMjyabASbRznHcDnwQ+Bmw1vN5QbyjPcaaMPUOkWUjyEOAsWle4nZIsAj4EbEz75eQQ4CuDrqFJ3gesW1V7T6rO0nzpen48kHZx+DRgW2Bf4BxgE+CKqnpZN9XikcCPgGcBS0bH3Ur3dl0X6I/Qfhk/Bfj/wGLgg1V10Zj130vLpePxXiutJA8EjgDOrKq3dGWhBcHfA9wMXDPIBeJ5jlZ23XCwzwM/rqo3D5X/F3BZVb1upOf3tsBReI4zVZwCSJq9U4GNkrwE2Iv2/fku7YJwN2CzJO8ErgAeDWyd5EFVddWkKizNk6qqK5OcCWxaVV9KchOtK/UawKe7lU5Osi9w0kx5FqSVwB204Pd1VfX5JFcCnwNIcqeASJJ1acf7bT3eayVXtOlDDx8qewewEy1/yAOB85K8GzgNz3O08luNlvvjCFg6OQJwIa3NMxzsqKpTPceZPvYMkWYpyfrA+4FXAN8Edquqa7tlL6V1rdunqg5P8nDgtqq6fGIVluZZks8D51XVu5J8GngpLX/IacCnq+rbE62gNE+SrDWcILs7xn8WOBR4f1Vd3PUQvG+3ypoe77WyS3Lfqvp19/cracMidwOOA34fOAA4pqrekeQRwK22e63MkmxSVed3f69WVbcl+Rtg86radWi9B1fVlROrqBaMPUOkWaqqy7uI8KXA8VV17SChUvdL+XuBpwOHO6WcpslQN9GTgXWS/DPwPNqY2icC/wTcluR04Ba7jWplNwiEdAGPwTE+tN5QleTDwJ8AGwGvrKpfTq620vwYBEI6p9KmyD2ze/zNJFcAW3T/Ey5e8TWU5tdQIOR3uc+A+9B6QtEt+1vggd01gOc4U8ZgiDQHVXVZkn+kjZ2lm2IrwDrANcDpk6yftBCG/vGfD/wXbSjYC6vqp8BP21eAs4czr0vToKqWpFmlqr6YpICDgZ2BhwNbD087Kk2LLthxMfwud8jqwG+BH3gxqGkzZqaYJQDdsLB3AE/2HGc6OZuMNEdV9auqunXocQFvAdYHvjGxikkL79vAXwA7V9UZ3QkyVfXlqvrZZKsmLYxq7uh+Df8SLVfUOsAWg6TZ0jTrznP+hpY8+wsTro60ILpk8QC3A5ck+SvgbbQeUt+bXM20kOwZIt0D3Zja7Wl5RJ45bqYBaVpU1Y1JPt4lGMNfB9UzqyT5IG0WgSdV1Q8nXSFpoSV5OfAM4JXAs6vqgglXSVoQQ71D7gBeC9wAPHVoqJimkD1DpHvmR8CGwNP8hVB9MAiESD11Dq279PcnXRFpBTmXNrPG0z3PUU8c291vV1UOf59yziYj3UNJ7jM8bEaSNJ2GkglLvTGYZWPS9ZBWlNEZxTS9DIZIkiRJkqRecZiMJEmSJEnqFYMhkiRJkiSpVwyGSJIkSZKkXjEYIkmSJEmSesVgiCRJUyZJJTlx0vWYD9P0WiYhyYlJpipbfpKNkxyZ5Iquffxy0nWSJK18DIZIknQ3dRdiw7clSa7rLkD3TJJJ11F3X5KLus/110kePMM6J3brPGao7JFd2UXL2X5NW6BioSVZBHwZeB7wFeBdwD/O5nlJ3pDkpO47eluSq5J8P8mnk7xoZP09u89nz4V4HZKkyVt10hWQJGkKvKu7Xw14DPAS4BnAVsA+E6jPpsCNE9jvtFqb9hm/adIVERsBjwc+VVV7zeYJXQDlK8DOwC+BrwKXAusBjwZeBTwOOHohKixJuncyGCJJ0j1UVfsPP06yHfBNYO8kB1TVz1Zwfc5bkfvrgQuBP07ykao6d9KV6bkNuvvL5vCc3WiBkLOBZ1TVDcMLk/wfYJv5qZ4kaWXhMBlJkuZZVZ0MnAcE2HLcOkl2SvK1JNckuSXJT5J8MMk6Q+uskeSXXXf+sT9gJDmw687//KGysXk2kqyaZO8k30nyqyQ3JjkryT5JVhlab+0ktyY5eeT5aya5udv+q0eW7d2Vv26o7FFJDkpyYZKbuuEJP+jqfP/lvY8j298gyWe79+KmJGckedXIOjt3dTh4hm2s3r3f1yRZfQ67fzuwCPjAXOp8dwwPz0jy7CTfSvKbJFcnOWTQPpJskeQrSa7vlh+d5JHL2O7qSd6b5GdD7W2/JPeZYf3HJVmc5Ofd+lcmOSzJY8esu7ir86OS/Fk39OSmcW1whn1tmeSL3Wd7S5KLk3wiyfoj6xVwUvdwvywdnrb/cnbxB9394tFACEBV3VhV3xjaz4nAId3DQ3LnoXCP7NbZIMnfJTk5LXfJrUku696jTce8xsHQqcVJNklyePd670iyfbfOvH1fJEnLZ88QSZIWxiBfyG13WZD8HW3YxXW07vtXAU8E3go8L8m2VfWrqro5yeHAXsBzgf8c2c7qwCuAK4FjllmZZLXu+TsBPwYOA24GdgA+Rvtl/NUAVfWbJN8Ftkly36r6dbeZ7YBBEOGZwGeHdrFjd398t7/1gdOA3wO+BnwRWIM2zOHVwD8D1y6rzkPWBU6hDXE4BFine92fS/LQqvpgt94xwE+AXZO8ZcyF78uA+wMHVNUts9w3tBwV3wRekGSH4QvnBfQi4AW09nEg7YJ+T2CjJPvS3udvAf8KbAa8EHh0ks2q6o4x2/sC8H+BI2htchdgf2CrJC+qqt/lLkmyM/Al2rCv/6T1jNkQeCnw/O49OHPMPj4CPI02DOVrwJLlvcgkL6C1jXR1u5gWQPwTYJck21XVRd3q7wIeCexBC4qc2JWfyLIN2tkmy6tPZzGtre0CHAV8b2jZIFnr04F9gW909f8NsDHwh8CLunqfPWbbjwb+Bzgf+BywJvCref6+SJJmo6q8efPmzZs3b3fjBlT7V3qX8qfTLgRvAdYfWbZD97xTgHVGlu3ZLfvQUNm2XdkRY/bz8m7ZAWPqdeJI2f5d+ceARUPli2gX1AXsMlT+7q7s+UNl/wDcDpwA/HyofBXgGuAnQ2V/1j3/z8fUey1gzbm8x7SL+VWGyjeiBZNuBR41VP7Wbv19xmzrxG7ZJrPc90Xd+qvSAgl3AGcAGbPNxwyVPbIru2iu7WeoDdxOG9Ix/B4f1y27Dth95Hl3+QxH6nc+sO5Q+RrAqd2yVw+Vrwtc332ejx/Z1hNoF/1njpQv7rbzC2CjOXx/1u72swR42siyv+62eexI+fZd+f5z2M8WXTu5gxbAeynwiOU8Z/A57DnD8gcB9x1Tvnn3Hn19pHzQJgr4+zHPm5fvizdv3rx5m/3NYTKSJN1DSfbvbu/renL8N+2X7rdW1eUjq7+5u39DVd1pStCqWkz7FXr3obJTaReyL0yy3si29ujuD11O/VahJXK9AnhLVf3uF/vu77+kXYjtPvS047v7Zw6VPZMWDPgisGGSwS/tT6L1uDieu7pptKCqfltVdylfhiXAX9dQj4dqeVg+Suu9MDxk5xBaj5c3Dm+gG97xDOAbVXX+HPY92N9pwOHAk7nz+7RQPl9VgyEhdK990BPnh1X1uZH1P9PdP2mG7b2nqq4f2t7NtOE/AK8bWu81tJ43+1XVj4Y3UFXnAJ8Ctkjy+DH7+EDNLT/OLrR2c3hVfWtk2QG0YNSzkzx8Dtu8i6o6C/gjWg+qP6K134uSXJs2Re8L78Y2r6qlPaaGy8+mBQt36HpjjbqSpQmXx5mP74skaRYcJiNJ0j2338jjAl5fVYeMWXdb2jCFlyd5+Zjl9wEemOT+VTXoFn8o8D7glcAnANKmet0JOKuqvr+c+m1Cu+i8AHhHxs/4exNtFpqBU7uyZ3b7ux8tEPAB2sUe3bLzWTpE5oSh5x8N/D3w8SQ70YawnAz8qKrmOp3sJTNcZJ9Ie++3GBRU1bVJvgC8JskfVNUp3aLBzCMHznHfw95OmynofUmO6AIKC+X0MWWDpKFnjFn2i+5+wxm2d9KYsm/ReqBsMVS2bXe/+Qy5OAYBsE2BH40s++4M+57Jk7v7E0YXVNXtSb5J61GxBXDJHLc9ur0vJDmS1jPrqd02nwq8GHhxks/QeoHMum2m5el5E23WqAdw1/PqBwCjwdCza/wQrfn8vkiSZsFgiCRJ91BVBSDJWrSLyX8FDkxycVWNXujdn/b/dzSAMmptluYI+AzwHlpPkE90Zbt321lmr5ChfULLabCs/a49+KOqbk3ybeBZSR5Ee12LgOOr6twkl9GCIf/S3RdDF7VVdXGSrWnDc3amDU0A+HmSf6qqj86i3gNXzlB+RXd/v5HyT9B6OLwROKXLrbIHLTfLl+ew3zupqouSfIw2FOfPgffPsOqgB8uMPXCzNGHtTBe6d0n0SQtcLG/ZuN4IMOY9rKolSa6lDfkYGLSVN8ywnYG1x5RdMaZsWQaf22jAgJHydWZYPidVdRtwbHcbTLn7MuBgWns5klm2jyRvpuVIuZ42fOkS2nTWRQuwbM7S/DrDxr5H8/x9kSTNgsNkJEmaJ1139v+mJbNcBByaNm3nsBuA66sqy7ldPLTdS2mBhq2TPK4r3oPWw+SwWVRtcPF85HL2udHI806gDffZkRbwuIX2azW0xJE7dIGGpwHnVNVVI+/HuVW1K+0CeytawslVgI8kef0s6j3w4BnKHzLy+gb7/R/gTOAVSdZlaeLUQ6rq1jnsd5z30XJ2vD3JA2ZYZ1Cf9TJDNxxarwFYmpBzod3lPeyCAfcHfjVUPKj75stpK+OCcHPtwTDY10NmWL7+yHrzqqqWVNUXgA91RTsua/2BtJmd3kULbDyhqnatqr+qqv2qTbM9U/AOlvEezeP3RZI0CwZDJEmaZ92wlU/Rhiy8ZWTxd4B1kzxhjptd3N3vkeRJtNlnvl5VV8/iuefRLrqfMkMeg5kM5w3ZETh5aGjI8cB6tFk/1mJ8vhCgDXmoqjOq6v3Abl3xi+dQj4cPpjQdsX13f9aYZf9CSxL6GtoQmaJ9JvdIl+flPbReDWN72VSbxeZi2vuy2QybGgxHGTfjyEJ4xpiyp9F6Fw2/f98ZWrbQBvvdfnRBF3B4avdw3Mw182mQ+2M4cDXIq7NozPoPoPVWOWU0J1CStVk6/OdumYfviyRpFgyGSJK0MN5LS+T51q53wsDgV+hPJdlg9ElJ1krylDHb+xLtF/w/os10AUsDJMtUVbfTZpFZH/hokjXH7Hf9MUkxz2DpFKNP4M4Bj8HfgyScdxoOlGTrLq/JqEHZjbOpe2cR8P6hoSUk2YiWjPZ24N/GPOcwWo+Ct9ECAcdV1U/msM9l+QRtCt830nJajLO4u/9A13vmd5Ksw9IkmotZMd453A6TrEGbHQha0lmG/v4lsF83bONOkqySZPt5qtOXab1sdhvT5v8CeBTw31V1j/KFJNktybOH28/QsoewdEjQN4cWDYaojUveehWt/W7ZBT8G21qNNnRmph5Dy6rjfH5fJEmzYM4QSZIWQFX9Isknabkl3kYXNKiq45PsS7sQvSDJ14Cf0XIwPIJ24f5tWt6A4e3dlOQ/gNcDe9Mu1r46hyq9h5bH4E20mWlOoCXdfBAtl8h2wN8ylBSzqu5IchItGAJDwZCquiTJT4BH035FH03Q+SrgT7vnX0jLrfBo2hCiW4APz6Hu3we2Ac5IciytV8autF/n3zYuyFFVNyY5lKWz93xyDvtbpi6fyttp0/0+YobV/oGWrHMn4Pzuc76WNiRkF9oF87+zdBaYhXYucE6SI2jDq3ahfR5fZeksNYMEtH9Iy5/xnSTHA+fQ8qA8nNaj5f60Xjf3SFX9JsnrgP8ATura9yXAlsBzaMNQ3riMTczWNrTv4RVdHpxBMt6NgOcDawJHAUcMPedUWgDiL7pZnAZDXz5WVTck+ShtGMsPkhxFS3y8A6231De6v+diPr8vkqRZMBgiSdLC+Qfar85vTvLhqroSoKren+Rk2oX6U2kXpjfQghMHMXMekMW0YMhqtKlXZ53/oqpuS/JilvYseQEtAHM17eLwncDodK3QAiC70HqljM5wcjztgu2MbmjIsM/TEkj+AW3YwJrd6/t34ICq+uFs6067MHwubSab1wK/Rwva/FNVLStnysG09/hy2mwd86aq/iPJqSwd7jK6/JYkz6IN0dmNNhPQ2rTP+Xu0HhiHrcCZQl5B+4x3BzagfRb7A/84WocuYPdEWqLYnWhDZm6lzWZzAm1q2nlRVUcl2Q74m25f96MFQQ6kTQd82bKeP0sH0GZSehZteNlOtGDOtbQZiQ5j5LOoquuTvIw2FOq1tCFP0Hoh3UB7L68G/pgWsLmBlkj1HSx76tyZzOf3RZI0C3G2LkmSNI2S7EkLOry3qt454epIkqR7EYMhkiRp6nQJOM8ENgU26mbkkSRJAhwmI0mSpkiSp9LyrmxPm8nlnw2ESJKkUQZDJEnSNHkWLc/DdbSpdN822epIkqR7I4fJSJIkSZKkXrnLfOuSJEmSJEnTzGCIJEmSJEnqFYMhkiRJkiSpVwyGSJIkSZKkXjEYIkmSJEmSeuV/AZQpQxKkGWgHAAAAAElFTkSuQmCC\n",
      "text/plain": [
       "<Figure size 1224x504 with 1 Axes>"
      ]
     },
     "metadata": {
      "needs_background": "light"
     },
     "output_type": "display_data"
    }
   ],
   "source": [
    "plt.figure(figsize=(17,7))\n",
    "df.star_rating.value_counts().plot(kind='bar')\n",
    "plt.xticks(rotation=45, fontsize=14, ha='right')\n",
    "plt.title('Review Star Ranking', fontsize=40, pad=-40)\n",
    "plt.ylabel('Star  \\n Counts', rotation='horizontal', fontsize=20, wrap='True', ha='right')\n",
    "plt.xlabel('Reviews by NUmber of Stars', fontsize=20, ha='center')\n",
    "plt.show()"
   ]
  },
  {
   "cell_type": "code",
   "execution_count": 10,
   "metadata": {
    "ExecuteTime": {
     "end_time": "2020-03-20T17:59:59.811949Z",
     "start_time": "2020-03-20T17:59:59.518951Z"
    }
   },
   "outputs": [
    {
     "data": {
      "text/plain": [
       "<matplotlib.axes._subplots.AxesSubplot at 0x255869e4128>"
      ]
     },
     "execution_count": 10,
     "metadata": {},
     "output_type": "execute_result"
    },
    {
     "data": {
      "image/png": "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\n",
      "text/plain": [
       "<Figure size 432x288 with 1 Axes>"
      ]
     },
     "metadata": {
      "needs_background": "light"
     },
     "output_type": "display_data"
    }
   ],
   "source": [
    "df.verified_purchase.value_counts().plot(kind='bar')"
   ]
  },
  {
   "cell_type": "code",
   "execution_count": 13,
   "metadata": {
    "ExecuteTime": {
     "end_time": "2020-03-20T18:03:19.599325Z",
     "start_time": "2020-03-20T18:03:18.804321Z"
    }
   },
   "outputs": [
    {
     "data": {
      "image/png": "iVBORw0KGgoAAAANSUhEUgAABFAAAAIOCAYAAACf0/mBAAAABHNCSVQICAgIfAhkiAAAAAlwSFlzAAALEgAACxIB0t1+/AAAADl0RVh0U29mdHdhcmUAbWF0cGxvdGxpYiB2ZXJzaW9uIDMuMC4yLCBodHRwOi8vbWF0cGxvdGxpYi5vcmcvOIA7rQAAIABJREFUeJzs3XeYnWWdP+DPkxCKIdKkt1CUlkiUgCAgiAklNGkBBAkCsosiqKwr+pOVFXRxFxSkrTSJ0qu0BaWFpUggUTE0RdIoEUIPggGS9/fHTGbnTCZ5Z5JJJuW+r2uuc573vOV7zswJnM95SqmqKgAAAADMWo/uLgAAAABgQSdAAQAAAKghQAEAAACoIUABAAAAqCFAAQAAAKghQAEAAACoIUABAAAAqCFAAQAAAKghQAEAAACosUR3F8DC7yMf+UjVt2/f7i4DAAAAOm306NGvVFW1ct1+AhTmWt++fTNq1KjuLgMAAAA6rZQyoSP7GcIDAAAAUEOAAgAAAFBDgAIAAABQQ4ACAAAAUEOAAgAAAFBDgAIAAABQQ4ACAAAAUEOAAgAAAFBDgAIAzUopLT+HH374bPft27dvy7477rjjfKlvYfX44483vLann356d5e02PiXf/mXhtf+lVde6e6SFhjPPfdcbrvttpx33nk57bTT8qMf/Sjnn39+rr766jz55JOZPn16d5fYwnsIYMGwRHcXAMDCY/z48VlvvfVm2n7eeeflmGOO6dS5+vbtmwkTJiRJVlpppcX+g929996bnXbaqaW9/vrr59lnn53r8/7973/PaqutlrfffjtJ0qNHj0ycODFrrrnmXJ8bFjYTJkzI+eefn2uuuSbjxo2b7b59+vTJ4MGDM2zYsOy2227p1avXfKoSgAWVHigAzLVTTz01//jHP7q7jIXajjvumHXXXbelPXbs2DzwwANzfd4bbrihJTxJkkGDBglPWOxMmTIlxx9/fDbccMP8+Mc/rg1PZhxzww03ZO+9985HP/rRXH755amqaj5UC8CCSoACwFx78cUXc95553V3GQu1UkoOO+ywhm2/+tWv5vq8v/zlLxvaw4YNm+tzwsLk6aefzpZbbpmf/exn+eCDDxoe6927d7baaqvsvvvuOfjggzNo0KBsttlm6dmzZ8N+EyZMyKGHHppzzjlnfpYOwAJGgAJAlzjttNMaejrQeW0DlGuuuSZTp06d4/O98MILueeee1raH/7wh7PPPvvM8flgYfP0009nhx12yJ///OeG7XvttVd+85vf5NVXX83IkSNz66235oorrsidd96Zxx9/PC+99FKGDx+eHXbYoeG4uXk/ArDwE6Aspkopa5dS7i2lPFVKeaKUcnzz9pNLKS+UUv7Y/DOku2sFFg6TJ0/OWWed1d1lLNQ23HDDbLvtti3tN954I7fccsscn++yyy5rmAjzgAMOyDLLLDNXNcLC4t13383++++fl19+uWXbRz7ykdx111256aabsvPOO2eppZZq99iVVlophx12WEaMGJFbbrklG2200fwqG4AFmABl8fVBkhOqqtokydZJvlpK2bT5sZ9WVTWg+ed/uq9EYEG34447pk+fPi3t008/PW+88UY3VrTwazvEpu0QnM5oOwSobQ8XWJQdf/zxeeKJJ1raq622Wu6777587nOf69R59thjj4waNSqf//znu7pEABYyApTFVFVVk6qq+n3z/SlJnkpiVkGgU1ZaaaV8/etfb2m/8cYbOeOMM7qxooXf0KFDs/TSS7e077jjjjlaoWj06NENHx7XW2+9bL/99l1SIyzoxowZkwsvvLBh2y9+8Ytsuummszhi9pZddtnccMMN2W+//bqiPAAWUpYxJqWUvkk+kWRkkm2THFtKOSzJqDT1Unm9nWOOTnJ0kqyzzjrzrVZgwXPCCSfk3HPPzWuvvZYkOfPMM3P88cfnIx/5SDdXtnBabrnl8vnPfz5XXXVVkuT999/PlVdema997WudOk/bniuHHXZYSikdOnbixIl58sknM27cuLz55psppWTFFVfMuuuum2222aah19Gi5vnnn8/IkSPz8ssv5/XXX88KK6yQNdZYI9tvv31WXHHFuTrv73//+0ycODFvvfVWSinp3bt3Vl999WywwQbp169fllxyyS58Jh0zYcKEjBo1Ks8//3zef//9rLnmmtlmm23St2/f+V5LV/rJT37S0D7kkEOy6667ztU5SyntLuM+K++9914efPDBjBs3LpMnT86SSy6ZVVZZJR//+MfTv3//uaplYfDYY4/liSeeyAsvvJBSSj72sY9lp512yrLLLjvb4/785z/n4YcfzqRJk7Lkkktm7bXXzqBBg7LCCit0WW1/+tOf8sQTT+T5559Pr169ssYaa2SHHXbIqquu2mXXYPHUf3j3vrfHDBvTrddfLFRV5Wcx/kmybJLRSfZtbq+apGeaeif9MMkldefYYostKmDxMG7cuCpJy89+++1XVVVV/ehHP2rYfsIJJ9Sea911123Zf6WVVprtvjvssEPLvuuuu26nam5d17Bhw7ps39b177DDDp2qqc7tt9/eUMvAgQM7dfz7779frbLKKg3nePbZZ2e5/wcffFDdeeed1VFHHdXwvNr76dmzZ7XbbrtVDzzwQIfrGTNmTMM5/uu//muW+5599tkN+z766KMdvs5+++3Xclzv3r07fNwHH3xQXXTRRVX//v1n+7wHDRpUPfLIIx0+b1VV1VVXXVVtueWWs31Nk1RLL710tdNOO1WXXHJJp85f54QTTmi4zuTJk6uqqqqHHnqoGjx4cFVKabee7bbbrva1v+GGGxqO+cEPftDp+h588MGGcxx33HFz9Dxbe+WVV6oll1yy4byd/b3NjQkTJlTDhg2rll122Vn+vtdee+3qtNNOq959990OnXNBfA9tscUWLftuttlmLduvvPLKavPNN2/3effp06c69dRTq2nTps10vnvvvXeW75UllliiOvbYY6spU6Z06HmstNJKLcfuvvvuLdtvuOGGasCAAe1eo5RS7bnnntVf/vKXDr5aMLN+l/br1h/mXJJRVQc+PxvCsxgrpfRKcn2Sy6uquiFJqqp6qaqqaVVVTU9yYZKturNGYOFw3HHHZZVVVmlpn3feeZk0aVI3VrRwGzx4cFZfffWW9qhRo/L00093+Pg77rijYeLM7bffPuuvv/4s9z/33HMzePDgXHTRRZkwYcJszz1t2rTcfvvt2W677XLSSSfNCOMXWs8++2wGDBiQo446KmPGzPqbu2nTpuWuu+7Kpz71qfzbv/1b7Xnff//9DB06NAcddFAeffTR2v3/8Y9/5J577slJJ53UqfrnxIUXXpjtt98+d9555yx/fw888EC23nrr/OxnP5vlefbcc8+Gv9NLLrmk038PF110UUP7qKOO6tTx7bnvvvvy3nvvtbT79euXLbfccq7P2xHDhw/PRhttlOHDh892VbLnnnsuJ554YjbbbLNOvbcXZFVV5ZhjjsnBBx+cxx57rN19pkyZku9973s56KCDGv5WfvzjH2ennXaa5Xvlgw8+yDnnnJNddtlljlZ7mz59eo477rjsu++++eMf/zjL+m+55ZZ86lOfyiOPPNLpawCLBwHKYqo09eO+OMlTVVX9pNX21Vvttk+Sx+d3bcDCp3fv3vnOd77T0n733Xdz6qmndmNFC7eePXvm0EMPbdjWmclk2xu+MzutV+pJkg996EPZaqutstdee+WQQw7Jvvvum09+8pPp1atXw36nnnpqfvjDH3a4rgXNH/7wh2yzzTZ5/PHG/9Sts8462X333fOFL3whQ4YMycorr9zyWFVVOeWUU/Iv//Ivsz33t771rVx77bUN2/r06ZPtttsuQ4cOzSGHHJK99torn/zkJxvmvJnXbr/99vzzP/9zpk2blqTpue6xxx4ZOnRottxyy4ZhXtOmTcvxxx8/01wiMyyxxBI54ogjWtrjx4/P3Xff3eFapkyZkmuuuaalvdVWW3XJ0JYHHnigod12KeJ55bzzzsuXvvSl/OMf/2jZVkrJwIEDc8ABB2TPPfecaWjU2LFjs/3228/0N7gwOvnkk/Pf//3fSZr+NrbddtsceOCB2XvvvbPaaqs17Hvttde2DLP67//+75x44ompqiqllGyxxRbZf//9s++++840ZOqhhx7KiSee2Onavvvd7+bss89O0vTv61ZbbZUDDjgg++23XzbZZJOGfV9//fXsv//+mTJlSqevAyz6BCiLr22TfDHJTm2WLP7PUsqYUsqfknw2yTe6tUpgoXHMMcdkrbXWaml3pDcDs9Z2NZ7LL7+8Q9/uv/nmmw1LHy+zzDIZOnRo7XFrrrlmvve97+XRRx/NlClTMnLkyNx000257LLLcv3112f06NGZNGlSfvCDHzR84D/55JNn23NjQfXGG29kn332yeTJk1u27b777vn973+fCRMm5NZbb83ll1+e2267LS+99FKuuuqqhiDljDPOyK233truuV988cWcc845Le3ll18+w4cPz6uvvpr7778/V199dS677LLcdNNNGT16dKZMmZIRI0bka1/7Wj784Q/Puyedpt5i06dPz5prrpmbb74548ePzy233JKrr746jzzySMaNG5chQ4Y0HHP88cfnr3/9a7vn+/KXv5wePf7vfyfb9iiZnSuvvDJ///vfG87VFR5++OGG9sCBA7vkvLPzhz/8Id/4xjca3qN77LFHxo4dm0cffTTXXHNNbr755owbNy6/+c1vGoKUV155JQcffHCmTp06z+ucVyZOnNgSmv/zP/9zJk2alAceeCBXXXVVfv3rX+f555/Paaed1nDMKaecklGjRuX4449Pkuy3334ZP358Ro0alWuvvTbXX399xo4dm0svvbQhvD3//PMzbty4Dtf28MMP58c//nGS5Nhjj82kSZMycuTIXHPNNbnuuuvy5JNPZsSIEQ0hz3PPPZczzzxzjl8PYNElQFlMVVX1QFVVpaqqj1etliyuquqLVVX1b96+V1VV+uADHbLUUkvl//2//9fSfu+99/KDH/ygGytauG222WbZYostWtoTJ07MiBEjao+7+uqrG74B//znP1/7oXzo0KEZN25cTjnllAwcOLDhA3FrK620Uk466aTcdttt6dmzZ5KmXgoL4weN448/viHg++53v5tbb701n/jEJ2bat5SSAw88ML/73e+y0kortWz/5je/OVPvnaSpl8eMHh5J0+ovhx122Ew9eGZYYoklssMOO+RnP/tZfv/738/N06r1xhtvZLXVVsv999+fPffcc6aJhdddd93ccsstOeCAA1q2vfvuu/nGN9r/PmXdddfNLrvs0tL+9a9/nVdffbVDtbQOW5ZddtkcdNBBnXkqs/Tiiy82tDfaaKMuOe/sHHPMMQ3Dhg455JDcfPPN7U7Gu/POO+ehhx5qeOzxxx+faeLbhcmUKVMyffr0nHLKKTn//PNnmkS8Z8+e+fa3v52vfOUrLdvefPPNDB48OO+9917+6Z/+Kdddd127CxMMGzas4b8l06dPz2WXXdbh2mb8PZ533nk5++yzG4LQGXbYYYfcfPPNDf/2/eIXv+jwNYDFhwAFgC5z5JFHNsy18ctf/jLPPPNMN1a0cGvbC+VXv/pV7TFth++0PUd71lhjjVl+uG/PTjvtlCOPPLKlfe2117YbJCyoJkyYkCuuuKKlvcsuu3RoKNIGG2zQMgwgSZ555pncdtttM+03ceLElvs9e/bMnnvu2eHa5sdwnnPOOWe2q8n06NEjF154YcO8Rv/zP/+T8ePHt7v/0Ucf3XJ/6tSpHfpwO2bMmIb5Lg488MDa1Vk6asaKYDMst9xyXXLeWRk5cmRGjhzZ0l5nnXVywQUXzHbVq9VXXz2XXnppw7Zzzz03H3zwwbwqc5779Kc/3RCit+eb3/xmQ/uNN97IBhtskLPOOmu2xx177LEN742OhMmt7bfffjnmmGNmu8+WW26Z3XffvaU9bty4PPfcc526DrDoE6AA0GV69erVMMHmBx98kO9///vdWNHC7Qtf+EJDsHHdddfl3XffneX+Y8eOzYMPPtjSXmONNTJo0KB5Utvee+/dcn/KlCl56qmn5sl15oULLrig4YPqKaec0uFjDzzwwIau/u0FKK1NmzZtpg/03WmTTTbJfvvtV7vfcsst1zK0Imn61v/KK69sd9899tgja6yxRkv74osvrj3/vJg8Nml6vdvOXTGvA5TLL7+8of3tb387H/rQh2qP22GHHRreny+88EKng4EFyTe/+c3apdI32GCDmXqZfPWrX81SSy012+OWXXbZhomAZzVJ7az867/+a4f2azt8rbPXARZ9AhQAutShhx6ajTfeuKV99dVXLxITJHaHlVZaqeEb0SlTpuTGG2+c5f5te58ccsghLUNt5sT06dPz1ltv5YUXXsj48eMbftpamFYSueeee1rur7POOp1aoaVHjx7ZdtttW9qtA6sZ2g4ZOfHEExeYHjqth+bUOfDAAxvav/vd79rdr+1ksmPGjJntKiZte6n069cvW2+9dYfrmp325gmq+1A/tx566KGGa7V93WbnC1/4wizPtTDp0aNHh8PaDTbYoKE9ePDgDh234YYbttx/7bXXOvyeWnHFFTv8Hm/9364kDXMkASQCFAC6WM+ePXPyySe3tKdPn96hZV9p3+GHH97Qnt0wnrZDJzoyfKe1Dz74ILfddlsOP/zw9O/fP0svvXSWW265rLXWWllvvfUafloHO0nTyhULg6lTp2b06NEt7fXXX3+mcKjup3fv3i3Hjx07dqZrDBkypGHemUsuuSQDBgzIOeec0+1DAjoTFm2wwQZZccUVW9qtX7e2OjOZ7A033NDQK6erep8kTWFOnz59Gra9+eabXXb+tqZNm9bQS2HDDTdsmCenTtvgaHav8YJstdVW63BPn7ZzMnV0jprWx1VV1eFVcjbeeOMOh2htn8Nbb73VoeOAxYcABYAuN3To0Gy++eYt7RtvvHGh/WDQ3YYMGdIwIeOdd96Zv/3tbzPt9+CDD+bZZ59taW+xxRbZbLPNOnydESNGpH///tljjz0yfPjwPP7443n//fc7fPzC8kHjpZdeanheI0aMmCkcqvtp3dPnnXfemWn1lOWXX36miXXHjBmTr33ta1lnnXWy4YYb5vDDD8/FF1/cbgAzL7X99r8z+8/u2/h11lknu+66a0v7qquualhhp7XW4cpSSy2VL37xi52qqc4KK6zQ0H7jjTe69Pytvf766w3DwT760Y926viPfexjDe2FtcdDZ4ZJLbHEEi33l1lmmQ7Pv9T6uCQd/vepM7W1raUz/wYCiwcBCgBdrpQy0wo83/ve97qpmoVbr169Grr5T5s2rWEC1BnmZPLYGW688cbsvPPOczUMZ0EZolJnXsxH8vbbb8+07Utf+lKuueaahvlSZnj22WczfPjwHHXUUdlggw2y+eab5+yzz25YPWle6ewyya0/fL7//vuzDEWSxslkp0yZkmuuuWamfcaOHZt77723pb3vvvs29HLpCq3nY0mSP//5z116/tbahjOdfX179uzZMHnuwtKTq61Zrdw1r45b0K4BLD78iwLAPLHXXntlq622amnfcccd7c4XQb22YUjbsGTq1KkNH1Z79eqVgw8+uEPn/tvf/pZhw4Y1fNO64YYb5uSTT85vfvOb/OUvf8kbb7yRf/zjH6mqquVnzJgxc/GMus+8+Ea5vXk3kqb5Rv7617/moosuyi677NIw9Ke1P/3pTznuuOOy2WabzfNljDs7H8isnlt79thjj6y55pot7faG8Vx88cUN5+zK4TszdOewmDmZb6UzrzEA3UuAAsA8c+qppza065a47GoLS6+IOp/85CfTr1+/lvZjjz3WEGDcfPPNDd+Etx32Mztnnnlmw1wCRxxxRJ566ql8//vfz84775yPfvSjWW655WZaJaOj8w/MTx35fbft7fDVr361IRiak5/Zvda9e/fOkUcemTvuuCOvv/56Hn744ZxxxhnZc889Z1qpZezYsRk8eHAmTJgwZy9AB3R2PpDWQ7N69eo1yxAoaepN0Xp564ceeqhhdaZp06Zl+PDhLe31118/n/3sZztVT0dsv/32De377ruvy68xw/LLL9/Q7uzrO23atIZePW2HH81vi8q/mQDzigAFgHlm8ODB+cxnPtPSvu+++3LXXXd1+jytx763nm+gzryc+2B+m10vlLkZvtN6Gd5VV10155133kxzDbSnvXlYukLba3f173uVVVZpaD/zzDMdPv/c6tWrVz71qU/lm9/8Zm6++ea88sorufjii7P66qu37PPaa6/NNPytK7WeJ6ez+6+88sq1+x911FENQyZaL2l8++2354UXXmhpH3nkkfNkhZwddtghSy65ZEt7zJgxGTVqVJdfJ2kKPFr/zf71r3/t1PFt//468hrXmdfvIYDFmQAFgHnqhz/8YUN7TuZCaT2vQGe+4X3yySc7fa0F1aGHHtqwJPEVV1yRadOmZfLkybnjjjtatrdd+rhO6w/IO+6440w9TWbl4Ycf7vA1OqPtHBKd+UDXurfDrPTp06dhct0HH3xwpklg55dlllkmRxxxRO64446GD/y33HLLPLvmo48+2uF9n3322YY5Y7bYYovaY9Zee+3stttuLe1f/vKXLcOmWg/pWWKJJWZaYaqrrLTSSjnooIMatp111lnz5Fo9e/ZsmDD7mWee6dQ8O23fRx15jevM6/cQwOJMgALAPLXddttll112aWmPHDkyt956a6fO0fpb2bfffjvPP/98h477zW9+06nrLMhWW2217Lzzzi3tF198MXfffXeuuOKKhm+YDz744IYP47Pz3nvv5d13321pd3QCzGnTpuXqq6/uYOWd0/Yb+I5ObPvYY491uFfMoEGDWu7//e9/z7XXXtvxAueBj3/84/nEJz7R0p48eXLeeeedeXKt9iZ2nZW2v+NtttmmQ8e1nkx28uTJufnmm/O3v/2tobfTkCFDZprstSudcMIJDe3LLrssd95551yds6qqjB8/fqbtn/70pxv26czfU9sJoTv6Gs/O/HgPASyuBCgAzHNt50I56aSTOjVxYutveJM09LiYlddffz0///nPO3yNhUF7w3jmZvjOkksumWWWWaal/Ze//KVDx/385z+fZ/N0DBgwoKHdkd91kpx22mkdvsbRRx/dMMzkpJNO6vTcFV2tdXhVSunQMKo58fTTT+f666+v3e+tt97Kz372s5Z2jx49Ojwx8e6775611lqrpX3RRRfl0ksvbQj65sXksa19/OMfzxFHHNGwbdiwYXO80tTbb7+d/fbbL9ddd91Mj7VeJStJ/vM//7NDKyo98MADDaHOmmuu2SVzwsyP9xDA4kqAAsA8N3DgwOy9994t7T/+8Y+ZOHFih49v+6Gi7gPKe++9l2HDhmXy5MmdL3YBtvfeezdMWnnttdc2rNqyySabZODAgZ06Z//+/Vvu33///bVzRfzv//5vvvWtb3XqGp2x8sorZ9NNN21p//a3v60dLnThhRfmqquu6vA1Nt100wwdOrSlPX78+Oyzzz6dnv/h7rvvbrdHwpVXXtnhMCpJJk6cmPvvv7+lvd5663W4F9GcOPbYY9ute4bp06fnqKOOyksvvdSybciQIenbt2+Hzt92Mtnf/va3Oeecc1raa6yxRoYMGdLpujvr7LPPzsYbb9zSnjRpUj7zmc9kxIgRnTrPbbfdli233DI33nhju49vvfXW2XLLLVvaY8eOzVe/+tXZnnPG6letHXPMMV0SnM2P9xDA4kqAAsB8ccopp8zxhJGbbLJJw9KkzzzzTPbcc8+GCSln+P3vf5+ddtopt9xyy0wrZCzsll566YYP/u+9917D453pfTLD/vvv33J/+vTp2XPPPdsd+vT3v/89p512Wnbddde88847HV7lZ0607jlQVVX23nvv3HPPPTPt98orr+Qb3/hGy5CRzvy+zznnnKy33not7XvvvTebb755Lr744oZhTa1VVZWnnnoq//Ef/5GPf/zjGTRoULvDya6//vpssskm2W233fKLX/yiIYho65577snnPve5hkDw0EMP7fDz6Kzll18+f/vb37L99tvn1ltvnakn2IQJE7LXXns1DENZZpll8tOf/rRT1znqqKNa5uyZPn16w3v1S1/6UsN8PvPKhz70oVx33XUNf6uTJ0/OZz/72eyzzz656667ZnoPzfDaa6/lV7/6VXbcccfssccetT1Xzj///PTq1aulfckll2TfffdtNyi+6667su2222bs2LEt2zbddNOZhh3NjfnxHgJYHM2b/qEA0Eb//v1z4IEHzvG3nKeffnq23377lg98d911V9Zbb71svfXWWWuttfLOO+/kySefbFnVokePHrn00kvz+c9/vsuew4Jg2LBhueCCC2ba3qNHjzn64P2Vr3wlZ599dp577rkkTd+M77rrrll//fUzYMCALLXUUpk0aVIefvjhlg/5yy67bM4+++wOD+mYk5rOP//8lgluX3755Xzuc5/LxhtvnH79+qVHjx6ZOHFiRo0a1TIsZNiwYXn77bc7NDwlaZpo9Oabb84uu+ySF198MUlTT5CjjjoqX/nKVzJgwICsueaa6d27d956661Mnjw5TzzxRMOyvrMzffr03HHHHS3DJ9Zee+1stNFGWXHFFdOrV6+8+uqreeyxxzJp0qSG4zbaaKN8+9vf7tA15sRZZ52Vww8/PM8//3z23HPPrLPOOhkwYECWWWaZjBs3Lo8++uhMocpZZ52VDTfcsFPXWWuttbLbbrvNNN9RKaWhd8q8ttlmm+W+++7L3nvv3bBCzq9//ev8+te/zrLLLpvNNtssq6yySvr06ZPJkyfnxRdfzNNPP51p06bNdL62S0/PsMUWW+SMM87Icccd17LtxhtvzE033ZSBAwemb9++mTp1av70pz9l3LhxDceuuOKKufLKK7P00kt30bOeP+8hgMWRAAWA+ebf//3fc+2117b7waTOtttumzPPPDNf//rXWz7gvf/++w1DH2bo1atXLrroooZhQ4uKT3/60/noRz860/KngwYNypprrtnp8/Xu3TvnPeofAAAgAElEQVS33HJLBg0alFdeeaVl+9ixYxu+IZ9h+eWXz4033jhPe6Ass8wyuf766zN48OCGYVhPP/10uz0BDjrooFx44YWdDnT69euX0aNH56CDDsp9993Xsv29997LI488Unt8r1690rt37w5d67nnnmsJqWZl4MCBufnmm2f5Ib0rDBkyJOeee26OPfbYTJ8+PRMnTpzlcLqePXvmjDPOyJe//OU5utbRRx89U4Cy0047NfT8mR823XTTjB49Ot/5znfy85//vOHfn7fffjsjR46sPccGG2yQ0047raHHVltf+9rX0rt373zlK19pWdlp+vTpeeSRR2b599S3b9/cdtttDUNuusL8eg8BLG4M4QFgvvnYxz6Www47bI6PP+6443Lbbbc1LEPbWo8ePTJkyJCMHDlyrq6zoGvvuc3N8918883zhz/8IUOHDm2YXLW1D3/4wzniiCMyZsyY7LjjjnN8rc7U9Mgjj2T//fefZU2bbLJJLrnkklx55ZUNwyc6Y7XVVsuIESNy++23Z9CgQbVzjyy99NIZNGhQzjzzzLzwwgsNq+fMcMYZZ+SnP/1pBg8enGWXXba2hgEDBuTnP/95Hn744ay++upz9Dw645hjjsmIESPy2c9+dpbD6rbddts8/PDDOf744+f4OkOGDMnaa6/dsG1Ow5i59eEPfzjnnntunnnmmXzrW9/Kuuuu26Fj9t9//9xyyy3585//PNvwZIYjjjgiTz/9dL74xS/ONlxbc80186Mf/ShPPvlkl4cnM8yv9xDA4qR0ZhUEaM/AgQOrukkHAbraE088kUceeSQvv/xyllpqqay99trZeuut56gXBv/n5Zdfzv3335+JEydm6tSpWXXVVbPWWmtl++2379IhBp0xefLkjBgxIi+88EKmTp2aNdZYI5tuumm22GKLLr/WO++8k9/97neZOHFiXn311UydOjV9+vTJqquumo033jgbb7xxllpqqQ6fb9q0aXnqqafyzDPP5Pnnn8+UKVNSSkmfPn3St2/fDBgwoGHFmvlt/PjxGTVqVJ5//vm8//77WWONNfLpT3+6y3qJbLrppnnqqaeSNA2beuGFFzr1+s1LEyZMyJ/+9KdMnDixZRWm5ZdfPh/5yEfSr1+/bLLJJnM8b1OSTJ06NQ888EDGjx+fyZMnZ8kll8wqq6yS/v37z7Sy2Lw2P99DsDjrP7x//U7z0JhhY7r1+guzUsroqqpqZ+IXoDDXBCgAQFsPP/xwttlmm5b217/+9U5PRguwMBGgLLw6GqAYwgMAQJe78MILG9rdNXwHALqKAAUAgC710ksv5Yorrmhpf+Yzn5lnc30AwPwiQAEAoEudeOKJLcteJ00r1ADAws4yxgAAzLHXX389b775ZqZNm5aJEyfmwgsvzJVXXtnyeL9+/bLffvt1Y4UA0DUEKAAAzLEf/vCHOeOMM9p9rJSSc889d65WswGABYUhPAAAdLlSSn7yk5/kM5/5THeXAgBdQg8UAAC6RM+ePbPyyitn2223zde//vVst9123V0SAHQZAQoAAHPs9NNPz+mnn97dZQDAPGcIDwAAAEANAQoAAABADQEKAAAAQA0BCgAAAEANAQoAAABADQEKAAAAQA0BCgAAAEANAQoAAABADQEKAAAAQA0BCgAAAEANAQoAAABADQEKAAAAQA0BCgAAAEANAQoAAABADQEKAAAAQA0BCgAAAEANAQoAAABADQEKAAAAQA0BCgAAAEANAQoAAABADQEKAAAAQA0BCgAAAEANAQoAAABADQEKAAAAQA0BCgAAAEANAQoAAABADQEKAAAAQA0BCgAAAEANAQoAAABADQEKAAAAQA0BCgAAAEANAQoAAABADQEKAAAAQA0BCgAAAEANAQoAAABADQEKAAAAQA0BymKslLJ2KeXeUspTpZQnSinHN29fsZRyZynlmebbFbq7VgAAAOhOApTF2wdJTqiqapMkWyf5aill0yQnJrm7qqqPJrm7uQ0AAACLLQHKYqyqqklVVf2++f6UJE8lWTPJ3kmGN+82PMnnu6dCAAAAWDAIUEiSlFL6JvlEkpFJVq2qalLSFLIkWaX7KgMAAIDuJ0AhpZRlk1yf5OtVVb3VwWOOLqWMKqWMmjx58rwtEAAAALqZAGUxV0rplabw5PKqqm5o3vxSKWX15sdXT/Jy2+OqqrqgqqqBVVUNXHnlledfwQAAANANBCiLsVJKSXJxkqeqqvpJq4duTjKs+f6wJDfN79oAAABgQbJEdxdAt9o2yReTjCml/LF523eTnJbkmlLKkUkmJjmgm+oDAACABYIAZTFWVdUDScosHv7c/KwFAAAAFmSG8AAAAADUEKAAAAAA1BCgAAAAANQQoAAAAADUEKAAAAAA1BCgAAAAANQQoAAAAADUEKAAAAAA1BCgAAAAANQQoAAAAADUEKAAAAAA1BCgAAAAANQQoAAAAADUEKAAAAAA1BCgAAAAANQQoAAAAADUEKAAAAAA1BCgAAAAANQQoAAAAADUEKAAAAAA1BCgAAAAANQQoAAAAADUEKAAAAAA1BCgAAAAANQQoAAAAADUEKAAAAAA1BCgAAAAANQQoAAAAADUEKAAAAAA1BCgAAAAANQQoAAAAADUEKAAAAAA1BCgAAAAANQQoAAAAADUEKAAAAAA1BCgAAAAANQQoAAAAADUEKAAAAAA1BCgAAAAANQQoAAAAADUEKAAAAAA1BCgAAAAANQQoAAAAADUEKAAAAAA1BCgAAAAANQQoAAAAADUEKAAAAAA1BCgAAAAANQQoAAAAADUEKAAAAAA1BCgAAAAANQQoAAAAADUEKAAAAAA1BCgAAAAANRY4AKUUsrhpZSqlHJ4m+3jSynju6eq9pVSlmiu9a7urgUAAACYdzoUoDSHBFUpZUIpZelZ7DO+eZ8lurbEziml/Ki5jh93YN8Lm/f9+vyoDQAAAFg4dbYHyjpJFvSw4cIkVZLDSym9ZrVTKWXZJAcmmZrkV/OpNgAAAGAh1JkA5fUkryX5TinlI/OonrlWVdW4JHclWSXJnrPZ9aAkfZJcX1XVq/OjNgAAAGDh1JkA5Z0kpyT5cJLvd+SAUsqOzUNkTp7F4/NqXpMLmm+/PJt9jmqzb0opy5dS/rWUcm8p5YVSynullJdLKb8upWzV0YuXUi5rft5rtfPYoObHvtfOYyuVUn5cSnm6lPJuKeWNUsqdpZRBHb02AAAA0PU6O4Tn3CTPJvmnUsrH5kE9XeWmJC8n2bmUsk7bB0sp/ZJ8Kslfqqq6r9VD/ZKcmuSDJLck+UmSu5MMTvLAvAwySinrJRmd5F+TvJTk/CTXNtf021LKl+bVtQEAAIDZ69SEr1VVvV9KOTFNH+xPS7LvPKlqLjXXeWmawogjkpzcZpcZPVMubLP98SSrtx3SU0pZN8nIJD9N0r+r6232qzTNMTO0qqprW117hST/m+ScUsqtVVVNnkfXBwAAAGah08sYV1V1XZLfJdmnlLJd15fUZWZMJvulUkrL8yylLJXk0CTvJRne+oCqqt5obz6UqqomJLkhSb9SyhpdXWgpZYsk2ya5unV40nzt19MUAH0oyT5dfW0AAACg3pwuOXxCkoeSnFFK2bqqqqoLa+oSVVX9tZQyIslnk+yS5Pbmh/ZLsmKawoqZenOUUrZPclySrdM0Ee2SbXZZM8mLXVzuNs23K8xivphVm2836eLrAgAAAB0wRwFKVVW/K6Vcl2T/JEOTXN2lVXWdC9IUoByV/wtQZjV8J6WUA5JcleTdJHcmGZvk70mmJ9kpyfZJlpoHda7UfLtL88+sLDsPrg0AAADUmNMeKElyYpK9k/xHKeXGWewzveY6yyV5cy5qqHNDkleS7FlKWTVNyxbvkKaJcO9pZ/9TkvwjyRZVVf259QOllLXTFKB0xOye9/LtbJvxGny1qqrzOniNuVZKuSTJHklerqqqX/O2k9MUMs3onfPdqqr+Z37VBAAAAAuiTs+BMkNVVc8mOS/Jekm+NovdXm++XbvtA6WUDdN+mNBlqqqaMc9JryTD0tQTpSS5cBbDjjZI8ng74UnPNM1R0lGzfN5JBraz7eHm244GNF3l0iS7trP9p1VVDWj+EZ4AAACw2JvjAKXZD5K8keT/pf3hJU8neSvJ3qWUVWZsLKUsk+Rnc3ntjpoxVOfLaQpR3k9TcNCeCUk2KqWsNmNDKaWk6Xlu1IlrPtLqmi1KKZsnObbtzlVVPZymiXmHllKGtXfCUsrmpZSPdKKGWlVV/W+S17rynAAAALAomqsApaqq15L8KMkK+b95PFo//n6Ss9I0VOcPpZRzSin/nablgvuk6ydjba/GP6dpGeANk6yW5Oaqql6axe4/ba71j6WUc0spZyUZneT4JLd24rI3pGmY0BdLKSNKKf9VSrkmTcHKbbM45qA0zblyaSnlD6WUn5dSflxKubyU8kSSPybp24ka5saxpZQ/lVIuaV5GeSallKNLKaNKKaMmT7ayMgAAAIu2ue2BkjT1JBk/m8e/n+Q7aZpb5OgkQ5Jcn6bJUt/vgut3xAWzuN+gqqpzkxyZ5KUkX0pySJqe26eSPNbRi1VV9W6aJp29NsnmSb6aZN00Tbg70+S1zcdMTLJFkpPStPzyIWkaGrVNknFpeu2e7GgNc+H8NA1lGpBkUpIzZlHvBVVVDayqauDKK688H8oCAACA7lMWwBWImY9KKX2T3DpjEtmOPtbawIEDq1GjRs2L8gAAABYK/Yf379brjxk2pluvvzArpYyuqqq9+UobdEUPFBYhpZTVWzX3SdNwKwAAAFiszc0yxizkSilXJtkxyUdKKc+nabjVjqWUAWkaRjQ+yT91W4EAAACwgBCgLMaqqjq4nc0Xz/dCAAAAYAFnCA8AAABADQEKAAAAQA0BCgAAAEANAQoAAABAjUU+QCmlbFxKObuU8ngp5c1SynullBdLKbeVUo4spSzd3TXOTinl8FJKVUo5vLtrAQAAgMXVIr0KTynl39K0NG+PJA8nGZ7k7SSrpmn53ouSHJNkYDeVCAAAACwEFtkApZTy3ST/nuS5JAdUVTWynX32SHLC/K4NAAAAWLgskkN4Sil9k5yc5P0kQ9oLT5Kkqqpbk+za5tihpZT/bR7u824pZUwp5TullKXauU5VShkxixoubX68b+u6mrdd2nz/qlLKK6WUf5RSRjUHOq3PMSLJL5qbv2g+tmp93lJKn1LKSc1DlN4qpUwppTxbSrm6lLJF7YsFAAAA1FpUe6B8KUmvJFdVVfX47HasqmrqjPullB8l+U6SV5JckabhPrsl+VGSXUopg6uqer8L6ls3ySNJxib5VZIVkxyY5KZSyqCqqu5t3u/SJG8k2TvJTUn+2Oocb5RSSpI7knw6ye/SNCTpgyRrp2mI0v1JRndBvQAAALBYW1QDlO2ab+/u6AGllG3SFJ48l2Srqqr+1rz9O0luTLJHkm+lKUyZWzsmObmqqn9vdf0r0hSGfCvJvUlSVdWlTRlJ9k7y66qqLm1Tc/80hSe/rqpqnzaP9UiyXBfUCgAAAIu9RXIIT5LVm2+f78QxRzTfnjojPEmSqqo+SNM8KdOTHNU15WVCklNbb6iq6jdJJibZag7O927bDVVVTa+q6vU5Kw8AAABobVENUErzbdWJYz7ZfHtP2weqqvpLmsKY9Uopy89lbUnyx6qqprWz/bkkK3TiPE+maVjPwaWUB0sp/1pK+XQpZckuqBEAAABotqgGKC82367ViWNmDHeZNIvHJ7XZb268MYvtH6QTv5PmEGanJGcmWSfJj5M8mOSVUsrZpZRl57ZQAAAAYNENUB5ovv1cJ455s/l2tVk8vnqb/ZKmHi6zmkemK3qq1Kqq6vWqqr5RVdXaST6apmFGTyc5Nsn586MGAAAAWNQtqgHKL9K0hPF+pZRNZ7djq+WJ/9B8u2M7+2yYpt4s46qqat175PU0rXjTdv+eSQZ0vux2zRjq07Nux6qq/lpV1cVJdkjTCkJ7d1ENAAAAsFhbJAOUqqrGJzk5yZJJbiulDGxvv1LKrklub25e0nz7vVLKyq326Znk9DS9Vhe3OcUjSdYppezcZvv30rRUcVd4tfl2nbYPlFLWK6Vs1s4xKyRZKu1MLgsAAAB03qK6jHGqqvpRKWWJJN9P8mgp5aEko9LUM2PVJJ9J05CXUc37P1RK+c8k/5rk8VLKdUn+nmS3JP3SNCzov9pc5vQkuyS5qZRydZLX0rSs8HpJRqSd3ixz4HdJ3kny9VLKikleat5+dpLNk9xYShmd5PE0zf2ycpp6nvRK05woAAAAwFxaZAOUJKmq6gellGuTfCXJZ5N8KcnSaerV8cc0BQyXtdr/26WUP6Rp/pDD0hRCPJumHiVnVFX1Xpvz311K+XySf0tyUJoClzuTHJjk37voObxeStkvTUHQl5L0bn7osjSFP/+RpiE7u6ap58nkJKOT/KyqqttnPiMAAADQWaWqOrPSL8xs4MCB1ahRo7q7DAAAgG7Tf3j/br3+mGFjuvX6C7NSyuiqqtqd+qO1RXIOFAAAAICuJEABAAAAqCFAAQAAAKghQAEAAACoIUABAAAAqCFAAQAAAKghQAEAAACoIUABAAAAqCFAAQAAAKghQAEAAACoIUABAAAAqCFAAQAAAKghQAEAAACoIUABAAAAqCFAAQAAAKghQAEAAACoIUABAAAAqCFAAQAAAKghQAEAAACoIUABAAAAqCFAAQAAAKghQAEAAACoIUABAAAAqCFAAQAAAKghQAEAAACoIUABAAAAqCFAAQAAAKghQAEAAACoIUABAAAAqCFAAQAAAKghQAEAAACoIUABAAAAqCFAAQAAAKixRHcXAAAAACzcntp4k2679iZPPzVfrqMHCgAAAEANAQoAAABADQEKAAAAQA0BCgAAAEANAQoAAABADQEKAAAAQA0BCgAAAEANAQoAAABADQEKAAAAQA0BCgAAAEANAcpirJRySSnl5VLK4622rVhKubOU8kzz7QrdWSMAAAAsCAQoi7dLk+zaZtuJSe6uquqjSe5ubgMAAMBiTYCyGKuq6n+TvNZm895JhjffH57k8/O1KAAAAFgACVBoa9WqqiYlSfPtKt1cDwAAAHQ7AQpzpJRydCllVCll1OTJk7u7HAAAAJinBCi09VIpZfUkab59ub2dqqq6oKqqgVVVDVx55ZXna4EAAAAwvwlQaOvmJMOa7w9LclM31gIAAAALBAHKYqyUcmWS3yXZqJTyfCnlyCSnJRlcSnkmyeDmNgAAACzWlujuAug+VVUdPIuHPjdfCwEAAIAFnB4oAAAAADUEKAAAAAA1BCgAAAAANQQoAAAAADUEKAAAAAA1BCgAAAAANQQoAAAAADUEKAAAAAA1BCgAAAAANQQoAAAAADUEKAAAAAA1BCgAAAAANQQoAAAAADUEKAAAAAA1BCgAAAAANQQoAAAAADUEKAAAAAA1BCgAAAAANQQoAAAAADUEKAAAAAA1BCgAAAAANQQoAAAAADUEKAAAAAA1BCgAAAAANQQoAAAAADUEKAAAAAA1BCgAAAAANQQoAAAAADUEKAAAAAA1BCgAAAAANQQoAAAAADUEKAAAAAA1BCgAAAAANQQoAAAAADUEKAAAAAA1BCgAAAAANQQoAAAAADUEKAAAAAA1BCgAAAAANQQoAAAAADUEKAAAAAA1BCgAAAAANQQoAAAAADUEKAAAAAA1BCgAAAAANQQoAAAAADUEKAAAAAA1BCgAAAAANQQoAAAAADUEKAAAAAA1BCgAAAAANQQoAAAAADUEKAAAAAA1lujuAgAAAFhEnLxcN1//ze69Pos0PVAAAAAAaghQAAAAAGoIUAAAAABqCFAAAAAAaghQAAAAAGoIUAAAAABqCFAAAAAAaghQAAAAAGoIUAAAAABqCFAAAAAAaizR3QWwYCqljE8yJcm0JB9UVTWweysCAACA7iNAYXY+W1XVK91dBAAAAHQ3Q3gAAAAAaghQmJUqyW9LKaNLKUe3fbCUcnQpZVQpZdTkyZO7oTwAAACYfwQozMq2VVV9MsluSb5aSvlM6werqrqgqqqBVVUNXHnllbunQgAAAJhPBCi0q6qqF5tvX05yY5KturciAAAA6D4CFGZSSuldSukz436SnZM83r1VAQAAQPexCg/tWTXJjaWUpOlv5Iqqqu7o3pIAAACg+whQmElVVWOTbN7ddQAAAMCCwhAeAAAAgBoCFAAAAIAaAhQAAACAGgIUAAAAgBoCFAAAAIAaAhQAAACAGgIUAAAAgBoCFAAAAIAaAhQAAACAGgIUAAAAgBoCFAAAAIAaAhQAAACAGgIUAAAAgBoCFAAAAIAaAhQAAACAGgIUAAAAgBoCFAAAAIAaAhQAAACAGgIUAAAAgBoCFAAAAIAaAhQAAACAGgIUAAAAgBoCFAAAAIAaAhQAAACAGgIUAAAAgBoCFAAAAIAaAhQAAACAGgIUAAAAgBoCFAAAAIAaAhQAAACAGgIUAAAAgBoCFAAAAIAaAhQAAACAGgIUAAAAgBoCFAAAAIAaAhQAAACAGgIUAAAAgBoCFAAAAIAaAhQAAACAGgIUAAAAgBoCFAAAAIAaAhQAAACAGgIUAAAAgBoCFAAAAIAaAhQAAACAGgIUAAAAgBoCFAAAAIAaAhQAAACAGgIUAAAAgBoCFAAAAIAaAhQAAACAGgIUAAAAgBpLdHcBALC4OOPAPbr1+idcfWu3Xn9xdvLJJy+217/7ng267dpJ8rmdnu22a6927x+77dpJ8rfPDujW6/c98bZuu/b403bvtmsn3fvck+5//rCo0gMFAAAAoIYABQAAAKCGAAUAAACghgAFAAAAoIYABQAAAPj/7J11uB7F9cc/J0YMggWCu7sUd3e3QHBIcA9W3AkaKNLiLbQUiluA0EKBFtcfWrwUbykUCkXu/P74nuWdu3lvEsi9dzN75/s88+Td2d2bOTOzM2eOZowDWYCSkZGRkZGRkZGRkZGRkZGRMQ5kAUpGRkZGRkZGRkZGRkZGRkbGOJAFKBkZGRkZGRkZGRkZGRkZGRnjQBagZGRkZGRkZGRkZGRkZGRkZIwDWYCSkZGRkZGRkZGRkZGRkZGRMQ5kAUpGU5jZOmb2ipm9ZmaHV92ejIyMjIyMjIyMjIyMjIwqkQUoGWPAzLoDFwDrAvMDg81s/mpblZGRkZGRkZGRkZGRkZFRHbIAJaMZlgJeCyG8EUL4BrgW2LjiNmVkZGRkZGRkZGRkZGRkVIYsQMlohhmAv0fX73pdRkZGRkZGRkZGRkZGRkaXhIUQqm5DxkQGM9sSWDuEsJtfbw8sFULYN3pmKDDUL+cBXun0hjYwNfBJhf9/lejKtEPXpj/T3jWRae+66Mr0Z9q7Jroy7dC16c+0d01UTfssIYSB43qoR2e0JCM5vAvMFF3PCLwXPxBC+BXwq85sVFswsydCCEtW3Y4q0JVph65Nf6Y9097V0JVph65Nf6Y9094V0ZXpz7Rn2idmZBeejGZ4HJjLzGYzs17ANsCtFbcpIyMjIyMjIyMjIyMjI6MyZAuUjDEQQvjOzPYB7ga6A5eHEF6ouFkZGRkZGRkZGRkZGRkZGZUhC1AymiKEcCdwZ9XtGE9MFK5EFaEr0w5dm/5Me9dEpr3roivTn2nvmujKtEPXpj/T3jWRBO05iGxGRkZGRkZGRkZGRkZGRkbGOJBjoGRkZGRkZGRkZGRkZGRkZGSMA1mAkpGRkZGRkZGRkZGRkZGRkTEOZAFKRkbGRAczs6rbkJGRkZGRkZGRkZGRESMLUDIyJiKY2YFmNtHnP+8omNkiZtYjdOHgTGaW1+WMjIyMjIyMjIyMiRCZUc/ImEhgZisDewMHmtnCVbens2FmpwD3AauZWZfLEGZme5tZvxBCS1e3wMlCpK6DrjzWXfk77+K0d9k5X6Arj39G10Se8/VCl1/EMyYutMVYdAWGI4TwAHAcMDtwuJktWm2LOh3HAC8DZ9PFhChmthEwHBhpZn1CCKErzHkAM5vbzCb138eY2aAQQkvV7eosdHWmqhhrM9vAzKbqSv1RWNqZ2bpmNnvV7eksmFm3iPZ5zWxA1W3qLDjtxZxf1cxm7kpzPqK1p1/38H9rv9+1Nc5dYfxjGovfXYHuGNGaN0XVbcmYcNR+wcpIByXGYg0z28zMdoAGk11XmFkvgBDC1cBvgJmAw8xsvkob1kkws94hhO9CCCsAnwGnAmt0ISHKaOA8YGHgQjPr65YotV6j3V3tfmBLMzsfCRCnrLJNnYnSQXKAmfUxsz7FvWpb1zkwYXbgVmDFruC+F4+tma0InAkcYWbTV9eqzkFpnz8BOBdYsdgD6wwzs4j2k4HLgGWAvpU2rJPg9AczWwu4wMxGAWea2QJ1t7wsrfXzm9l8ZrYgNA7WdUWJ9r74Hh/V1XbcyzCzIcDFZjZJV6B7bHxM6vR3lcNJRgKIGIvTgc2AfwN9zOwIYOsQwnNVtq+j4EzFN/77UGA2JEBZHuhmZieFEJ6vso0dCd9cv/bfawK/Bc4HTgJazOyPIYTvqmxjR8LMeoUQ/guc7ZvN5sBZZnZgCOHr+MBRN4QQnjCzG4EzgN7oAP1inWkuUDpIHgasBEwHvGRmZ4cQnqy0gZ0EZ6LfMLPLgF3M7P4Qwr+rbldHoXSI3h+t95MD2wLfmdkpIYS/V9nGjkRE+ynArsBuwF+KPdDvWR0PldGB8XhE+zbA0yGEL+Pn6rr+ufBkE7THnwW8CawKPG5ms4YQPqq0gR2E0jd/IrA++ua/NbNbQwjDK21gB6K0zx0OrAHMZWYPA1cB99Zxro8FswJLAd39e6jlWgdjjP2WwCBgAHAz8FII4fsq2zeh6BIarox0YGZ7AjsjgcnPkCXCPOjDK55JWmoZI148zWw4cBRwC7AxcDiwAHBkoamoI0oM9W+RYPcUoB9wAbBqXRhBvm4AACAASURBVC1RSsKz3YF5gRkQc32uyZ2nlpYo0Zg+jsb8U2A+M5uy7tpIGGPeHwJcA5wOzAfcVVcz3/K4RnP7AWBBYJpSfa0Qrfc/B04A/gRsBVwKrAz83MxmrK6FHQ+3utkW2CiEcBvwlZnNamZbmNn8xcGi4mZ2CMxsBnSA3iuEcD/Qy8wWN7NTzWyImU1W1wOlmQ1EfM1hIYSjgSvRevebWHhSt7EvffN7Afsjy6O7gYOtxu7aJcHRAcDvEH+7OvBzYObqWtexiOdxsZ+FEE4CvgZO9OtaCk+g1diPAEYCSyPl+LXAPhU2rV1QSwYlI2nMDZwZQnjKJZYXAnuGEO4xs35QjwXHzNaDVhtrL2At4JchhFEhhGdDCCOQefPKwFFmNn9lDW5nmNmUpeu5gB2B3UMII0MIRwGLAZ+jObCamfXs/JZ2DIqNNRr/o5EVxj1IeHINskD6RSREqQVTGTEShVXRfcBcSCtxJLCdmU1R/s7rdKAuxtLM5gbWBjYPIfwW+ALFQDomhPBpnWiGMQTGy5nZLAWT5e6LHyLhaW3dNk2YDNgQOCWEcEsI4eEQwv7A1cBGSIgyQ6UN7Vi0AP8C/uOHx5OQG+PpwB/NbPE67PNtoA8wC7I2Wg3RfBGwBXAYUiDVTojg6IsEpDf6/H4UuCOEMAzA5LY9dR3H3uS6shQwLITwIBKgbI/422fMbJJKG9iBMLM50bq2QwjhMjQPJgWuCiG8VdO53uqsEgkTuiMBwkLWBWI/mdlgJCxfP4QwBK318wFvV9qwdkCtmLOMtFA+HPgiujjQ2xmLy4HDQwi/9HsHmtl+FTS1XWFmxwKDS5vG98D/0KZSLLKEEC5FB8t1kFvH3J3c3HaHmd2M3FRidAO6Ax/7M5O4W8/qaLP9ObB+0S8pw8zmjX1/zWwqpJE8OoRwXQjhXqSluhaZu55hihGTvFa2ZNK5iCnGz1chhI9CCPugQ9SBwDYFc2Fml5vZNKkfqM3sAjPbDVoxVpMC0wKPmAIJX4vWvIud4d7NzKaupsXtC2vtB78z0kg9ZGZ7mNkS/tg5wPRmtoA/l/R8bwbvg6+Ab4H+0LDGCiGcgg6VWyHLw+SFKG0IAb9BcRAuAB5E/XAUsCnwCWKwk0cz2kMIr6F17grgdmR5d3QIYS60/03nz9VOiOB4FwkPHgbuRHsdZjYrsAFSnCSPJmtXb2BJ4GNTDJhrgCOcv+0JDHfLrDpiEqCnK0I3QZY3B4UQLjOz/sDm/m/yMLPTzWyr6PoAM7vDzJZ2xdD3wB+AFYCtK2toB6HJvJ8d+GMI4Wkz2wate/uEEG42s74uXEsSWYCSUQlKB6nFzGxmZxhuQYfJ24BDQggX+SsD0KZbB7P2a4Cd/UC8MIAvqi8Dm5rZ7CXfwH8AL3l5rdNb2/64G/m+UlgVAW8B3yEtHCGE//mh4hvkJ70i0tIn7TPppown+O9CG/85Eh79cFgKIXwVQjgZeB3YCbjahUpJM9WhdZyjG4EnUNDczf3+UOBe4CDgPDO7D2mu/lVNi9sHZjYz0rwOd41Mge/R/N4HBY8+JIRwsd+bFwnQ5ujMtnYUQuvAoWsCRyCByQHARaYgwh/SoLsWh8g2DtHfAn8HNnOm+rvouVeAF4AlkEAhWUFSaZ+f3cwWMLmoPI6E6NejOCAHhRCuBf6GFAnftPlHE0GJ9tXMbENTAElCCIOBLYEVQggHhxDu8dcCskJLHs3mbAjhbbTPXw88FEIYFu3peyIF2gud18qOQUlYXARH/gL4M7AHcB1wcLTWT4v421k7uantjjbWqs+BfmZ2BnLbGh7RPiewNwqgnzTMbB60bh/sChGA99De/wvkmrsusr44CgmOahU4PJr303jVHMBnZrY4cAlSEBXnuu3QHti781vaDggh5JJLpxbAot+nAH9BpoyGFtHngacRk23oA7wDj5VQdfvbsR82Qczy7lHdX5GgZCFgKqAXOmjuWvQb0K3qtv9EeruVrvf38Z/Jr4ciYdER0TPdUaaCBVHQrcrpmMA+WKqYw8B0/m8fxFD9EZi+9H2MQJq6c1Id9/LYI9eFN9AheSekhX0IGBI9cxzwayRs7FnMharpmMA+WBC4GB0St43q70cuDcdEdX2Qdvb2lMfdaYnn8yrAs8BiUd3cSPP8InCT98WbwJxVt70daI/n/c9QTKvZ/XoAEpD+yb/7vkip9QckNLwSCdWT3PNK43488H/+3b+NhGcDo/uTAAN9zj+a+rde6ofTgVeBJ9F+/ywwT3S/P7K4uR14LtXxbjb2yIL0QuBkZMIPsjx6BvF5uyPe7wKUfW+RqtveDrTH3/yhKMPWVH69p69vNwCTe91UPu//nPq8L9HeN/rdHQkQvkBu6kV9b5/3ye9zEU3LIH7uEWDdqH5N74N3gbvQuef/gCXKfZdiAdZFMa1AAaJP9N9rAf/1eT84nh/eDyOrbvtPprnqBuTSdQtwNPCRLyyTR/VL++LzN+ADJDh5mJocpCI6F0Um+w8Du3rd9CiY4j/RgeJFZ7qKQ3fSi2yJ/jN8fI90pmoydHD+F7JEOh2Zd79Q0F2jsd8aeAdY2q/nQlmnrkcamR5IePYHYBiJC88iutdE6Zr3jeqWAH7vDEUsROkd/U72UBG3HZmzXuZr2w5eNyUSGL+EAssdgYRpz0drXtLj7jTsgA5KF/p1z9L9nki4djayQtiqRrSPQBYn/0LuG9t6/ULocP0WEp4/C7zm97ZDDHa/qts/gbQfgSyL1vbrW4D3gUX9ugdwjM/5v9Zpn0ea9Y+Axf16R3SQWCN6Zkune3TNaF8fBcscBTyFlCN7+b0pkdDgGcTj3AosXHWb25n+EU7zvsCMUf3Pfa9/AFnjPuTrf9JjT2uB6XAkJLoLWQ9387XuViREPQNZ4t5Xl30u3s+Qdd3Nvp6vV3puWWSF9JKvBaNImL9xmqZEwYHfRDzrV8X3jASE5yBef6g/u5jPjadpnG2sqvb/ZLqrbkAuXa8gq5KZfFPdqnSv+JhmRkE0h6Egqt3j+3UpSCN5NdK67RjV7+Qb70FRnyS5sY6D/mOQRP4oJEDpDayHtPJ30toCIdnNtQndazt9TwLLeN2SyAf+aZ8PTyANdDH3k9tgSjTPgw6LXwAnlO4VQpQHgd1K95KlG7cy8t/DUDax+YBfISHK9n6vL3JrewAFEj4v+u5rseb5fG9BgrJJvK6pYBSlMX+GkpAlhYIOC2Wrm9eQz/s2KLbXqzQEaIYOHCf4OliM++XogNWnapp+Yj8YyqR2b7G3oUP1ZyiQZrzfL40yUSW9z5fXKp/HB/nvLUq09/N/e/melzrt3aPfgxDvsrtfz4GsUP6L4h8Uz02L3LKTnONj6YvtkeAstrTrR8PqZHWkQPyF7wtJr/W0tjw5DAmIzkD8zXsozk03ZG14OA1rw3NTp71JXxyPrMYfQ+5qz+KWGaXnJvM171Eii7RUCw3+7ntcQUZD8Tc/yqj6FRKmP0cNBMaVNyCXrlmQr+cHwMp+HTOcfYgOHlF9kh/ZePTFgkhQ8AhuiVJ32ksb7nE0hCjTtPF8LTbXEk2rII3MMzQsUWZwxvMs34iTFZ5Fm2f8bW/o9D4KLF96fnF02Lq46ra3E/3LIw3sEs4ofgLM6vcWpCFE2SF6px+tLVaSnPe0IfRC1jcfI818/ybzozhErutzZKqqaZnAftgcWd0cGdXNj7KuvNZsvUcZWs7z+bJg1TRMyBxA2sY3fF1bBfgPsIff743i38xbei+5ta4N+rsjy5LDgVVLtHcDjsWFKSnTDmxXul4ICf6fB1aJ6qejIUTZq+p2d3CfHAv8OuqPA7xPXkGCk17N5kvV7W4HumfxfW2lqO5iGnG+CqHhJHWj3enYw7/zlVDckw2QpcXjRJYoNAQHkyIB0/Cq2z4BNBd83myIn70TCcg2Lj3XDVngroGs7wvlSZI8TghZgJJLRQW5qnyOUrgVH1fxIS7tG84UVbezE/tjQWSJ8jCRhqbOhTGFKO8gd56ZS88la4HQBt3xgXFV33SeBZYt94tfJ7fBlMZ2MmCy6HoDZF1zbUFzdG+eMv2pFVrHdvg1yrLxOSUTdRpClFfLh5DyPEmplMZ+Vl/rZ4jqrkPmyzvjfvJlWlHcgE+AKaum50fQ/buCEUbCg7mQRdWnwIjSs/Oj2BAvA3vHcwdppB8nsXgQwPzR713xGDbIRP0BdLDYOXpmehT3YYfObGcH0f4zYD7/fSENF61DkRDlS2Bo9PzkKO7D0VW3fQLpXhIJyGaO+LcVkCvqf4FtSs9PhyytWoBdqm5/B/bLAU7jccgF+TqUXe4c5Mo3Q9VtbAca98fj1/n1jij48wu4y1p072IU72lvYOrSvST3uTb65Arg2lLdKojfeQ5YM6ovlAW3I2VZUv3AmHxqIRBZBAXEf4XI8sb3xMnH9jdSK5U3IJd6l7F9ICjGxYfAplFdLxpZWpJaUMZF+7joQe48d6JDVdK0/5Q+Qlqbb4lcmepaGFOIcgtyaVu+qjZ10JgOR6aajyHXlNm8fiOvuxZ3YWrrb6RU0IH5hOj6cGek/01JWOT3i8Cyn8fMVaqlNK9P9Dn9sTOQh0X3rkdaqp1wS5ToXj908Fiyanp+BN2TIYFQOa7LOj7/3wBWL92bD/gtcl2L+21yElMeICur55D13Nk+5+fye7s4/aOj5yf1ve5+EtY+03BH/sS/48tR/J5Fon55yef/yl43GwqK/xgJCsdL9Pcr5ioe08Z/L4ViYLzNmDEgZkDWpvN2Vjs7kP6x8benInfFfaJvYW6fC3NX3fYJpHsjZC1adr28y7/9IU3WwguQIHHzqtvfAf1RCA/P9vW+X+n+fki49FaxDnj9Bt5f83dGO9uR3pjHWwZYjYh39brf+B6/qdfdAhxaddvbsxSDnpHR7iil8dsZBcecGmloXkSMxwkoG82v0eF5YX9m8RDCt1Gq16QQt9vMVgsh/HE835sdeCuE0JIq7dB67P26e2gjBXFpnuwKXNnWs6mgNP5Nx7H0zCrAScDrIYQdO7WxHQQzOxnYDVkVvYKCi72LItN/bGYbIwHDF8ABIYQ6pK9cCng2KA13NxTbZEbUBxsCW4QQ7ivN+TlRIMkRqc/7AmZ2FNK47oKyjMyN+uCsEMLh/sy1KKjwDiGEO0rvt7leTOwws72Bn4UQdvLrtVBf9ARODiH8KXp2FuDvvt63WjNTgpkNQrEPBiMX3OWK79nMBvi9zZBL22voEN0H9dO3KY83gJmtiQRh/ZDVxU3F+m5mK6GD1QBE8/uI11k5ZdpL+9f0SFjwbAhhY69bFgkPlgAODCHcFb2bJM0xSmv4dsjirBtwSwjhSa/vH0L4wn/3QofIbmgPTPJbL2BmPYLSr68FvB9CeN7r/4gsSXcAHgghfBe9cwhwTp3GvlS/C3K/3B64taDTzLZBFjp/BM6O6TezWYLSeyeB0nd/ClrX+6OYP8+EEHbxe8ugLFuD0ZrfF1npfVtJwzsCVUtwcql/AU5DliZXIXPWF5GvYE/kJ7gP0lTeSg2CJ9JaOnsKkjDP9iPfS1ID34SmOKvK2LQ1ZU1GcsEj2xjH/uN4NtY8L16jcZ/Tv+k1/HpdFEBxj9Jz2wGX1oFuWgdRPNLXs+mLe8ja5lNaxwU4Hpi22d9ItaCD4n1E8R1QmtqdkBZup6j+hNRpbrJ2HYsYxpFR3frI4uK+ePyj+8nOfxqm27sjN50X8cCp0TOTIku7i1A8oDg4epL7vLfdvKyAtMsfIAXRQqXn5kCm/PugAKJJB4wt0bYMEhDtigTkV0f3lkPx3Z6nFBOhLgVZUn/kdD6LsurEbnmTet+MpnW2neS+eV/bNoyuF0dC0fOJLIqQa97f47le+jvJrvm05u/WBDaldXrei5BSaAdkZTil8wIn0LBU6Z5yHzgNR/q8X8HneHHWuT56Zg5krXRgHdb7Mfqg6gbkUs8SLRR7IDPOxfx6Vf/IXkFZZoqgUr1L7yf/kfnieRZRQK1x9Zf/TjZwYImmgShA1hk/kv6+Vbd9AmjeIJrrI4Arx7VRxrQ3u06hlJlBFCTsXf+9PjpYFdknJqVJEMEUGcqx9Mdavs5divuJo4PW77wvjkRxIV6sASNVHvupkNvOYaX6fsh155eMad6dZB8AC0S/j0SH5MlRdoWXgPOj++sBt6FD1uKd3daOGvdor18YxQI5G7kpHDkefyPVcW+6ViErs7/7dz/WfTxV2ks09ECuGQ8iwekQ//ZjIcqy6AD5qK8Bye1vY6F/byQ4W8Kvt/F1/0lgP6+bEjjY171kD5Eofs0HyBV3tah+GOLxz8XjAHn9/Sh47Pp12tsj+s5EAsPXfc6/QCOO3UjE+36MhOkvknK6XglBpo6uF0TWNGv5daEgu9D5m9+18XeSX/Na0VN1A3KpT0Ep2baLrvsj0929/HozFAtgGDpIfIJ8A6cq/Z3kFpgmfbG5bzavArOP49lYeLA30tLOWTUNP4Hmsia2tzMOdzCWeAYl+vdCWtreHdHGDqa/FzoUF9qoz4kOWONJ/6w0idCfSvHxWx2Z6D+A/MD/g6ez9GeKzXecgsUUCtLAzOO/T8EDJyJh8bcosFwcbO98dOC4kYS1kU36YZLo9xUoTeWcpWcuRSbulbe3HeidCx2WDvYx/RTXwqJD06GMKUTZDDHeSTOStNbCzo4OV1P79XTeH0/SOu7NMcAcVbe9nWlfDgnNl4u+5S2REOViGrFQRhPFeqtT8fH/L55RCglRPqK1EGUp3BqvLgW5Y50E7O/Xm/kacDgKDPo2jSQJY2QaS6ngQeB9zXsaxT9ZK7q/O/APxhSivAjcVHX7O6A/dkHnl8Wc15kOWR69Ge0BKyCB6tYkbHFGQyh4EI14R4as6aYGVvSxLxRkl/rzo6tqc6f1TdUNyKUeBQVGuxllFYiDwi4GDEIm/S+gWAcA86KD1d+Brapufwf0x3pI6/I/YAWvG+OQVNpYhwH/TL0/kM9jETRtRt9wL2jj2TL9/wa2rJqGCaT/Y5pkIBgP+vdDB64xUnhPrIXWh4l9ffwW8Y31FuA75PNcPNMbCdRua/Y9pFZ83furr32XOeOwcHR/NRpClJmj+oE0NPfJMVVNxn5XZFkxpV8P8b3gtGgt6A/8KZ4PqRdgW2TC/jkNLXRhmTEVEqK8SOTOE72b3EHK2x2vWSc4fe942c3rByJ33KeRMPl2pFBIkuY2+mEECo77MdJCPwMM8ntbet1DyJXxDRJ2S2029n5dHAxPQ4fqqZGVyRCknb+16jZ3ZF+gbFrTohhPL6FYLyC3pn8j64PYvSM55aB/xyfg2eWQEOVZ2hainENrIUptvvmIptOB35fp8/Xuj228k2w/IFfjz5AQZVqvK/iXM4BLcKUn8HPED91IDXi8sfZL1Q3IpT4Fme1fjqwuNi/d28AX3SK14cr+7DEpLyxOS1vmvCsgM8a/oWB5ZeazLDz4rNxvqRUkOGpBgfKGOCO9GDpkbFl6thb0U4p54ozUU8i0d8noXquxb0L/v2JmK6WC0lkeXmIW56HhE34eOkzej/zh62R5sYUzjv/D/fxRfKficLEasiq7lJI1Ggky1OVx82/+EP/ub6ehrdwf+D8vdwKP+O9kTZnLY4e0zi3A98gSpVdMGxKiDEeHqQOrbnM7038k0sJujEy8T/Z+ON7vF4Flb0UBVuv0ze+FlB3LIQuM1VAQ1bdoaGnXBI5GVmnJum40oX0VFN+hZ1S3Hopzt55fT4YCiL9K4pYnKOhr2bq2WNuL730btOcXArR1URaiI1Of7yibygu+xk/jdW0JUXZDgtQrgFnK/ZV6idb1a4DHovo+/u/GTv+sqe9vTk9sVXqir3n709qd5y7gHv/dCwlO9ojuJz3/x9o/VTcgl/QLrQ+Ci/ri2UqIgkze3gXW9sXlVloH2UtygaX1QWJjlMryYBrmzMsgbfszNIQo5ZgBe6DDc9LCg6huFNLK/d43mr3Q4foOmphwA0PRASNp+pHWcZHoerRvpkuW3pm8dJ2s8Mjbvxg6RLbQ0EAXjMa8SEPxlH8H51OTwwQNS4PlUQrXp1CMj/m9vntEaxH76edVt7ud+2AEMls+1r/3j5BFTiFEWRVZJl0KHJH62NOEKUYa6B2R8OBIJDyL98Q+yFIlyT2ujX7oh4ShB5bq9/B5vn48ziRubVWisQeKZzGyVD87clu6qY19sQ6090JuGi3IwvCI6N55vg4OiObIZFW3eQLpnaZ0vR9S/F1ClHoW8bcvoXgfU3nfnBLdT+7bL61hI5Hi41DGLUTZH1kgJH9wbmvckJvyB03Wv42QRV4yVsTjOf77+D7+DeLVD8FDL6BEAP9ALtuP+jyphZJknH1UdQNySbtEjFFsxrYEDSHKFl7XDTHWHyO3nSepgUlrRPMIp+s2p/uliPZVfUN9iihXut9bxZmRJA/PER1z4sFfUQDNy5DgZCdkvvw20s7tXnpviNO/WdU0/ASa4w1mBLI0OoKGiWN/JER5EwXSG4AOmbHgcHcSFp5EdGyPrIx+hWceKvVPj9LzyTGUY6F9Ui9boewDN9PahLkQtCxW7oeUCwoY+jGwekEn0si/DjxMSVCY+tjTWlg6BTBj6f5eSIhyGA3N9MW4C2ddaPfraRDTPNSvfxAaISHirUjQEPMFSTLTzdrt3/j95WfQAfMpXIhQ14IE4xegZACvIMHZMGSBtm7V7WsnGo9DVoWz+vWpSED8BxQk+b/R2jcbOjy+jfjAONtOqvM+Xu9mQcFjX0SH50JBWAhR7gHWjJ638t9IqVCKQ4cUvzsjq/KZkHJkpM+DI5Br8qw+/0elOuZt9MWxuIIX8esXI7fk4YjHnQwJUX6NkmYUwpMk97of1TdVNyCXdEtpgZ0cmDS6XgRlIHmVRlDFbkhCuy4JB1Vq0g87oYjbRcC4jZBQYIPomZXRoeKq0rt9cd/5VAsyX25BfqHL+ebya+Bovz8d8Ft/5sbovV6+KSXNcCGt1EfA0uX5jLRwo4CvkGT+pYixGux9kkxwwbExREgY9D0yW+8R1SefZWgsNJdpG4I0MTfQsES5Ftgkeib5Nc/pWBO5cMRpmLs5s/kNOkQX2uikmanSXnckckd622lcOGIa9/Rv+np/5uW6jLfTN5SGddHv0QGi0EgXffBL4A9Vt7UDaN8XD4qLXBWeRoeKWEi0DTpQDqy6vZ3QH72RtcXF6AD9oc/9i6puWzvRt4zT9RaKdXI6bk2K3NMuRUqDdb1uFsT7bUW9+NuRKOj7PUg4/hkSosQxUZ7y72Epr2vlopxSQQku9sDdV5By7DOkIPsQ8fGrIeHBqb4H/hsJEh+nXq6KA3xcDyjVn4Li2x1ME2FxHeb9ePVP1Q3IJf2C4pgUC+jNNIIGLoCEKK8AWzd5L2mmOqLjeOA8/z3YF9Mi+nr/iOFcoiaLajON3FDk+/giOkivgAIrFj7RfZDZY9mXONmF1pmESZBGqhAWNdW8IIZ7Z1oLFgYCa1dNx4+gNz5EbuZMxkE+x+O05d8DR6U8tj9lLkS/hzjD+TcUF+FdEre2a+Obn9YZyr1L9dMhwcFXRFr6OhTkB/4e0rYv6r9Hx2sbsKmvCRdEzHTyex2yuvkHcLZfr4+ySV1DI+5HD5/7TYOGp1p8jbsauMGvp3c670XuW338e7gbufAkeXicgP6Zz9f+F4iCaKdenGcbjRQkTxNlFUOZti7xdW6dJu/W4ZvfGmUWWoSGZekVyKo2duOYD7iqzPekWJBg+AtkVbsaEoiugKzsVnE6X8azCCJrvK2QpXmdBGfma/4buOU4rWOijPL94Ohi/e9qpfIG5JJeofVBam88QJ6Xp1HchzX8/mJIUv8ZsErVbe+IfkBCozN8s/0PUeo675OD2uq/1Epp7KfHhWV+PRMyY//KGYuHkJ/8bKW/kSxjUWaMfVN9HDi1ybO9gWWa1HdPrQ9oLSA4DR0c7/N/H3bmodBAD0MWCCNSo3M86W96OCp9G6sjc/4zSD/uR0xXDxoB87r72n4/UYBoZ7p+gywNx/ATT6mUxn1NFAS3YJxXAr50Gl9CzHbhutM37rOq6WinvuiBNK6jkcDAkMXNX5Eg7VbkmvsCNfSBp2FZtZZfz4pM9l9C/M3TtHbdSHaf/xF9Ut4PJ6miHe1MU1n5sSiyKPwGWMjrioPylMjiqgWPcVengvj755CbRmxp9TvE9x9MKd5HqvO+tM9d5N/06cAlTebDTciquk+Tv1MLniei5wYUw7GwyOnpa/9lKMvU3XVa539U31TdgFzSLcAayD9ui1L93UhqOblfL43MnpNeWNraGJAZ7z+Q5n3HqL4filB9ZtVtbyf648PEscjq6B3kmjKUhrn+bEgD+4IzFkmnZW6jLwqz9V5IEn8fJSsDFFTwaqLAsqkXJBB8F1jcrzfxMX4SCQ2Kg9PBSDud/MZaYqz6j+PZtoQrSR6iS7QfityRXkNWh4uiNOW3ISHiecgX+k9IqDIAuXiMqJqOCaXdr5fErW1ouC9tj4QJ7yPBwgbUI+5HW3vd7EhotF9Ut7Dv7+ehFJapCwzLQoH4G7gSCU2KGBCTAwv5/rcRNdJAt0ffpVZKY70OjcD/i/u69h6uEKKhQJsaxT2qzZjTsCjdH/F4RYraIs7dvEhZ+B6wXR3G3mmI1+4Lnbd5Dre0ie7tgSysB1Xd5g7si2J+L4f4uzuIsswhN9WfRXMl+fH/0X1UdQNySaeUNpcVnGn8gkbqzmKR7YFM/E5s8jeSFKKUaF8ZHRwLJmpGdLB4FR0geiH3pTuRkKE2G6vTezTSum6MrCweRr6xC0SL7qToMHF+DenfDlnXFP7QizgzcSnSvvfxf+9AJt5JamSa0D018ofe3q83Q1qofZzJeAYdLFsFz0t5Y/U5vJj/HoEOUONcw+oy5hE9pyAz9l2QldmLyPKgB4oPcCRyWXoSCRQLbdW9bZn3jwAAIABJREFUeKaOlOYBrYXFlyGNZC9gBv++R9NI19sXxTtpAa6ouu3t3A9rAXOX6o73NX+MjGrRM0nu8yUaDgI2JNKwI4HZa7glQl1p74ql9M2f7uvZUBqKwMVpZNZrJUSJ3kuS12lrv3I+5j1KMY3QwfkKJDCt1XyntRBlhK/rexNllEKZ914icumqa0EWJ1sj67r3UEKMZ1FohkJYXit+Z7z7puoG5JJGobVJ8gIo9sPxKDrz5dG9nl7uAc6out0d0A+nI5/QD1EGih1Q4MSFnNH+HAkXnkVa2KR94Ik07kjqPCWyLNjK69ZymotsDE3dU1JlLNrokyJQ6K14AGBkhfQ5srp52g9Uz1Ajc24f23VQ7JaFkcBwP79XWKK8RpS2mYQOzU3o7eXj/BGK8/A5sMB4vBcz4rNSiuifWkEHhxeAZf16JRQ8cafScz1oHUj8dCRkb/OgPTGW0vgtiISDq0d1UyNXnm39ehKUfWreVNf5NvphLmRV+RByyZzK14DF0CFyI38u6fg+bdA+BVKKfI6sSIdH9+4CRjWbL7mkX5Dg7EN0SO5durcE4m3fJHJfTrkwpnJwMAqgW2QT3AD4J1IILef37gQui96rzbpXpgcJz79GwqLFUMbJu1F8s+T5unH0ww9ZVp2XOQnF9hpBF8q201YpOicjo02Y2VaIeT7QzM5Fh8XZEEM1zMtvQwjDo3eeRkzGEVW0ub1gZhZCCGZmNIQkByLp86loczkZ+cH2QCbO8yEG88kQQouZ9QghfFcJARMAM3sYuDSEcEVUNyNK1bowSs17I2IuLzazvkigdHsI4d0q2tye8DG3EEJLk3tb0Ij3ckQI4TkzmwkFiu2OJPWXhRC+S3H8zaxbG3R3DyF8b2bDUMaJrUMIH5nZ1igOSk8kTPu+k5vcYTCzj5E73i4hhGvH8ayFgvMw2w/FiFgthPB+x7e0fVCMcXS9DPIDX8jMtgQup/HN90NWR38NIXzozy+Fvo3V0SH76c6nYsJhZrujOf1ZCGHPaC/ojYQqb6H1b3O0Fy7p6333usx/M5sbHaoORN/2KBQD6TBgRcQXfF1dCzsWZrYimscHoDG/A7nrDgN+HkL4c4XNy2hHmFk3ZFF7E/CnEMJp0b0fvmkzWxjFeHo9hLBZJY1tJ5T2q9OQde3nyIJ4NEqO8IyZrYQOzgNRCtt3USyob+O/USeUxvwCtJf/B7nwTQZs5vQ35ZUmdpTb3da+NbbxTZG3bVdULcHJZeIvSOPegrTqnxKZr6LI88cgU/57kRvDdcj8MWmrA1pL5icB5gBOKT1zATos7wVMOba/kVpB6ZkLU/w4+vZjyIzvc2DXqH5WJFzZrOq2d0BfrAHMXKrbEmViuANY1OvK/vPJSedjGlBGpZHIhWPNqP5UZIEyM4oDcBtwSMp0R21vFfMECUufQgfmptY1lNI2ogPWv4DBVdPzI2mPNW8rIsHRakjjuoOv83tHz6yMAgouUPo72wGzV03PBPTDQJSK/V/AzVF94QM+D8rE8BjSRtbG0iyitbyWDfd1/ysUD6IFz7JWt9KE9umRO+r9TncLsE/V7cxlgsc5XuuLbzjOOhKvh73xDEPICqFO3/qhSCiyol+fitzzb6ERB8aQNeJCNFy1k+bxx6Nf4vE/2b/7dYr1oQ70A0Oi323O6ZjHQVb3tZn/P7nvqm5ALhN3iT6Yu5A575WMadY4DRKi/N0PGrG5c5ILTOkwdDQKEvqR/ztF6dlfAG/7JjTWIJMplCbM41HIXatIWXcAMs2/JXqmHxIk3EfCh2en5UxaHxJX9PEdCcxQenZ7JFS8DViq6ra359gjTfNnSOv8gDMPx/i9Gfx7eN8ZzmepgSl/iaHekigAMA3/9yVL70xeuh7m/bZ51fT8SNrXBR7x32ejALCF//8oH//9o+f7IG3cTRFDXRumCrnv/BJl34gFxYXp8iTIpbE2zHQb/RAfInrSEByPrsFaP97xjJz2ASjez/V1He+uWHzPv9B/Pwjc3WT85wPOAmaN7iU9/52GGXwNH+LXGyFB+SXIJfcOYLkm7yVLe3mfGhstpfXvMBqBopN33UOKgvcYj3ALJd6wX9VtnxhK5Q3IZeIsZaYQaaCPcib6TGBg6blBKDPLi8BJ0d9JjqGm9SFqN3RAPgoJkf6NfCHLUbmvRumM67ColjeXE3zcD3UmciASGr3hTPQVznQ8R/oxX2Z2ZuJJWmdUOg4dKM8GZiy98wQ6WNcm5g/y9b0OWNqvewG7osPkcK+bFkXp34XEM29422MGYQSyojuChi94f5/vbyL3tQHA74GR0Xu7k6bwpBsSoLzu5VMiCxLk+/6Iz/NdUZyAe1AskNpZX0R0z4Pim7yGB0/2+nLGreRoJ9Isj8ezZaH6wGjvT26tR0KQImvc+AhRapVdq6uX0lq/JorxVKQn3xBZG17i191oZFS8O8VvfRx90Ru5qU2JMo29A+zr945DPO8D1CibYET7+FpfdC9dJ6ksakJHb5Qx8Q5KiqHSc/H3shdSlPbuiDamVCpvQC4TX6G1AKGP/1swS7vQEKJMHT23GDpkHYOEKOdWTUc79MNyyEVnk6hupNN3GGMKUQpNRfJCFKdjL9zaBplvtzjjaSjI3sYoR/wvkYAp+UO0t38BJBR6DA+O6/VHo8CwZ+OZGZDg8HLkslALxgpFXH8MWZNNQ2vTzQOQ69YYzFR5c061APsh65qly3PZGelRyI3heeTeUwgQBvs3smnVNEwA7Vc7DU+UxxaYG/n+v4hcGX5Vl29+HH2yAHAxclkbUnV72omm3Xyci0Cw47VnlZ9Lcc1DbmdvoiDgk3rdeK1dtD5I1GKf78oFCUsuAU6L6gagmD/v+lp3r++HP1hZpjjvx9ZuGq7aJyAFUnE9HAlPzkyV5rH0xU+1vujbUW3qRNoH40GQURbRp4ELxoP2YUigtmXVNEwMpQcZGRHiwEJmti+wrJlNDrxiZseGEC43s2+Bq4CeZnY9skyYKYSwmJldgg4Zq5vZwBDCx1XRMiEwszWQYKA/0jwAEELY38xGAjsCLWZ2ZUFjUADBJANKleFjfjjKLLFfCOEMMwtIMw8SkN2CfGTj97qHRINKFQGxQggvmNmNaB4fYmZfhhCuCSGcqLiybAzMbWZ3+e+AgiiHmoz/5EjrNg8wKChIbHfkwjcaMVVTlF8KiQfO9KDBvVCWmfNDCI963Q/rYgjhS2AdM9sN9cdvovk+Glg3hHB3Fe2fEHgAxW7IJechYF8z+3MIYaXikRDCq8D2ZtYf+Lqgu+6B5Hw9OA8JHC40s09CCKOqbtcE4gYUCPw6M9sqhHDrTwwG+WOfnxjwFyQM3wf4nZkNDiH8Z1zBf8v98xP6KqNiRIGguyELyuMRj3Nz8UwI4TMz+yVyUxuKMrB8AJwTEg0KD2Pw9lsj5c/0SID0PvA/JDwa4PfeRpaWVwJXps7fNPm+/4NcslYzsyVDCE+08V4caHcvYHMzWz8kGjzbzNZDWQU/NLPhyKpqF+CvZnZ/COH66NmY9mGI/98lhHBDBU2f+FC1BCeXibOgFJQfIY3zwUhS+ygNCfw2fv8FJJ3vFb07DZF1SqoFuS19jIRFU5funY0CDG5XdTs7iPbuKGXZfbi7ltcfQsOdJ/kxHsu4347ckr5Cmuc4BsKuSHv5EhIgFd9EbTSSwBbIJes+WgeNng4xVhtW3cZ2orOsUe8JPA6c2uTZ3sAyTeqbpu6e2AttayO7A+sDrwB/Lt1bn9apipOc87S2spxiPN9ZBAkPkxvrNugZgAKjfst4WKLQWhM5R1vzZ2IuBQ0oY972zrvczjgsUUq0Lz6+cyaXibPg7gfAojTSEm8zHu8l/+2jQ/C7KPj3X/33Hn5vB+TC+YTz9i/SsDJMcq1vQn+Xsr5otk4jK9qPkQvyNcja/HDkyjNHk+eHOu1JuSZ3eN9W3YBcJr6C/CBfxANHoaBSnwF7+nXBhMznzMQPQdaqbvtPpHdsvo+nooPkCYzpsrN/TTbUtg5SsyIp/f6l+oOQEKUW5uwl2nZBLirL+QFjGaStfRrYKXquH0pdWqsAkrQ+WG6HhEjPAFshocpt/j0kP+9LdE/j//Zy5uK+8nqGUpRfTQ18wUvjPAQFDD4TD4Ts/bAuyjTzKLJWuBdpq2rBSDudZyFB8WQ/tf9SKuV2o7gH4xSilA4SeyFrqxk7qp2d0QdIiLID4xCilGjf2/fEeaumI5efPP47AdfSCIq/KLI2uYfW7tq12NNLtA9GabiLbEKrOi+3SemZoxDPWwhParHfA+s5ve/7vjcQhR/4mpJghDGFJ8nFNivRMyfufgSsBVzma/lOKJ7h2yj2z+6l94osrLXLrjnBfVp1A3KpvpQZJl9kXvLfmzjDUEio+wHbMubhIskFtnSQ2BW4CAVIjS0OTkcH6BNonqo4Sdqb0LF2mTFEgYH/QiklqW+ydWQwzgPuKtUtgdIzv04TLRWJHqbG0gfxN7EN0kR9hYQnP6fhH12Xeb8dcltZ0q8X8TXvUuSq1Mf/vQMJEWoz3r62vYMsqa5DB+mN/V5PYBVf+95GwrSkra1KTPESSPs6hlVRk/fiTAwDqqajHfph3ej3WIUopd9D/dtIXgvr9b2QO25TIQpjHqL+CWxVNT25/OR5YMht50nkoj2l1y+JhCh3F+tfHQuyJr/Mf29La8XoACJr4+idZPm8Zt89XdD6AlgNCUFOR8rB7sCvgaP9/nTAb/2ZG6P3egE7x/tFLlG/Vt2AXCqeAK0ZhEH+76pIGr+rM0vDomeW9w9v/qrb3s79MAL4EGkm7vCF5CoaFgZnILPGkfxIbWUKBZlkfwc8jIKiDvRFdhF0wNrEn+tVei/ZzbVER6GVPAYJjMqpqrdFQoT3SNx9hTYOR836w39vDfwJpe6cv9k8SLkgDcsDyC1rCa/bHFkivYAECI8gS5ykgwiW6B5KlJYZ2MzXvf/ROuPMJLS2NEz+m0dWdMcAp4zHs2UBwkkknMYRxXxowbOMeF1TIUppHSi0sElpIks0bOhjvz1uSUZrIcptNIQoPaP3ktdAd8XSbJ12vmY4sqy7hIYQZQkkIH8SWLHqtrdzPxR87GXIinJp39/2jJ7ZGwmXarO3R7R1KesLmlsRDgVuRN4FuwMr+BxYz+/3QdmYyhZ4ye/3HdbPVTcgl4onQGNhPQ44239P7YtJC3Bw9Gxv4E50kEr+ABHRtRIy6Vuh6BOU2u4z4KLouV+i7CxJal9LNDdjLOZGQrMXkbXFBcBMwDkoAn3y0cfHRr/Xb4TMOYeWGOgNkGAtabctWh8m+v+IZ3dEmVduIFEXFkoHwtK9LZAG8g4a5s0zoUP28egAVZuMM0jbWASEK+b3Z8C+6CD9dTOmsQ7rPtAXWdy00ra1NWei30NRGu/UmOkyQ9wdueR9Blwc1U+JLPC+ArYuvbMHCWphS+N3Ojoo/QUJhJ8CVvV7vZA7z1+99I3eG4binSVFey6t5sHPaB2nrzvKpPiI83WTe/2y/g0kvc61xaOgDFRv+9q3S1TfF1lgnV912zugL7qU9UWJb5sej/fi1zMhwdFXSHj4EOLrZhuf+ZNLqa+rbkAuFQy6No51SnW/AXaLrhdH5qq3A3siSexolLqzOEgkuck0YSg3R4FCCwm1RfVfACtHz1r8b4qltMAug1y2lsFdM7z+EJTO7mtfYFuA9atuewfQvwESDuyBm+Yj/9/vkKbyZ74J3Y4OnMX4J7fBOK2L+e8RKLr+WOko9dVgZI1xDYlrqYA1gJlLdVvSEKIs6nVl98bkxr08jlHdoiiuy1woYOy+Xr+2f+8twNpVt70daG+mjZsJpSb+L7B6G2PdzAc+GeEJrhBo4153n+9f0lqIMoXzAg9EdVsj4ckWVdM0AX1xALK2WsavD0RZtN7BD0jowLQnOlgU1lZFjIgsPEm0+L73KnJfiZUivVDA+H8ioXE5UUBy/G15X0bWFjsA86Msa5P7uvc3lAhggPM4dyILy+QDxrax3ncJ64vSnnUsEhK/g85tQ2nwuLMBf0AWti1kt8Sf1t9VNyCXTh5wBQN8zReTVaL6B2n4QnaLnn0AMdcPIqltYcKe1MIS0Tkg+j2f/7scEhSsVHp2TuSysUGpvhabCwqQ+4Yvsn9HApNVo/s9kVn/aGTamuThcSx9cSYKqPai0/8eLiRy5uJd4BPvo+dJOP6DM4sPoMxZ1zjzsMD4zBca8QCmdWZs5o5saweN897R9YpICzcSmKH07PbAp8iUf6mq295O9MdCsL2QVU1ctzHSuhdBFZdF1mc7p7rOt0F7Nzz7hl9Pi1w2PweW9bpmzHeRfSGZQ7R/65fROBANB35eeqawRPkapWgt6idlTCHzWlXT9CPpj2PWTImsZodG9HwGnIyEpX8HVvN7Y8x33MUtlzSLz+erkeXRgbS2RCmsrd8DjvS65PZ3b/fvfK0qYpSN8Hn+FrKcOwoJTGZELukf+rr2LOLvCv4mWT6PbH1R0HA0Sr29MfIceBhZlS9A43w3qa+F56e+z1fWz1U3IJcKBl2S1oeBm2mYsP6Fhjl3zHz0RVLryaO6JD82Gr6PU/ii8S6NnPd3IYnsz6Lnp0YS2o2qbnsH9MV+yG1peb8+CVnbrNbk2alJ2PKiDfqHoEBiiziD3c/H/5OoTxZF7l0b0BAiJDn3I7o/Rlr38UnZGAvbDnJGa1DVNPxIemdGgsEngR2j+uNQTKOzKWUT8fp3gDOqbn8798UZ6LB4GDBLVD8YaaEWQ7GPbgWuiu4nOedpzUzvh9zP7gcOi+oHomCCn9E8RfUeJBb7wml9h0aq1qmRsPwbxsyo1hO5MLQAV5buJbnWE8WnwYW9SBk0B7AgOlAW1lbDnPZviOJeEAmOc0mn0LaL5mQopt1jSIhSHCLn8fpd23o3leLr2BdICbAiivGyPLKuGI6ERKfScFeaBvHE80b9keRa723vktYXRK7Yvm5NiRTeW3ndWkhJUAiQuzdb21Ie+8r6vuoG5NKJg93afHFZ5P95K/IRvMY/tEmRgKEv0B+30ojeS1I6723f1xfTp9FBee7o3uYo08qfkInfBiiQ7pN1YKTKzAESJB3jvzdDmogi01JvmmcbSnnsy/QfB9zuv2OB4Sjg2Tb+RnLzgFLME+AlZyzeItKslpgPY0z3hX8Bg6um5yf2wQIodtFjBRPh9Ucjs+Wzgem8bhAKorxdec6kXJAbxgc0FxIMQBaJLci0+zkSTUnfBu2nIUuz05BwocXHfKDfH0jDB36B0rtnk5bwxJCm+WG/PgcdDmfw+v8CB5beORK5KN6d+px3HuYs74cLfL+P45ns7ft64a67GbJO2S/F9T2XVmMf71m7IwvDU3B3dd//rkCChYuQIvEuZJ2SrIKotMdfiAS+JxJZlfm9g5EQ5WQiAXqzv5NyoQtZXzhtO5fqZkRW0/1RLMc4i2pfpBRIMgX9xFYqb0AuFQy6gmSthFJU/sUZihZfeF8G3nSG830kWEn24Oz0xhtrcVC4Hpi+9Nz6KHXpf5EWehQ1MGss0XgasA8y8V4HxT75IdMS0kjuQ42sbkrjv54z12cBf4vqC23tqj735+vMNnYQ3TFjtSVR8FfklvVDBpaofvLSdbLZJ2LGCGXfuA75wm8X1R/t3/rtNA5Xd9NgqOvCVJ4EXO+/x6DNv/uNUNr6WlhbOQ1bIZfVpf16VZRp5jsU66MQokyL0tTXgeb5kJn6477XLeT1g5Bm9kvgAK/rjzTXQ6L3k53zPs+fR8qhT4B5SvcPRIfIhYEeKJjwqdH9WuzzXa2U9vjTfM8a5XxOC3C83+uPhAvPISXCH0nYNTeiOVYCXeQ0P4BnlIruHeT7/vnANFW3ux3o7tLWFyiLUOGyFccwfMzXts+BXaP6WZGiOJlYXhNzqbwBuXTCILfeXNZCZn5F4LzVndn4C5JMzw0shKxSlkt1YYnoLVseHOob6BPIdHnuJu8MQlrJ4qCRbB/Q+pC0uW+e8yIh2ieI0Y4PlFM4U3Fo1W1vJ/rLZp2v+iayhDNQJ5WeX9mfmaPqtrcj3SOQZcERwLRe1x8JUd5E1mgD0EFqZPTe7iQqPCn1xSlIQPKgz/dXS0zFrsgS7yVnOpJnqJv0wS+Q+0qPUv0kSHBSXieTO0iiGCflIIA7APv47/WQpd2OwLpIiHIuJbe0Oqz3KLZHC1IYxDEfpvV14Hvg/5DC5FlqEDwyorFQCF2Bu/NE/bIcivfwCYp99UKdaO/qBbkhXkdDYNrL1/dvgOFe1xO5tdXCdSWiPRainOnf+C6UsiciPujm1Oc7Xdj6ojx2yLrweBpxzA5ACvBbomf6+b5wX4r7+8RYKm9ALp042LAtEpKUTXhXRwKUm2gSuT/Vj43WwoPdiKSuSNv8NBKixIGmlmrrb6RckOb1QuAgv14MCUreAKZCkvlBSGvzSKpjPhb6F/L5vbJfT4YEaY+hQ9RUSHN7u28wdRn3/VDg2KXLTKJvqKOQUOF5JEAohAdFXIxNq6ZhAunfBWlhlkNComVQLIyngZ1KfTEVNRCajmUefIIEhPG6OAAJ0sYZE2diL0QBgX3+zok0krMhf/8naByiZnMGswU4tuq2t3M/DERBEvf0b/tyogwjSGi2LIqHcAgNAULSaz46LPdHh8cLfbzPYEwB2bK+LuxfF9pzCSA3xceQi+o0RK6o6ED5OW6NVXqvFnu90xILUYosYzsAfUrP1SGb5E50UeuL8pxF1pMtSEHc0/eAXyD+fjQSJj9I5J6b17x2GIeqG5BLJw20pO2PoYj7R3hdHBNlDRSV+s/A4lW3tx3oLWvg30K+3jNF9fuiGCdXISHSKODpqtveAX0xCPmAfh6NvSG3joeQlP5Z74tH67bAosjrDyEh4aCofhDSxr6JDhovI+FRQX+yjJWP7yQoWNrRRV0zupBwsVXGFd+A65DC9jzgrlLdEr7OvU4TwUHK4z6OvrgHWaBtiiwN50YxAJIXmAJLIY3r8siE/0NaB8pdCAkIizTeM/jcWIbEhWVjm68oJfVXKObV1GN5Lsk+GAftJ6IYR62EKJSsC1Of+7n8MI7DkNDsS2DheGxR8OB/EGWerGthTCHKlyhoftkSJUnhSbnddGHrC+dtp/Dfw5EQ5Ujn/6ZAcWBuQIrio2gIjJNc7ye20oOMLoEQwstmdgbSOA0zs2tCCO+YWc8QwrchhNFm1gt9cM9U29oJR/BVwswOQofDdUMIT3idBeF8M/sCHSAvRVl5lqqqzR2FEMIHZrYpWkg3NbN7QwhPmNkf0EFyAxSp/QPgphDC92bWI4TwXYXN/skws24hhJao6mWUwm4Q8DOUorbol7OQBcoqwD+BJ1Olv5jXoPlvZi3ALMh9h+hei5n1BhYNITwSQrg0+hvd/ZmPUSyQJBHNgU+AJc1sihDCpwAhhCfN7GJ0qDzbzL4MIdxWvFuaO8nDzLqHEL5Ha/u1KLjmZMiV6X8o+8j30XMp4mPgV2jOfotiGH0QzYNvkMBofTPrg5jJ3sCj/q0k973DD998i//eHWlZ+yKlwFshhLvNbGOkkQ1mdlgI4Z/lv5Mo7d0i2ociYVgL8HwIYWQI4Wgz+x7FP5rEzC5FQYF7AKtEfECqcz4jQgjhl2b2T5Sm/RwzOyCE8Lzf/idy2Zu0sgZ2EuK1PISwh/MBv0Z74ajouVBZIycMBsRt74XW8y/N7BwUt3FOYD0zG40yz82JrC2XqMFeB4CZTQ4cjpTj+4UQzjCzgBTGAOeGEG5Ba3/8XvcU1/uJEZbuN5TRFpocION7myAzr++AbUMI7zZjHsf2N1KAmRliJK8G/hxCOMfM5gIWR6bNnwOHhxBeNLM5/NkX/HCZJDM9LpjZwmgjfRpFaH+ujeeS3VxKTPW8yOLqbZTO9j7gFeCEEMKj/swYtKZMP4CZTRNC+MgForcik851QgjfRs/Mjsw+zwghPFtRU9sNba1XZrYR8onfD7ii6AMz2wCtA/cAv0h8vH8QnMW/x/L8iig1/afAX1Je8+Jv1cwORdYnXwHrhxDu932gmzPNe6LgiW+grFIrhhC+HZ8+mxhRGvcRSAP/Z2B+f+Rq4MIQwodmtgZyYbwXua59XkWbOwJmdjpSktxFI7vGrSi21//M7GgUHHkapCRZOYTwTVXtzWh/lPb97VCsi0lR/KsWFPdoFmSBlvJa32qfGxuvUlobhyOeL7k1vi2Y2V7A70IInzp9pyNByqlof1sJuS99goQop4UQvkt1ryvDlV3HI5fEbVzphZkdgoQohwOXhxA+qa6V9UYWoNQMpY1keyQw+Bp4xKWRmNkWKNMKKPr+u6kfGqH5IcrMrkfWByNRMLEWZJGwJvBRCGHl0vPJ98PYYGaLIc37M8DZIYT/q7hJ7YbSgeJ0FDR3csQ0n45ovt3/PS2E8HhVbe0oOPO4J8qy8YSZLYLcl36PTDy/Rpr3q5HmZu2UBaUwxpq3AYpl0gcxV5+Z2VEobfWhyA/4H8ha4UXgMLdASPK7L9HeP4TwxViebUpjTWgfgr7111E2tR2BrUMId8YMs5lNj0ybX0pZcBTDzKZGGYWOKdY0MzsNuaVeB5wfQvjazNZDFqhrpPzNl8Z9OeSmODiE8EBUdwswKoSwvdctiDTQj4RELQwzxikwiOfFNijD2uwoBsQjwJkuUEtyvYthZkNCCFf777EpTFvRam5x3lnt7Ci49cVzwM0hhP28rhAcHIWsL/7b5L0kx34sCqJZUfy6o0III6P6g1AsqB2KeZLRAQgTgR9RLu1f0ELyLmKgfoOyD8QBlbZAQURfwFM51qUgbdOc/nsD5Pv4KTLtLKKzb480Vv2qbm8F/bMoSnF5EzB71e1pJ5riwJhboVSV6/vv45HgbE9gLpTW9Dpg+arb3QH9MASlL7wVmauCBEmf+7f+NGImn6EGsV5KtJ+JhCMvIo3Te8gSASQ8eRfY5iDTAAAgAElEQVRpo95ATEfS2XZ8bStieowArmQ8/LvrMN7xmCHh6D9Q1qi+6NB0KYrttE703AHFvpBqP1CKT4bS8r6KLE+mL937BXLf612XOVAa9x6+xr+Fp2ulkVVlHZRtcK0mf6M2MRC6SqF1wO82x6/EB2wN/Am4Hpjf63p1RPs6uS8G+t52xng8G38vfTuqTRX0QXeUsvw+ovMLEhAXwVTbjPmUakExreYt1R2L4vvNXqofTI510rHjUXUDcumAQRUj+RYNYcF2vqi0IM108dz2zmTVgqFAvpHTO51/oHXguDJzeS9wVdVtrrCvlkKRuZNkpMdC12ooA8UhUV0vlHXhe6SVXdiZ6xOrbu8E0GltjR0N4egdNILpzYQEiMcjU/9aBRNDgqOPgUVQ5pV+vgZ8ggvKkOBwJSR4KIILJkm/z+kHUIala5CAbIHxmTfR71lTP1AAh6GAsUvQOij63Mjq8H8oUPRolLY32b0OBQxswYWCXrcmsqj8DM8mV4ypfwdfARtU3fZ2on81pFEFBcc827/p/xIJyvz+LEhgmnzGja5eUJr1r4GzorrxFaLsiNK33wAsUjUtP5H+cmr23sDBvr8vOZb34rV+LyRsGEOYOrGXsfA5syIh+f6l+oN8nRxSddvbuR/mQKEXHkaZ1QYiQdIiKDj8Jv5cr9J7SfI4KZTswlMzeIC8k4B3Qggj3aT9GnRwmgFprHYLIVxeei9J07ZmMLNlkYDkDmSi/5bXT4oCzQ0HpkWbT7I+8BOKgu7U490UMLNBaHMZiLQzJ0b3+qJN538hhB3NbFEUbDD5Oe/xDV4NIbwT1W1JI43pz0MIz5TnecrffBNf8OPQ97xByfd7FDBdCGGRJn8jWfoLmNnHSFi0Swjh2nE8G7u47Yfmx2ohhPc7vqXtDzObBPgt8GAI4VwzmwUJR/dEFkb/hwTq2yFLjG18vU92vTOzS5BV3XYhhNvNrBuwItrjXwA2DiF87c/OjWL87BBC+HNVbZ5QeByb/ugQ3AdZ066E6H4LWdiC1vyH/J0pkLvecSGEP3R2mzPaD2Y2LfqG9wVuDSHs7/Xj684zGFkkvAjsHBKNf+N0PBFC+JuZzYiC4f8lhLB3k2fjtX4YstLbPYRwfac2uh1hZmsDb4cQXo7qjkVWGUNCCG9E9YOB60PCbnpthCSYG617B6Msi6NQ3K+DkIB52dDEdSmjg1C1BCeXCSs0kc6igJlzIYnlK7jVCdK+F5Yo21bd9nbuh1YpWpGg5Gvgd8CsXrcySud1AzXTwE9ov9WloAPUaygtc9nc/RdICxNrqJLSSCM3lb2j6xVRkNyRwAylZ7dHrmu3AUtV3fZ27INYs7YessY5C/hbVN/b/10VuXfMV3W724n2eO72R6l5n0IHySWje3EfWel6GAqiOrhqeiawL/oiocGvkdXVrcjS5E5k0nyFPzdltD8kv94j96QviCxLUBaxD5DLwtbIMuV25LKX1Bo3FrqnRNY2LcCRUf2GTveDSEG0GVKg1Ib2rloiPq0Pitv3NgoCX9xvOr6+5hVWhtOiYKIzV03PBPTDej7v30fWlgOBxRCPu2WZ9uj3MGSdtnnVNEwg/V3K+qK0zy/j478MMElUfwhyw/8aWVm1sk7MpeNLNzKShUuZCyn7Jma2j5ktH0J4J4TwN2ABxGhd5a8UvwejGBDJwrVSxe8jgNM9MFyLS24fQYenTYHjzGymoCBzI4AtQo2icU8Igq/EdUFQZqHN/PIgM1scfrA+WhhZZrVEzydjgWBmMyNGYhcz2xEghPAgcsVaHjjYNVP4vd+goJqLAFt2fovbHyXN2rEoBfUsyBKhp5mdBBBcC4+Yii9RGtukUdKqbgnMEUKYL4SwOBIa3mhmS0KrNO6TB4dfD0Nr4O4hhN9VQkg7IUjTtj8SHvwCHZiPCyGshw7QA32+/CuEHyzt6rDe746CQl/rFqaEEO4HtkHfwu+Qm9rrwDLB03ZW1Nb2RAui6UFgdTPbCSAoBXkRJPxY5LL1LRIa14X2Lgf/dovvdTtgQSRIOcqDJNNsfIs9wu8dhKyw7gmRhebEDrcs+wEhhDsRHT2QwPBclH3lOGAnUybJ4tlirR+KvotdQgg3dE7L2wdN6H8dZRe7HAkSHgHOQ4qAG4DjzaxvKFkXpbjel851pyLe5iQUy+daM1sVIIRwJrJG3BYJl+4jSlOd0QmoWoKTy4QX4GTkC/g8YjJORqbLa6CDwyZIe3MbcGX0Xh2ks5MDOzndR9EIDFloH470e7cA00Tv1cryIpcx5siiyGT3Y+TK9QfgSRrxAZIcfyQUvQJ4DBga1R+NZ1ZCLisAgxDDsR31i3WzENK+rOzXkwEner+cizLxzIe08PelTj+ttYojkEvKEcC0XtcfWV+8iRjrAeiQPTJ6b3dqoI1s0jcDgZmi624oQPgvq25bO9DW5rxFQYN/sERBWvdVkDDt1ui5pOPcNKF7kH/XDxAFF/V70/ncr43FUVcvwAnAP9FBcTBy2foHTWKiUDNLO2BOPPgrsBbKoLiX87xvIIuct5BAPH5viPO9ycUAIltfFDTuhyyOihhuJ/l6v1qTZ6eO1rxsdddZY1R1A3L5CYPW+FCKoKn3IU0TwM4ocOLZSCt9IdLGvI7SfqWeeSJeXIcj8+35ULCw71GgzDiY4L7oIPGnsTGjudSvII3VGyiN7x5RfXIHivgggDRQ16HsG9tF9UcDT/jhYm+ksbo7Wi9qMf+dgXwIuWnEgaIHIaHCmyj2y8tIU1WbbEPOVH0ELE3pcIhioYxy2p9H7j0F7YOdydy0aho6sG8mRdlXbnP6C/P/Oux1myO/9+HAclH95TQXonyADhhJ0j4efTMbDeHo7sic/wHglGb9l0uaBbnfPIasKIq6QUgx9glRIPgS35e86wqKadGCrEiW8zn+a+Bovz8dsk5oAW6M3uuFzgHrVk3DT6A5FoCd6vzbUyir3k3AqvF4I2vj0cjiMGnBQXm9QsKyY/z3Zij20x5+3RuYcmz9l0snjFnVDcjlRw5Ya6ZqGmTSfyZRdG2UceRj4BQkRFnaP8CkM0+U+uF0dJDYGk/f5YzUd8iscTZfZG6iddaCzFR1oYIsUR71g8bcVbenHeg5xQ8OD6KD8qu0Tk++K4oF8RKyukpaYOptLzMWqyHN2/+ADUv3eiEz73VRpqlarHnoYDwJsqQqGOimgjFgN2egY6HbQGDtquno4D5azOd+PO+THnenYQTSuF+DhIYv0jrL2KXOXG8RzZWVkeLkt1W3vwP7ZTZkvv8yjdTkyQnHcxnrGPdHFhbHlOoH+rfQAlxcupekpV2zPRoYCtzo3/zuwAoo49p6fr8Pim1YztST9LpHF7a+QEFh90EC4XWQ9c1/gGF+v6ff36jqtnb1krPwJAozOwWZts2JFpotQwjPRPd3Qa48d6Egsp97fR0yT6yKpLM7BsWAiO/t4PfeQYzkFyiYaHK+kBntAzNbDAUPfhsxYi9V3KSfBP+mz0Wb6gvI8mo4MDty1bjSn+uHhIdF7IdkY/2U4n7Mi0x230aBsu9DQbJPCCE86s+Msb6luuY1yZrUEx0aRocQjig92xtYNCj2U1zfHdKK9TMh8FgAbwbFwkp23hcws62BM9Bh8HGPffQrYPsQwnXRczciN7Y1/Zs3pDz5KITwahVt7wyY2XQohfW0wFUhxzZLFm1kHemH5ntP4NDgGRX93kikIHkXfQ8tnn3lGvS93NRpjZ9AlPa56YF+QXEMMbOZkNXpWcDVaN//DmUUejP6G0nuc9A0q95lKOPOCWa2GVKAHR5CuNj3ur4hhH+V/kaS2TRLY785cA5y19oLua31Q5lTr/FnpkCC41EhhBHVtDoDyEFkU0EcVMnMtkIuKxeg4HlTAnv6AQOAoDTFJyFzxy+i+iQX2BJmRtrnF4qKIqhsCOHXaFM9E7kxLe5MVQ4k10URQngaubQMRJraVLEo8HAI4S8hhM/8sHwK0k4cbWbbAIQQvgwh/NMPUskGziwFUzsdWd48gYKFLoeYynmBQ83sZ9B8fUt1zSuYQTObxqsMxQJYyoUpMaYH9jGzVumaQwjfp0r/T0EI4fXQCCSe5LwvYU7gIReebIkCJ+4fQrjOzPqZ2UIAIYTNgLUK4UkQHqqz8AQghPB+COH2EMJlxT5fk3HvUigdIucwswXMbEAI4UvgEpSqdn8zm8ef6QvMCFwTQtguOnyPRq4rKQlP4n3uWNw1zcye90Cwn4cQLkRBVKfwshLws/jvpLzOR/SfZmb7oHXvMTNbBiW+OMyFJz2RheUKTf5GcsITaEX7qsia6NygVM1XoLAL7wOjzKy7mQ1CQcL7IoFaRoXIApREUPrIVgGOCiFcEkI4HGmhVwX2LQlRLkDuKy3lqNYpohCSILPFbuhA8UO9mXUzs+2QGd9FIYRfRExVsptLxoQjhPA4sE4I4f2q2/JjEX27nwADXAMBQAjhSeBidIA+28w2jN8ta/RSgTPUhQBhK5SSeX+klbkFaRlXQdY4iwDDzWz5alrbcfD17EYzWzIow8BhyDXpIjObwsz6+Hw4H2nhn6+wuRMNUpz3bezR0wDvmtlySAtbHCQMZZhbz5RhjP9v787D5CqrPI5/fwMJEEAWkW3YFwUH2TcFlB1BMIKsCkIQBgRBhLDNkBCIAhEkgCD7Jggiq7KJICgYwbCFRSQo+6bs4LAkAc78cd5KLmV1upt0ulJVv8/z9NPd996qequr69a95573nErgqCVPJPqCP+dbT10A4WhyGt61wEOSjqAUCya7TJ0n6eay7NNktjFKM0XEyxFxUxOexsdW+ZwbBnwHOIp8bm+R+/tFyvv6SXJq5qHkxdOrmjPivlN3YfjrZMbFLcADZLbNbWTdjzPLZnOQ5QiWo42UwMg5ZPHfWcriccDpwAvkNLb7yIYI8wDrhTuMNd3MzR6A9VzlTTY/2YUByGyTEkM4DPhQ0pkR8XBZF9UPqFZWOTD8PXnCcABZD6D2ATQr+SG7MBm5rd3OB1VGTGltO0OrT2et/DyOLJ63naTzI2JSWf4WcCtZNPaGfh3sdFI5oN4Q2AQ4MSKuL8sGktN4ziZTXbchp7aMB8Y0ZcDTjyjFsSUdFRH3Ktu3nk9225lIZuPNCqxROYlu+f19J6kG+SUtD/wrIp4jTyR/S3ad2CEiLi83GUQGFR+NiH/V7sevu7WayvHb4WTx110i4rdlWtr+wI0RcbWkF8l93spkJuKw2klkee+0zHGepDki4v/KzyJPijcF9o+IX0nalOw0NzQi/lKyD2Yq7/XryhetPl2tq+wLSeeTTQCWoGRfkBnEF9CG2RcR8Q9JW5NTc7aWdHNE3CPpCuB2si39bJTi4OX/vqVf+3bgGigtRtKKZCHB58lU3gcr64aQKb4jIqKtdjD1SmrjqeT82OvIE4nDyKuwq3nHYq2oLpV5S7Id72zApRHxZrkiNwI4hCwk+zz5HniEvDod7ZJxVQLGY8gDp+MjYmRl3SDyivyEiNhV0srAQ636vMtBdMNAt6Rtycybd4HDI+JB5bz4IWRnhheA2hQGH1S1kJKu/qeIuK/8fizZcWd+sgD6JeQJ4w/JAtFjyG5Do8jPujXK696S8/+tM0maJyJer/w+iPx/vzQiLiiffRczpe7FgMoFg+r9tNz+TtIY4JyIOL+ybBHyRHlFMkh0FXBwee6DgG8B15Wgalup+5w/NiKOLZ+H25JZpyuRRaLfL1/rRsSkdjnOqSrndz8jpymPrp7f1W3Xds+9FTmA0oKU89wvYMqb7KHKuq+QxYXa+s1VItLbkpHoAcA/yZPJr7brztU6h6QTyNazb5InTDMBe0bE9ZIOIa/MzUpmn7xN1vqZ1G4nUuWA4iryOQ6pnWiWdaeSBfU2qQSdWv59L2lj4LGIeKaybDsyvftd4H8jYlz9a90Oz72TSFqSDIL+luy8sCw5HW8v8v/6y2XTa8hCgkeR7/cXgNfIKYn+rLOWIulPwK8iYlRl2afIlvMbkEXRr2VKAGFWYG/gpmjRAvBVJYPw0oiYIGmWiJhQlo8l611sAHw/ImrTk5YgT6pPioiWn7bTSPmcvxJ4HdinZF+IDCR3VPaFsunBuWTG8Ym12QQ243EApUV19ybrlIMqZYHFecmWjU+UK/Btu3O19idpZ7IS+8bAs+QUjQvJmh+DI2JMybj4RPm6sZ0PKsrB1UVkfY8TI+K+UvfheuDxiBjS1AFOgxIoezKyXhWS1iOvvF4D/Cginq9suwuZYfhHYGREjG3CkK0PlffxucCd5Pv80Yg4u6zbCNiPfI8fRU7bXZYsGj0u2qTTkHUOZZesuYGHSwBhUES8U9bdSNa4WAXYr5ahoexK8wsya+NnTRr6NGsQ8D6CvPh3SkS8KukAsr7J2IgYXLaZHfglebFk03Y+pnf2xRTlc+FsssPUQRHxRJOHZA04gNLC/Cb7d57/b62m/n9W0ghg9YjYsq42wm+AhSJipQb30dYHFWVfdwmZ5juWzMRYEvh8RExsxcwbSYsBJ5NdxU6JiAvL8hHkVbfbyYDRc5Xb3ENelbssIg7u90Fbn5O0KjkNbyngh9Xpt8oaQAeQQZRREXFjZZ0/66xllMyTicBGJeA/jKxxMTwinle26B5BXgjbqNzmE2TwZHZgw1b+jGvwOX80cAQ59Xw0GVg6EtiCnLLyLNmNZi5yWnrbZ5s5+2IKSWuSWaff9n5+xtTynVk6WUSMI9uzvkFWae543tFYKykn/rXpJ1uUtNU5gc9AFkAuKcyQdQ/mUxaZ/Ih2PqiCyfu67cmr73MBt0TEaiV4MrDVgicAZYrOEWTB631LXSciYgTZaWhD4EBJC8HkueIPAoeTVyqtDZRpaUPI9PUty5XY2rpbgROBgcBXYErXOX/WWasotX4Wjoj1y2faQOAv5P/9QSVQcjmZabiIpAeVRWRvIpsCbBwt3nWk8jm/T6kBM5zcjx9HdtJ8BRgGfJ+cujuRfP616bkzd8Dn/P3A7mQB3ZGSlmrykJqmZJjuHm3SRbUdOQOlDdSuvvqKlFnrqGZNSDoS+CZZif+T5HzgiyPiiMr2XyIzzjaPiMebMOSmK5koZ5IH38dFxGNNHtLHUp16oWw9vQtZLPSoiPh5WT4MGEzO/b6x/Bxk7Qvv79tMN7XNVgEe8OttrUjZ4OA7ZBB8T2CmiDhMWSD7l2Rb3kOBD8k27TuSWYbPAqdGmxTIljQ3GQS/JiL2L8uGAj8ig+kn1aY01d2urTNP6jn7YopWzK7tFA6gtAm/ycxak6TPAUeTB09/KFfjDgY2I9vzjiSnbRxPFlPbpJMPKsrJ5JlkK+PhrVxYUNIxZOeFuYDVyROGUZUCgt8mAyfLAo8B20YbFgu21IPaZg6aWcuRtDa5z/6A7KqyfC34rSyQfRnZVXFERLzW4PZtEUAoGTRHkZ12doyIl8vyWhDlMOC8iHileaOcMfjCsM3onBbUJnwwbdZ6JO0DnE62JB0PEBFvkVfkriZPnp8rP89HZh90dEpnSfPdl6yH8kaTh/OxSdod+C5wDFnzZAOyUO53lZ0aKIGUnYB1ga9VUrm9v29D3aWw+0TCWoWkU0vRWCLiLnJayn+Rxb9V2y4iLgd2IPeFRyhb+n5EKwZPGn1Gl+dxDpll843K8hOAoeR0ni/X364TleCJvM+zGVXHHoSbmfW3BgdVjwKLAqsBa9QWRsQ/yBbdnwW2Ab4FrFM5ge7og4qIuJsMJr3Y7LFMg5WBMRHxp4h4s5xkHEPWeRkmaUeAiHg7Il6tXI1r6TR2mzrXNrNWp+yO+FkyS7DmSbLGx7JkoGS12ooSRNmOLJj89X4c6nRTqXmymaTlKsufAk4AdqgGSCPiRHIa7y/6eagzLF8osBmZp/CYmfWDaipqOaB6jzzAXAz4HZmBcnRE/Lls829py+2SytzJav8HkoaTVxu/EhGvV9Z/g5zG8TqwV0Rc26ShWhM5hd1aUf1nVMm0+32ULpGStgGOBf4MnBwR91a23QC4o12CxCUDZzz5XMeTdV5eA1YArgX2j4hrSiH0iZXbtXy9F7N25wwUM7PprK7bzijgOuAesmDkF4CtgOWAQyStAY3Tlh08aT31WUeVk+FxwKrAdpIGVDZ5C7iV7Lp0Q78M0mY4TmG3FjX5qqykWcjpqBeVWl9ExFVkIGEtYP/Sxpuy7rZawdh+HnOfaLCvf5zMxDkPWBu4CziFDKJcCRwlaVA1eFJu5+CJ2QzOGShmZtNRXebJ9sBJZCeC2ck54cPIlP1byG4r95FX5sY0Z8TWV+pe+y3JDkuzAZdGxJuSjgBGAIcAdwDPA2cBjwCHlpNoZx2ZWUuRdDi5T3sCuJssgr1/rbuUpMFkJsrjwNCIGN+ssfaFun392sC8ZKDk/oiYUJYPBdYBNieDKV8EtoqI65szajP7uBxAMTPrB5I2JAuCji9F45A0ENiZbE+8KfAy2XlndEQMa9ZYrW9JOoF87d8E5gRmAvaMiOslHQLsD8xKZp+8Dazqbjtm1irqAghDyO5xO0bEH0th2HvIml/7VYIoOwBfA77ZyplW1f20pGPJorhvkIXO7wFOiYjbyvoBZMbpPkxpS+8AuVmLcQDFzGw6k7QgMIY8oDo+IkZW1g0iU3wnRMSuklYGHvJBVXuQtDMwGtiYbFM8AbgQWB8YHBFjymv+ifJ1Y0R84HnwZtZqJK1JFkN9ICLOq9X3qARR/kolE6Vyu5av9SNpf+Bwst38GEk/IAvjfjUibq3bdj6gVhzcWYZmLcY1UMzMprPSVWdr4CVg27p53+8ArwCLlIPIceUEeqYmDdemQYNOS8sAf46IB4A3S1edbcmTiZ9Cdl6JiNsj4rraa+/giZm1EklrAbcD/01OVaQETwZExHNkt7llgUtrLY5rWjF40mBfvxJwegmebEO2Zh4aEbdKmlXSvLUNI+KVSp0jB0/MWowDKGZm/SAiHiRbEgMcWAuiSJoTWBF4pnoQ6YOq1lNXLHgLSSKn7HwG8jWVNGvZfBQwn6Tl6+/Hr72ZzejK/m3y99JB7vvAJGBjScuU5ZNKEOV5sgbIk7RBi+7Kvv44Sd8lg+VjSw2UC8k6VmeUaTt7AOs2uA9PAzBrQQ6gmJn1kxJE2ZXsvnKTpOuB88mCsnvBlINRay118+CPJIsFLw5cAgwo6dxExHvlJh+S9U4mNrg7M7MZVsmWrJ38z1zrnBMRp5OF0dcG9pC0eFk+qUzneToitmrlLMtq5omkrwPfIIvAPwBcDNwG7B0RZ5bN5iAvnizXz0M1s+mkJVuFmZm1qogYV7rx/BqYC7g2Is6ALCpb39LQWkMlePI5YGWySOxTkl4DLgI2kzQHWVxxfuBgsibKk00asplZr9UVjN2X7CYzm6RnI2LfiDi5XAg4GAhJp0fEMw3a9bZkpl3luW8AbAScFBGPSjofWAFYAvhNCRB9CrgAGAT8uCkDNrM+5wwUM7N+FhEPk1ekBgBrSvp0We7gSQuTtA9wOrAAMB4gIt4CTgOuBgYDz5Wf5yM7MHzYYC69mdkMqRJAGEVmm9wHXAfsKemGUgD7JOBHZEHZQyUt0LQBTwelMPw5ZBe9WcriceT+/wVyitJ9wPXAPMB6rZx1Y2Yf5S48ZmZNImkV4EzgaWB4RPy1yUOyXqjvHFFaVZ8PLEh2Yri2sm4g2b54feBV4F532zGzViRpDTKzbs+IuEPSluR0xUNqGZVlu+HklNWt263eh6QVgSuB14F9IuKeknkzP7AlWUj3H8DV3tebtRcHUMzMmqgciB4P7BQRLzZ7PNYzdWnsywHvkYGwxYDfkRkoR5fCijRqVen2lWbWCqo1nsrvXwLOiIjlJQ0ma38MjYgzS2H0LSPi0upt6++jHZQgys+A+4HRpc5Zo+28rzdrI04bNjNrooi4m5zK4eBJi6jrtjOKTF+/hzyI/gKwFVkw8JASIGs4398H1GbWCio1nvaQNIwsfv2cpP2oBE/K5v8FbFPqQdGuwROYXBh+CNnC+ABJK3Sxnff1Zm3EARQzsyardGaxGVy1+0QpBrwL8D1gH+BXwM/JaTpfJg+qD5a0TnNGa2bWNyTNAmxCtuN9GlgUOBk4thY8kTQbMBwI4C+127Zj8KQmIu4Hdgc+B4yUtFSTh2Rm05mn8JiZmfVSqXeyEzA+Ik4oywaSRQXPBjYFXgb+RKZ2D2vWWM3MpkVlGs5yZLvewcDzwN1kBt4dwEvAHmQNkFUi4v36OlHtTNKawHeAb3fKczbrVA6gmJmZ9ULpwDCGbFF5fESMrKwbBJwHTIiIXSWtDDzkFG4zaxWNptyUAqn/AfwEWCgitpa0PnAQ2br972SXsd0jYlInFk2tBJo6JnBk1okcQDEzM+ulUjzwKuBtYEhE3FdZdyqwPLBJpVaKiwiaWUuR9D3gQ+DnEfFaWbYtcC7w1Yj4g6Q5gIFk0Pjtsk3HBU9q2rXei5lN4RooZmZmvVSKB25Tfj1Q0qoApQPFisAz1SuQDp6YWSsp2XRLAicAl0g6rmRWXAFcBhwjac6I+L+IeK0SPFGnBk+gveu9mFlyBoqZmdnHVKboXEJO5xkLvEuedHw+Iib6aqSZtTJJS5OdZrYlM03OBmYG1gZGRsRdTRyemVm/cwDFzMxsGpTWlb8GXgAujogzyvKBETGxqYMzM5tGkmYGZgJ+ACwLbAwMAoZFxA+bOTYzs/7mAIqZmdk0KpkoZ5KtO4+LiMeaPCQzsz5RzaSTtCjZqv1rwA6dPF3HzDqTAyhmZmZ9QNIqZBDlaWB4RPy1yUMyM+sTXU1H7OSCsWbWmVxE1szMrA9ExP3AvmQ9lDeaPBwzsz7TRVtjHDwxs07jDBQzM7M+JGnWiHiv2eMwMzMzs77lAIqZmZmZmZmZWTc8hcfMzMzMzMzMrBsOoJiZmZmZmZmZdcMBFDMzMzMzMzOzbjiAYmZmZmZmZvmTh+MAAApQSURBVGbWDQdQzMzMrM9J2k1SSNqtbvlTkp5qzqgakzRzGestzR7LxyHp4jL+RZo9lulF0h7lOe7c7LGYmVnncgDFzMysQ5QT0JD0tKRZu9jmqbLNzP09vrpxHFPGMaoH255dtj2gP8Zm/07SwBLkuEHSi5ImSnpL0v2STpS0QrPHaGZmNq0cQDEzM+s8iwEzerDhbCCA3SQN6GojSXMAOwATgIv6aWxWIWk54EHyNVsduBX4MXAu8BKwD/CApC2aNkgzM7M+0NSrS2ZmZtbvXicDE4dLOiciXmn2gBqJiCfLlJpNgK2Aq7rYdEdgTuCSiHi1v8ZnSdJCwO+AhcmgybCIeLdumwWAo4B5+n+EZmZmfccZKGZmZp3lHWAk8AngyJ7cQNL6ZYrMiC7WT6+6JmeV73tOZZs96rZF0tySDpF0m6Tny3SSlyRdI2nNnj741GqLSNq4rDuiwbpPShol6VFJ70p6Q9LNkjZusO0skg4oU11el/R2+XteI2nDno61+A9JB0saL+k9Sc9K+rGkOSuPN0DSC2VMg7p43meU5za4B495DBk8uSgihtYHTwAi4p8RsTdwRd3jLCzp9DKlbEJ5ja6UtEpPnmx3tWsavX6SlinLzpG0rKSrJL1Wphv9RtJny3bzl21eLH/LsZK+1OAxflDub11JO0i6W9I7kl6VdEkJMJmZWZtwAMXMzKzznAY8Duwl6dPNHsxU/IqcArKppMXqV5a6GmsBj0XEHyqrVgB+ALwPXAucSGZJbAL8sVEgo69IWhK4FzgE+CdwOnB5GdNvJQ2pu8lFwGjymOxC4CfAHcDKwKa9fPifAIcDtwEnk9lGBwK3SJoFICImAecAc5FTn+rHPzvwDeAF4LpunmttW8gMk6mKiAmV2y5N/p32Bh4jX6ObyWyjOyVt3t39TaOlgD8D8wHnA7cAmwG/l7RMWbcqcBn5+q0C/KZRMK3YH7gAeIJ8f/0V2In82w+cfk/DzMz6k6fwmJmZdZiImCTpMPLE8DhgmyYPqaEyzgvIYMTuwIi6TWqZKWfXLX8YWKh+So+kxckT49HA5/p6vMVFZI2Z7SPi8spjzwPcDpwq6bqIeFnSvMC2ZUxfiIgP68b7yV4+9ueBlSLi2XL7/wGuBAaTgZRjy3ZnAf8D7EUGD6p2IqdEjY6ID7p5vDWBgcDTEfF4L8d6FrAgcFhETC4ULOkM4PfAzyQtHhHv9PJ+e2qDBo99FDAcGAtcCuxXe00k3QqcB3wPOLjB/W0GrB4Rfynbiwy+bAdsSddT0MzMrIU4A8XMzKwDRcQVwJ3A1pLWbfZ4pqJWTHaIpMnHLSWjYmdgIpm5MVlEvNGoHkpEPE2eyK4gaeG+Hqik1YB1gMuqwZPy2K+TAaBBwNa1xYCACfXBk3Kb3tZ0GV0LnpTbf0Ce7AcZgKotf47MzFlL0kp197EX8AGZpdKd2vSU53ozSElLABsCT5J1UyaLiDuAX5KZIV/rzf320uPA8XXLav9HMwOH1L0mFwMfkplBjYyuBU8AIiKYEtjr8bQxMzObsTmAYmZm1rkOKt9/XK6Yz3Ai4u9kRsJi5FX+mq8D8wJXR8TL9beTtJ6ky0sdkAmlTkUA3ymb/Od0GO7ny/d5JI2o/wJqU4eWh8lBlRuBL5YaKMOU9WZm+5iP/4f6BRHxN3I6zjLVWijAT8v3vWoLSu2R1YEbqoGYqaj9z0Qvx1mrcXJ7RLzfYP2tddtND/c3CFq9UL6Pj4i3qyvK1KeXga6m8NzTYFntb+jiuWZmbcJTeMzMzDpURNwp6QpyGsn25JSDGdFZ5JSLPciAA3Q9fQdJ2wG/AN4l62o8AbxNZhBsCKwHzDIdxlmbcrMZHw321Juj8vO2wGHk1Jmjy7J3JV0ODG0UHJqKf3ax/B9kwOgTwL/KsluAvwHflHRwCRjUgiln9vDxagGHroIKXZmrfH+xi/W15XP38n57480Gy96fyrra+q5aar8xlfubqRfjMjOzGZgzUMzMzDrbYcAk4NipFLusXanv6sLLXF0s7ytXAa8AW0laoBT5/BI5DePWBtuPBN4DVouIrSPioIgYHhEjyKBBT03teTc6ua+deO8bEZrK1+SuQhHxThnbssDiwC7k1KpvkVNZemOBLpYvWL6/VXncAM4ggyo7VQrCPsOUIFV3xpJTqJYoRWF7qvZ3WrCL9QvVbdeV7v4vp2cAxszMOpADKGZmZh2sFP/8KbAksF8Xm71evi9av6IEM6briWpE1OqcDAB2JTNRBJxdAgH1lgYejojxdWOdiaxR0lNdPm9yqku9u8r39XrxGJNFxDMRcTHZfedJYH1JvQlONWqzuyzZZvjvEfGvutXnk1k6ezGleOw5jeqxdDHet4FLyq/Dutu+1gkIuL98X6+8JvU2KN/v6+bxPySDQo3+L2cG6uu7mJmZTRMHUMzMzOxocgrC//LR6SU1j5InqoMlzV9bWGp1nNIvI5wyVWdPMogyiWwb28jTwGckTc5wKDVejgY+04vHHFt5zMlK4dXv1m8cEXeR2SPbS9q10R1KWknSfOXnBSSt0WCz2cvXJKZMA+mJ70uaHEwowYnjyWBTfbedWg2Wy8hg0IjyWOf24vEgu/m8AOwq6ThJs9ZvIOlTkk4jpysREU+RrZaXpi5oJ2kdsr3yq2Qb6+6MBZaStGHd8iPp/dQiMzOzqXINFDMzsw4XEa9JOgb4URfrJ0k6mcwyuF/S1eQxxCbkyfMLjW7Xx2McL+l24Itl0ZUR0VXNj9HAqcA4SVeSgYH1gE8D15FtZXviKnKa0C6SFgPuJqfZDAauIevG1NsR+B1wgaQDyBP8N8iT+ZWBzwJrkFOSFgXGSnqEzLZ4jpwOtSUwP3BifTHTbtwJPCDpl+T0l83Jds13U9ftpuKnwG5kjZSrI6JXr2VEvChpI/LvcSjZLelmsoDqLGTB3PXJdsfXVW66F/BHYLSkzYF7yULB25Gv1249fO4nABsB10v6BZk1tE65r+r/i5mZ2TRzBoqZmZlBZpI8NZX1RwKHk7VF/hvYAriSLJY6aXoPrjiri58/IiJOA75NFlUdAnyTfG5rAQ/09MEi4l2y6Ozl5HSQfckAyvY0KF5bbvMMsBoZbIry2PuRHXqeJP92j5TNHyczP14qj3Mg2eL4cTIQM7SnYy32A44lp8AcQHYpGg1sFBETuhjv3cDD5deeFo+tv49HgRXJ53Yf2W3oIDJz5z/L/a4YETdWbvM38u90JhlkGQp8GbgeWCciqsGWqT32TWRHpkfIGi67kn+/NZnSBcfMzKxPqPHUYTMzMzNrd6XGyvNkEGfpLmrKmJmZGc5AMTMzM+tk+5L1Vk5z8MTMzGzqnIFiZmZm1kEkzQ3sTdZl2ZPMPlmul/VWzMzMOo4DKGZmZmYdpLSe/htZz+YeYL+IGNfcUZmZmc34HEAxMzMzMzMzM+uGa6CYmZmZmZmZmXXDARQzMzMzMzMzs244gGJmZmZmZmZm1g0HUMzMzMzMzMzMuuEAipmZmZmZmZlZN/4fm8Pm3uDg6EgAAAAASUVORK5CYII=\n",
      "text/plain": [
       "<Figure size 1224x504 with 1 Axes>"
      ]
     },
     "metadata": {
      "needs_background": "light"
     },
     "output_type": "display_data"
    }
   ],
   "source": [
    "plt.figure(figsize=(17,7))\n",
    "df.isna().sum().plot(kind='bar')\n",
    "plt.xticks(rotation=45, fontsize=14, ha='right')\n",
    "plt.title('Null Values by Column', fontsize=40, pad=-40)\n",
    "plt.ylabel('Null Value  \\n Counts', rotation='horizontal', fontsize=20, wrap='True', ha='right')\n",
    "plt.xlabel('Null Values by Column', fontsize=20, ha='center')\n",
    "plt.show()"
   ]
  },
  {
   "cell_type": "markdown",
   "metadata": {
    "ExecuteTime": {
     "end_time": "2020-03-20T18:44:50.612996Z",
     "start_time": "2020-03-20T18:44:50.607997Z"
    }
   },
   "source": [
    "<a id='dropping_nulls'></a>\n",
    "#### Dropping the Null Values"
   ]
  },
  {
   "cell_type": "code",
   "execution_count": 12,
   "metadata": {
    "ExecuteTime": {
     "end_time": "2020-03-17T19:58:11.610767Z",
     "start_time": "2020-03-17T19:58:10.955276Z"
    }
   },
   "outputs": [],
   "source": [
    "df.dropna(inplace=True)"
   ]
  },
  {
   "cell_type": "code",
   "execution_count": 13,
   "metadata": {
    "ExecuteTime": {
     "end_time": "2020-03-17T19:58:12.238328Z",
     "start_time": "2020-03-17T19:58:11.747954Z"
    }
   },
   "outputs": [
    {
     "data": {
      "text/plain": [
       "marketplace          0\n",
       "customer_id          0\n",
       "review_id            0\n",
       "product_id           0\n",
       "product_parent       0\n",
       "product_title        0\n",
       "product_category     0\n",
       "star_rating          0\n",
       "helpful_votes        0\n",
       "total_votes          0\n",
       "vine                 0\n",
       "verified_purchase    0\n",
       "review_headline      0\n",
       "review_body          0\n",
       "review_date          0\n",
       "dtype: int64"
      ]
     },
     "execution_count": 13,
     "metadata": {},
     "output_type": "execute_result"
    }
   ],
   "source": [
    "df.isna().sum()"
   ]
  },
  {
   "cell_type": "code",
   "execution_count": 14,
   "metadata": {
    "ExecuteTime": {
     "end_time": "2020-03-17T19:58:12.532328Z",
     "start_time": "2020-03-17T19:58:12.365327Z"
    }
   },
   "outputs": [],
   "source": [
    "df = df.loc[df['star_rating'] != 3]"
   ]
  },
  {
   "cell_type": "code",
   "execution_count": 15,
   "metadata": {
    "ExecuteTime": {
     "end_time": "2020-03-17T19:58:13.004893Z",
     "start_time": "2020-03-17T19:58:12.655487Z"
    }
   },
   "outputs": [
    {
     "data": {
      "text/plain": [
       "<matplotlib.axes._subplots.AxesSubplot at 0x24b4a03a860>"
      ]
     },
     "execution_count": 15,
     "metadata": {},
     "output_type": "execute_result"
    },
    {
     "data": {
      "image/png": "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\n",
      "text/plain": [
       "<Figure size 432x288 with 1 Axes>"
      ]
     },
     "metadata": {
      "needs_background": "light"
     },
     "output_type": "display_data"
    }
   ],
   "source": [
    "df.star_rating.value_counts().plot(kind='bar')"
   ]
  },
  {
   "cell_type": "code",
   "execution_count": 16,
   "metadata": {
    "ExecuteTime": {
     "end_time": "2020-03-17T19:58:13.183608Z",
     "start_time": "2020-03-17T19:58:13.140458Z"
    }
   },
   "outputs": [
    {
     "data": {
      "text/html": [
       "<div>\n",
       "<style scoped>\n",
       "    .dataframe tbody tr th:only-of-type {\n",
       "        vertical-align: middle;\n",
       "    }\n",
       "\n",
       "    .dataframe tbody tr th {\n",
       "        vertical-align: top;\n",
       "    }\n",
       "\n",
       "    .dataframe thead th {\n",
       "        text-align: right;\n",
       "    }\n",
       "</style>\n",
       "<table border=\"1\" class=\"dataframe\">\n",
       "  <thead>\n",
       "    <tr style=\"text-align: right;\">\n",
       "      <th></th>\n",
       "      <th>marketplace</th>\n",
       "      <th>customer_id</th>\n",
       "      <th>review_id</th>\n",
       "      <th>product_id</th>\n",
       "      <th>product_parent</th>\n",
       "      <th>product_title</th>\n",
       "      <th>product_category</th>\n",
       "      <th>star_rating</th>\n",
       "      <th>helpful_votes</th>\n",
       "      <th>total_votes</th>\n",
       "      <th>vine</th>\n",
       "      <th>verified_purchase</th>\n",
       "      <th>review_headline</th>\n",
       "      <th>review_body</th>\n",
       "      <th>review_date</th>\n",
       "    </tr>\n",
       "  </thead>\n",
       "  <tbody>\n",
       "    <tr>\n",
       "      <th>0</th>\n",
       "      <td>US</td>\n",
       "      <td>25416447</td>\n",
       "      <td>R1ZY2MOSFLC3IU</td>\n",
       "      <td>B00P170G5Q</td>\n",
       "      <td>201428350</td>\n",
       "      <td>New Waterproof Shockproof Dirtproof Snowproof ...</td>\n",
       "      <td>Wireless</td>\n",
       "      <td>2.0</td>\n",
       "      <td>2.0</td>\n",
       "      <td>2.0</td>\n",
       "      <td>N</td>\n",
       "      <td>Y</td>\n",
       "      <td>I cannot close one side of the case completely...</td>\n",
       "      <td>I cannot close one side of the case completely...</td>\n",
       "      <td>2015-01-05</td>\n",
       "    </tr>\n",
       "    <tr>\n",
       "      <th>2</th>\n",
       "      <td>US</td>\n",
       "      <td>24545878</td>\n",
       "      <td>R1IPE13DS5KNA3</td>\n",
       "      <td>B007PRVA96</td>\n",
       "      <td>437290944</td>\n",
       "      <td>MYBAT Heart Galaxy Diamante Phone Protector Co...</td>\n",
       "      <td>Wireless</td>\n",
       "      <td>5.0</td>\n",
       "      <td>0.0</td>\n",
       "      <td>0.0</td>\n",
       "      <td>N</td>\n",
       "      <td>Y</td>\n",
       "      <td>Great case!</td>\n",
       "      <td>This case is so pretty and sparkly and I get c...</td>\n",
       "      <td>2012-12-26</td>\n",
       "    </tr>\n",
       "    <tr>\n",
       "      <th>3</th>\n",
       "      <td>US</td>\n",
       "      <td>12801326</td>\n",
       "      <td>RZJPGXYSHQZ2H</td>\n",
       "      <td>B000UU7ZPS</td>\n",
       "      <td>134650851</td>\n",
       "      <td>Garmin nüvi 260 3.5-Inch Portable GPS Navigator</td>\n",
       "      <td>Wireless</td>\n",
       "      <td>5.0</td>\n",
       "      <td>1.0</td>\n",
       "      <td>1.0</td>\n",
       "      <td>N</td>\n",
       "      <td>Y</td>\n",
       "      <td>Excellent GPS</td>\n",
       "      <td>I previously owned the Garmin C330. This was a...</td>\n",
       "      <td>2008-01-14</td>\n",
       "    </tr>\n",
       "    <tr>\n",
       "      <th>4</th>\n",
       "      <td>US</td>\n",
       "      <td>51044660</td>\n",
       "      <td>R1TXRMU7BZGGP8</td>\n",
       "      <td>B00SHZDSRW</td>\n",
       "      <td>249550984</td>\n",
       "      <td>iPod Touch 5 / iPod Touch 6, Touch 5 / Touch 6...</td>\n",
       "      <td>Wireless</td>\n",
       "      <td>5.0</td>\n",
       "      <td>0.0</td>\n",
       "      <td>0.0</td>\n",
       "      <td>N</td>\n",
       "      <td>Y</td>\n",
       "      <td>Great Buy and Value</td>\n",
       "      <td>Bought this for my granddaughter and she absol...</td>\n",
       "      <td>2015-07-16</td>\n",
       "    </tr>\n",
       "    <tr>\n",
       "      <th>5</th>\n",
       "      <td>US</td>\n",
       "      <td>45144433</td>\n",
       "      <td>R26X196L9VOYKG</td>\n",
       "      <td>B0098FKHBU</td>\n",
       "      <td>411042352</td>\n",
       "      <td>Incipio Dual PRO for iPhone 5</td>\n",
       "      <td>Wireless</td>\n",
       "      <td>5.0</td>\n",
       "      <td>0.0</td>\n",
       "      <td>0.0</td>\n",
       "      <td>N</td>\n",
       "      <td>Y</td>\n",
       "      <td>pretty case</td>\n",
       "      <td>This is a pretty case and seems to be a good p...</td>\n",
       "      <td>2013-07-23</td>\n",
       "    </tr>\n",
       "  </tbody>\n",
       "</table>\n",
       "</div>"
      ],
      "text/plain": [
       "  marketplace  customer_id       review_id  product_id  product_parent  \\\n",
       "0          US     25416447  R1ZY2MOSFLC3IU  B00P170G5Q       201428350   \n",
       "2          US     24545878  R1IPE13DS5KNA3  B007PRVA96       437290944   \n",
       "3          US     12801326   RZJPGXYSHQZ2H  B000UU7ZPS       134650851   \n",
       "4          US     51044660  R1TXRMU7BZGGP8  B00SHZDSRW       249550984   \n",
       "5          US     45144433  R26X196L9VOYKG  B0098FKHBU       411042352   \n",
       "\n",
       "                                       product_title product_category  \\\n",
       "0  New Waterproof Shockproof Dirtproof Snowproof ...         Wireless   \n",
       "2  MYBAT Heart Galaxy Diamante Phone Protector Co...         Wireless   \n",
       "3    Garmin nüvi 260 3.5-Inch Portable GPS Navigator         Wireless   \n",
       "4  iPod Touch 5 / iPod Touch 6, Touch 5 / Touch 6...         Wireless   \n",
       "5                      Incipio Dual PRO for iPhone 5         Wireless   \n",
       "\n",
       "   star_rating  helpful_votes  total_votes vine verified_purchase  \\\n",
       "0          2.0            2.0          2.0    N                 Y   \n",
       "2          5.0            0.0          0.0    N                 Y   \n",
       "3          5.0            1.0          1.0    N                 Y   \n",
       "4          5.0            0.0          0.0    N                 Y   \n",
       "5          5.0            0.0          0.0    N                 Y   \n",
       "\n",
       "                                     review_headline  \\\n",
       "0  I cannot close one side of the case completely...   \n",
       "2                                        Great case!   \n",
       "3                                      Excellent GPS   \n",
       "4                                Great Buy and Value   \n",
       "5                                        pretty case   \n",
       "\n",
       "                                         review_body review_date  \n",
       "0  I cannot close one side of the case completely...  2015-01-05  \n",
       "2  This case is so pretty and sparkly and I get c...  2012-12-26  \n",
       "3  I previously owned the Garmin C330. This was a...  2008-01-14  \n",
       "4  Bought this for my granddaughter and she absol...  2015-07-16  \n",
       "5  This is a pretty case and seems to be a good p...  2013-07-23  "
      ]
     },
     "execution_count": 16,
     "metadata": {},
     "output_type": "execute_result"
    }
   ],
   "source": [
    "df.head()"
   ]
  },
  {
   "cell_type": "code",
   "execution_count": 17,
   "metadata": {
    "ExecuteTime": {
     "end_time": "2020-03-17T19:58:14.114564Z",
     "start_time": "2020-03-17T19:58:14.108566Z"
    }
   },
   "outputs": [],
   "source": [
    "# create a function that categorizes the star ratings into positive(1) or negative(0)\n",
    "def sentiment(row):\n",
    "    if row > 3:\n",
    "        return 1\n",
    "    if row < 3:\n",
    "        return 0"
   ]
  },
  {
   "cell_type": "code",
   "execution_count": 18,
   "metadata": {
    "ExecuteTime": {
     "end_time": "2020-03-17T19:58:14.746773Z",
     "start_time": "2020-03-17T19:58:14.290619Z"
    }
   },
   "outputs": [],
   "source": [
    "df['sentiment'] = df['star_rating'].map(sentiment)"
   ]
  },
  {
   "cell_type": "code",
   "execution_count": 19,
   "metadata": {
    "ExecuteTime": {
     "end_time": "2020-03-17T19:58:14.920034Z",
     "start_time": "2020-03-17T19:58:14.883507Z"
    }
   },
   "outputs": [
    {
     "data": {
      "text/html": [
       "<div>\n",
       "<style scoped>\n",
       "    .dataframe tbody tr th:only-of-type {\n",
       "        vertical-align: middle;\n",
       "    }\n",
       "\n",
       "    .dataframe tbody tr th {\n",
       "        vertical-align: top;\n",
       "    }\n",
       "\n",
       "    .dataframe thead th {\n",
       "        text-align: right;\n",
       "    }\n",
       "</style>\n",
       "<table border=\"1\" class=\"dataframe\">\n",
       "  <thead>\n",
       "    <tr style=\"text-align: right;\">\n",
       "      <th></th>\n",
       "      <th>marketplace</th>\n",
       "      <th>customer_id</th>\n",
       "      <th>review_id</th>\n",
       "      <th>product_id</th>\n",
       "      <th>product_parent</th>\n",
       "      <th>product_title</th>\n",
       "      <th>product_category</th>\n",
       "      <th>star_rating</th>\n",
       "      <th>helpful_votes</th>\n",
       "      <th>total_votes</th>\n",
       "      <th>vine</th>\n",
       "      <th>verified_purchase</th>\n",
       "      <th>review_headline</th>\n",
       "      <th>review_body</th>\n",
       "      <th>review_date</th>\n",
       "      <th>sentiment</th>\n",
       "    </tr>\n",
       "  </thead>\n",
       "  <tbody>\n",
       "    <tr>\n",
       "      <th>0</th>\n",
       "      <td>US</td>\n",
       "      <td>25416447</td>\n",
       "      <td>R1ZY2MOSFLC3IU</td>\n",
       "      <td>B00P170G5Q</td>\n",
       "      <td>201428350</td>\n",
       "      <td>New Waterproof Shockproof Dirtproof Snowproof ...</td>\n",
       "      <td>Wireless</td>\n",
       "      <td>2.0</td>\n",
       "      <td>2.0</td>\n",
       "      <td>2.0</td>\n",
       "      <td>N</td>\n",
       "      <td>Y</td>\n",
       "      <td>I cannot close one side of the case completely...</td>\n",
       "      <td>I cannot close one side of the case completely...</td>\n",
       "      <td>2015-01-05</td>\n",
       "      <td>0</td>\n",
       "    </tr>\n",
       "    <tr>\n",
       "      <th>2</th>\n",
       "      <td>US</td>\n",
       "      <td>24545878</td>\n",
       "      <td>R1IPE13DS5KNA3</td>\n",
       "      <td>B007PRVA96</td>\n",
       "      <td>437290944</td>\n",
       "      <td>MYBAT Heart Galaxy Diamante Phone Protector Co...</td>\n",
       "      <td>Wireless</td>\n",
       "      <td>5.0</td>\n",
       "      <td>0.0</td>\n",
       "      <td>0.0</td>\n",
       "      <td>N</td>\n",
       "      <td>Y</td>\n",
       "      <td>Great case!</td>\n",
       "      <td>This case is so pretty and sparkly and I get c...</td>\n",
       "      <td>2012-12-26</td>\n",
       "      <td>1</td>\n",
       "    </tr>\n",
       "    <tr>\n",
       "      <th>3</th>\n",
       "      <td>US</td>\n",
       "      <td>12801326</td>\n",
       "      <td>RZJPGXYSHQZ2H</td>\n",
       "      <td>B000UU7ZPS</td>\n",
       "      <td>134650851</td>\n",
       "      <td>Garmin nüvi 260 3.5-Inch Portable GPS Navigator</td>\n",
       "      <td>Wireless</td>\n",
       "      <td>5.0</td>\n",
       "      <td>1.0</td>\n",
       "      <td>1.0</td>\n",
       "      <td>N</td>\n",
       "      <td>Y</td>\n",
       "      <td>Excellent GPS</td>\n",
       "      <td>I previously owned the Garmin C330. This was a...</td>\n",
       "      <td>2008-01-14</td>\n",
       "      <td>1</td>\n",
       "    </tr>\n",
       "    <tr>\n",
       "      <th>4</th>\n",
       "      <td>US</td>\n",
       "      <td>51044660</td>\n",
       "      <td>R1TXRMU7BZGGP8</td>\n",
       "      <td>B00SHZDSRW</td>\n",
       "      <td>249550984</td>\n",
       "      <td>iPod Touch 5 / iPod Touch 6, Touch 5 / Touch 6...</td>\n",
       "      <td>Wireless</td>\n",
       "      <td>5.0</td>\n",
       "      <td>0.0</td>\n",
       "      <td>0.0</td>\n",
       "      <td>N</td>\n",
       "      <td>Y</td>\n",
       "      <td>Great Buy and Value</td>\n",
       "      <td>Bought this for my granddaughter and she absol...</td>\n",
       "      <td>2015-07-16</td>\n",
       "      <td>1</td>\n",
       "    </tr>\n",
       "    <tr>\n",
       "      <th>5</th>\n",
       "      <td>US</td>\n",
       "      <td>45144433</td>\n",
       "      <td>R26X196L9VOYKG</td>\n",
       "      <td>B0098FKHBU</td>\n",
       "      <td>411042352</td>\n",
       "      <td>Incipio Dual PRO for iPhone 5</td>\n",
       "      <td>Wireless</td>\n",
       "      <td>5.0</td>\n",
       "      <td>0.0</td>\n",
       "      <td>0.0</td>\n",
       "      <td>N</td>\n",
       "      <td>Y</td>\n",
       "      <td>pretty case</td>\n",
       "      <td>This is a pretty case and seems to be a good p...</td>\n",
       "      <td>2013-07-23</td>\n",
       "      <td>1</td>\n",
       "    </tr>\n",
       "  </tbody>\n",
       "</table>\n",
       "</div>"
      ],
      "text/plain": [
       "  marketplace  customer_id       review_id  product_id  product_parent  \\\n",
       "0          US     25416447  R1ZY2MOSFLC3IU  B00P170G5Q       201428350   \n",
       "2          US     24545878  R1IPE13DS5KNA3  B007PRVA96       437290944   \n",
       "3          US     12801326   RZJPGXYSHQZ2H  B000UU7ZPS       134650851   \n",
       "4          US     51044660  R1TXRMU7BZGGP8  B00SHZDSRW       249550984   \n",
       "5          US     45144433  R26X196L9VOYKG  B0098FKHBU       411042352   \n",
       "\n",
       "                                       product_title product_category  \\\n",
       "0  New Waterproof Shockproof Dirtproof Snowproof ...         Wireless   \n",
       "2  MYBAT Heart Galaxy Diamante Phone Protector Co...         Wireless   \n",
       "3    Garmin nüvi 260 3.5-Inch Portable GPS Navigator         Wireless   \n",
       "4  iPod Touch 5 / iPod Touch 6, Touch 5 / Touch 6...         Wireless   \n",
       "5                      Incipio Dual PRO for iPhone 5         Wireless   \n",
       "\n",
       "   star_rating  helpful_votes  total_votes vine verified_purchase  \\\n",
       "0          2.0            2.0          2.0    N                 Y   \n",
       "2          5.0            0.0          0.0    N                 Y   \n",
       "3          5.0            1.0          1.0    N                 Y   \n",
       "4          5.0            0.0          0.0    N                 Y   \n",
       "5          5.0            0.0          0.0    N                 Y   \n",
       "\n",
       "                                     review_headline  \\\n",
       "0  I cannot close one side of the case completely...   \n",
       "2                                        Great case!   \n",
       "3                                      Excellent GPS   \n",
       "4                                Great Buy and Value   \n",
       "5                                        pretty case   \n",
       "\n",
       "                                         review_body review_date  sentiment  \n",
       "0  I cannot close one side of the case completely...  2015-01-05          0  \n",
       "2  This case is so pretty and sparkly and I get c...  2012-12-26          1  \n",
       "3  I previously owned the Garmin C330. This was a...  2008-01-14          1  \n",
       "4  Bought this for my granddaughter and she absol...  2015-07-16          1  \n",
       "5  This is a pretty case and seems to be a good p...  2013-07-23          1  "
      ]
     },
     "execution_count": 19,
     "metadata": {},
     "output_type": "execute_result"
    }
   ],
   "source": [
    "df.head()"
   ]
  },
  {
   "cell_type": "code",
   "execution_count": 20,
   "metadata": {
    "ExecuteTime": {
     "end_time": "2020-03-17T19:58:15.403257Z",
     "start_time": "2020-03-17T19:58:15.097738Z"
    }
   },
   "outputs": [
    {
     "data": {
      "text/plain": [
       "<matplotlib.axes._subplots.AxesSubplot at 0x24b4f5bf5c0>"
      ]
     },
     "execution_count": 20,
     "metadata": {},
     "output_type": "execute_result"
    },
    {
     "data": {
      "image/png": "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\n",
      "text/plain": [
       "<Figure size 432x288 with 1 Axes>"
      ]
     },
     "metadata": {
      "needs_background": "light"
     },
     "output_type": "display_data"
    }
   ],
   "source": [
    "df.sentiment.value_counts().plot(kind='bar')"
   ]
  },
  {
   "cell_type": "code",
   "execution_count": 21,
   "metadata": {
    "ExecuteTime": {
     "end_time": "2020-03-17T19:58:16.390258Z",
     "start_time": "2020-03-17T19:58:16.387266Z"
    }
   },
   "outputs": [],
   "source": [
    "to_drop = ['marketplace','review_id','star_rating','review_date', 'product_title']\n",
    "def drop_cols(df=None, files=None, new_df=None):\n",
    "    new_df = df\n",
    "    for file in files:\n",
    "        new_df = new_df.drop([file], axis=1)\n",
    "    return new_df\n",
    "        "
   ]
  },
  {
   "cell_type": "code",
   "execution_count": 22,
   "metadata": {
    "ExecuteTime": {
     "end_time": "2020-03-17T19:58:17.111254Z",
     "start_time": "2020-03-17T19:58:16.584256Z"
    }
   },
   "outputs": [],
   "source": [
    "dropped_df = drop_cols(df, to_drop)"
   ]
  },
  {
   "cell_type": "code",
   "execution_count": 23,
   "metadata": {
    "ExecuteTime": {
     "end_time": "2020-03-17T19:58:17.351256Z",
     "start_time": "2020-03-17T19:58:17.320257Z"
    }
   },
   "outputs": [
    {
     "data": {
      "text/html": [
       "<div>\n",
       "<style scoped>\n",
       "    .dataframe tbody tr th:only-of-type {\n",
       "        vertical-align: middle;\n",
       "    }\n",
       "\n",
       "    .dataframe tbody tr th {\n",
       "        vertical-align: top;\n",
       "    }\n",
       "\n",
       "    .dataframe thead th {\n",
       "        text-align: right;\n",
       "    }\n",
       "</style>\n",
       "<table border=\"1\" class=\"dataframe\">\n",
       "  <thead>\n",
       "    <tr style=\"text-align: right;\">\n",
       "      <th></th>\n",
       "      <th>customer_id</th>\n",
       "      <th>product_id</th>\n",
       "      <th>product_parent</th>\n",
       "      <th>product_category</th>\n",
       "      <th>helpful_votes</th>\n",
       "      <th>total_votes</th>\n",
       "      <th>vine</th>\n",
       "      <th>verified_purchase</th>\n",
       "      <th>review_headline</th>\n",
       "      <th>review_body</th>\n",
       "      <th>sentiment</th>\n",
       "    </tr>\n",
       "  </thead>\n",
       "  <tbody>\n",
       "    <tr>\n",
       "      <th>0</th>\n",
       "      <td>25416447</td>\n",
       "      <td>B00P170G5Q</td>\n",
       "      <td>201428350</td>\n",
       "      <td>Wireless</td>\n",
       "      <td>2.0</td>\n",
       "      <td>2.0</td>\n",
       "      <td>N</td>\n",
       "      <td>Y</td>\n",
       "      <td>I cannot close one side of the case completely...</td>\n",
       "      <td>I cannot close one side of the case completely...</td>\n",
       "      <td>0</td>\n",
       "    </tr>\n",
       "    <tr>\n",
       "      <th>2</th>\n",
       "      <td>24545878</td>\n",
       "      <td>B007PRVA96</td>\n",
       "      <td>437290944</td>\n",
       "      <td>Wireless</td>\n",
       "      <td>0.0</td>\n",
       "      <td>0.0</td>\n",
       "      <td>N</td>\n",
       "      <td>Y</td>\n",
       "      <td>Great case!</td>\n",
       "      <td>This case is so pretty and sparkly and I get c...</td>\n",
       "      <td>1</td>\n",
       "    </tr>\n",
       "    <tr>\n",
       "      <th>3</th>\n",
       "      <td>12801326</td>\n",
       "      <td>B000UU7ZPS</td>\n",
       "      <td>134650851</td>\n",
       "      <td>Wireless</td>\n",
       "      <td>1.0</td>\n",
       "      <td>1.0</td>\n",
       "      <td>N</td>\n",
       "      <td>Y</td>\n",
       "      <td>Excellent GPS</td>\n",
       "      <td>I previously owned the Garmin C330. This was a...</td>\n",
       "      <td>1</td>\n",
       "    </tr>\n",
       "    <tr>\n",
       "      <th>4</th>\n",
       "      <td>51044660</td>\n",
       "      <td>B00SHZDSRW</td>\n",
       "      <td>249550984</td>\n",
       "      <td>Wireless</td>\n",
       "      <td>0.0</td>\n",
       "      <td>0.0</td>\n",
       "      <td>N</td>\n",
       "      <td>Y</td>\n",
       "      <td>Great Buy and Value</td>\n",
       "      <td>Bought this for my granddaughter and she absol...</td>\n",
       "      <td>1</td>\n",
       "    </tr>\n",
       "    <tr>\n",
       "      <th>5</th>\n",
       "      <td>45144433</td>\n",
       "      <td>B0098FKHBU</td>\n",
       "      <td>411042352</td>\n",
       "      <td>Wireless</td>\n",
       "      <td>0.0</td>\n",
       "      <td>0.0</td>\n",
       "      <td>N</td>\n",
       "      <td>Y</td>\n",
       "      <td>pretty case</td>\n",
       "      <td>This is a pretty case and seems to be a good p...</td>\n",
       "      <td>1</td>\n",
       "    </tr>\n",
       "  </tbody>\n",
       "</table>\n",
       "</div>"
      ],
      "text/plain": [
       "   customer_id  product_id  product_parent product_category  helpful_votes  \\\n",
       "0     25416447  B00P170G5Q       201428350         Wireless            2.0   \n",
       "2     24545878  B007PRVA96       437290944         Wireless            0.0   \n",
       "3     12801326  B000UU7ZPS       134650851         Wireless            1.0   \n",
       "4     51044660  B00SHZDSRW       249550984         Wireless            0.0   \n",
       "5     45144433  B0098FKHBU       411042352         Wireless            0.0   \n",
       "\n",
       "   total_votes vine verified_purchase  \\\n",
       "0          2.0    N                 Y   \n",
       "2          0.0    N                 Y   \n",
       "3          1.0    N                 Y   \n",
       "4          0.0    N                 Y   \n",
       "5          0.0    N                 Y   \n",
       "\n",
       "                                     review_headline  \\\n",
       "0  I cannot close one side of the case completely...   \n",
       "2                                        Great case!   \n",
       "3                                      Excellent GPS   \n",
       "4                                Great Buy and Value   \n",
       "5                                        pretty case   \n",
       "\n",
       "                                         review_body  sentiment  \n",
       "0  I cannot close one side of the case completely...          0  \n",
       "2  This case is so pretty and sparkly and I get c...          1  \n",
       "3  I previously owned the Garmin C330. This was a...          1  \n",
       "4  Bought this for my granddaughter and she absol...          1  \n",
       "5  This is a pretty case and seems to be a good p...          1  "
      ]
     },
     "execution_count": 23,
     "metadata": {},
     "output_type": "execute_result"
    }
   ],
   "source": [
    "dropped_df.head()"
   ]
  },
  {
   "cell_type": "code",
   "execution_count": 24,
   "metadata": {
    "ExecuteTime": {
     "end_time": "2020-03-17T19:58:51.151784Z",
     "start_time": "2020-03-17T19:58:17.572256Z"
    }
   },
   "outputs": [],
   "source": [
    "dropped_df.to_csv('cleaned_data.csv.zip', index=False, compression='zip')"
   ]
  },
  {
   "cell_type": "code",
   "execution_count": null,
   "metadata": {},
   "outputs": [],
   "source": []
  }
 ],
 "metadata": {
  "kernelspec": {
   "display_name": "Python [conda env:learn-env] *",
   "language": "python",
   "name": "conda-env-learn-env-py"
  },
  "language_info": {
   "codemirror_mode": {
    "name": "ipython",
    "version": 3
   },
   "file_extension": ".py",
   "mimetype": "text/x-python",
   "name": "python",
   "nbconvert_exporter": "python",
   "pygments_lexer": "ipython3",
   "version": "3.6.6"
  },
  "toc": {
   "base_numbering": 1,
   "nav_menu": {},
   "number_sections": false,
   "sideBar": true,
   "skip_h1_title": false,
   "title_cell": "Table of Contents",
   "title_sidebar": "Contents",
   "toc_cell": false,
   "toc_position": {},
   "toc_section_display": true,
   "toc_window_display": false
  },
  "varInspector": {
   "cols": {
    "lenName": 16,
    "lenType": 16,
    "lenVar": 40
   },
   "kernels_config": {
    "python": {
     "delete_cmd_postfix": "",
     "delete_cmd_prefix": "del ",
     "library": "var_list.py",
     "varRefreshCmd": "print(var_dic_list())"
    },
    "r": {
     "delete_cmd_postfix": ") ",
     "delete_cmd_prefix": "rm(",
     "library": "var_list.r",
     "varRefreshCmd": "cat(var_dic_list()) "
    }
   },
   "types_to_exclude": [
    "module",
    "function",
    "builtin_function_or_method",
    "instance",
    "_Feature"
   ],
   "window_display": false
  }
 },
 "nbformat": 4,
 "nbformat_minor": 2
}
>>>>>>> 131e70b56277d1999191d084d0a0024ae3e71f2e
